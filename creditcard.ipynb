{
 "cells": [
  {
   "cell_type": "markdown",
   "metadata": {},
   "source": [
    "# Detecting anomalies in credit card transaction data (scikit-learn, xgboost, lgbm)\n",
    "\n",
    "Description: Supervised classification procedure for detecting fraudulous credit card transactions in a large dataset.\n",
    "\n",
    "Data: **PCA transformed credit card transaction data** collected in Europe over the course of two days. This anonymized dataset was created by Worldline and the Machine Learning Group of Université Libre de Bruxelles (http://mlg.ulb.ac.be). "
   ]
  },
  {
   "cell_type": "markdown",
   "metadata": {},
   "source": [
    "## 1) Data preparation"
   ]
  },
  {
   "cell_type": "code",
   "execution_count": 1,
   "metadata": {},
   "outputs": [],
   "source": [
    "# Import modules\n",
    "%matplotlib inline\n",
    "import numpy as np\n",
    "import pandas as pd\n",
    "from matplotlib import pyplot as plt\n",
    "import scipy.stats as stats\n",
    "#import matplotlib.pyplot as plt\n",
    "import seaborn as sns\n",
    "plt.style.use('ggplot')"
   ]
  },
  {
   "cell_type": "code",
   "execution_count": 2,
   "metadata": {},
   "outputs": [
    {
     "data": {
      "text/html": [
       "<div>\n",
       "<style scoped>\n",
       "    .dataframe tbody tr th:only-of-type {\n",
       "        vertical-align: middle;\n",
       "    }\n",
       "\n",
       "    .dataframe tbody tr th {\n",
       "        vertical-align: top;\n",
       "    }\n",
       "\n",
       "    .dataframe thead th {\n",
       "        text-align: right;\n",
       "    }\n",
       "</style>\n",
       "<table border=\"1\" class=\"dataframe\">\n",
       "  <thead>\n",
       "    <tr style=\"text-align: right;\">\n",
       "      <th></th>\n",
       "      <th>Time</th>\n",
       "      <th>V1</th>\n",
       "      <th>V2</th>\n",
       "      <th>V3</th>\n",
       "      <th>V4</th>\n",
       "      <th>V5</th>\n",
       "      <th>V6</th>\n",
       "      <th>V7</th>\n",
       "      <th>V8</th>\n",
       "      <th>V9</th>\n",
       "      <th>...</th>\n",
       "      <th>V21</th>\n",
       "      <th>V22</th>\n",
       "      <th>V23</th>\n",
       "      <th>V24</th>\n",
       "      <th>V25</th>\n",
       "      <th>V26</th>\n",
       "      <th>V27</th>\n",
       "      <th>V28</th>\n",
       "      <th>Amount</th>\n",
       "      <th>Class</th>\n",
       "    </tr>\n",
       "  </thead>\n",
       "  <tbody>\n",
       "    <tr>\n",
       "      <td>count</td>\n",
       "      <td>284807.000</td>\n",
       "      <td>2.848e+05</td>\n",
       "      <td>2.848e+05</td>\n",
       "      <td>2.848e+05</td>\n",
       "      <td>2.848e+05</td>\n",
       "      <td>2.848e+05</td>\n",
       "      <td>2.848e+05</td>\n",
       "      <td>2.848e+05</td>\n",
       "      <td>2.848e+05</td>\n",
       "      <td>2.848e+05</td>\n",
       "      <td>...</td>\n",
       "      <td>2.848e+05</td>\n",
       "      <td>2.848e+05</td>\n",
       "      <td>2.848e+05</td>\n",
       "      <td>2.848e+05</td>\n",
       "      <td>2.848e+05</td>\n",
       "      <td>2.848e+05</td>\n",
       "      <td>2.848e+05</td>\n",
       "      <td>2.848e+05</td>\n",
       "      <td>284807.000</td>\n",
       "      <td>284807.000</td>\n",
       "    </tr>\n",
       "    <tr>\n",
       "      <td>mean</td>\n",
       "      <td>94813.860</td>\n",
       "      <td>3.920e-15</td>\n",
       "      <td>5.688e-16</td>\n",
       "      <td>-8.769e-15</td>\n",
       "      <td>2.782e-15</td>\n",
       "      <td>-1.553e-15</td>\n",
       "      <td>2.011e-15</td>\n",
       "      <td>-1.694e-15</td>\n",
       "      <td>-1.927e-16</td>\n",
       "      <td>-3.137e-15</td>\n",
       "      <td>...</td>\n",
       "      <td>1.537e-16</td>\n",
       "      <td>7.960e-16</td>\n",
       "      <td>5.368e-16</td>\n",
       "      <td>4.458e-15</td>\n",
       "      <td>1.453e-15</td>\n",
       "      <td>1.699e-15</td>\n",
       "      <td>-3.660e-16</td>\n",
       "      <td>-1.206e-16</td>\n",
       "      <td>88.350</td>\n",
       "      <td>0.002</td>\n",
       "    </tr>\n",
       "    <tr>\n",
       "      <td>std</td>\n",
       "      <td>47488.146</td>\n",
       "      <td>1.959e+00</td>\n",
       "      <td>1.651e+00</td>\n",
       "      <td>1.516e+00</td>\n",
       "      <td>1.416e+00</td>\n",
       "      <td>1.380e+00</td>\n",
       "      <td>1.332e+00</td>\n",
       "      <td>1.237e+00</td>\n",
       "      <td>1.194e+00</td>\n",
       "      <td>1.099e+00</td>\n",
       "      <td>...</td>\n",
       "      <td>7.345e-01</td>\n",
       "      <td>7.257e-01</td>\n",
       "      <td>6.245e-01</td>\n",
       "      <td>6.056e-01</td>\n",
       "      <td>5.213e-01</td>\n",
       "      <td>4.822e-01</td>\n",
       "      <td>4.036e-01</td>\n",
       "      <td>3.301e-01</td>\n",
       "      <td>250.120</td>\n",
       "      <td>0.042</td>\n",
       "    </tr>\n",
       "    <tr>\n",
       "      <td>min</td>\n",
       "      <td>0.000</td>\n",
       "      <td>-5.641e+01</td>\n",
       "      <td>-7.272e+01</td>\n",
       "      <td>-4.833e+01</td>\n",
       "      <td>-5.683e+00</td>\n",
       "      <td>-1.137e+02</td>\n",
       "      <td>-2.616e+01</td>\n",
       "      <td>-4.356e+01</td>\n",
       "      <td>-7.322e+01</td>\n",
       "      <td>-1.343e+01</td>\n",
       "      <td>...</td>\n",
       "      <td>-3.483e+01</td>\n",
       "      <td>-1.093e+01</td>\n",
       "      <td>-4.481e+01</td>\n",
       "      <td>-2.837e+00</td>\n",
       "      <td>-1.030e+01</td>\n",
       "      <td>-2.605e+00</td>\n",
       "      <td>-2.257e+01</td>\n",
       "      <td>-1.543e+01</td>\n",
       "      <td>0.000</td>\n",
       "      <td>0.000</td>\n",
       "    </tr>\n",
       "    <tr>\n",
       "      <td>25%</td>\n",
       "      <td>54201.500</td>\n",
       "      <td>-9.204e-01</td>\n",
       "      <td>-5.985e-01</td>\n",
       "      <td>-8.904e-01</td>\n",
       "      <td>-8.486e-01</td>\n",
       "      <td>-6.916e-01</td>\n",
       "      <td>-7.683e-01</td>\n",
       "      <td>-5.541e-01</td>\n",
       "      <td>-2.086e-01</td>\n",
       "      <td>-6.431e-01</td>\n",
       "      <td>...</td>\n",
       "      <td>-2.284e-01</td>\n",
       "      <td>-5.424e-01</td>\n",
       "      <td>-1.618e-01</td>\n",
       "      <td>-3.546e-01</td>\n",
       "      <td>-3.171e-01</td>\n",
       "      <td>-3.270e-01</td>\n",
       "      <td>-7.084e-02</td>\n",
       "      <td>-5.296e-02</td>\n",
       "      <td>5.600</td>\n",
       "      <td>0.000</td>\n",
       "    </tr>\n",
       "    <tr>\n",
       "      <td>50%</td>\n",
       "      <td>84692.000</td>\n",
       "      <td>1.811e-02</td>\n",
       "      <td>6.549e-02</td>\n",
       "      <td>1.798e-01</td>\n",
       "      <td>-1.985e-02</td>\n",
       "      <td>-5.434e-02</td>\n",
       "      <td>-2.742e-01</td>\n",
       "      <td>4.010e-02</td>\n",
       "      <td>2.236e-02</td>\n",
       "      <td>-5.143e-02</td>\n",
       "      <td>...</td>\n",
       "      <td>-2.945e-02</td>\n",
       "      <td>6.782e-03</td>\n",
       "      <td>-1.119e-02</td>\n",
       "      <td>4.098e-02</td>\n",
       "      <td>1.659e-02</td>\n",
       "      <td>-5.214e-02</td>\n",
       "      <td>1.342e-03</td>\n",
       "      <td>1.124e-02</td>\n",
       "      <td>22.000</td>\n",
       "      <td>0.000</td>\n",
       "    </tr>\n",
       "    <tr>\n",
       "      <td>75%</td>\n",
       "      <td>139320.500</td>\n",
       "      <td>1.316e+00</td>\n",
       "      <td>8.037e-01</td>\n",
       "      <td>1.027e+00</td>\n",
       "      <td>7.433e-01</td>\n",
       "      <td>6.119e-01</td>\n",
       "      <td>3.986e-01</td>\n",
       "      <td>5.704e-01</td>\n",
       "      <td>3.273e-01</td>\n",
       "      <td>5.971e-01</td>\n",
       "      <td>...</td>\n",
       "      <td>1.864e-01</td>\n",
       "      <td>5.286e-01</td>\n",
       "      <td>1.476e-01</td>\n",
       "      <td>4.395e-01</td>\n",
       "      <td>3.507e-01</td>\n",
       "      <td>2.410e-01</td>\n",
       "      <td>9.105e-02</td>\n",
       "      <td>7.828e-02</td>\n",
       "      <td>77.165</td>\n",
       "      <td>0.000</td>\n",
       "    </tr>\n",
       "    <tr>\n",
       "      <td>max</td>\n",
       "      <td>172792.000</td>\n",
       "      <td>2.455e+00</td>\n",
       "      <td>2.206e+01</td>\n",
       "      <td>9.383e+00</td>\n",
       "      <td>1.688e+01</td>\n",
       "      <td>3.480e+01</td>\n",
       "      <td>7.330e+01</td>\n",
       "      <td>1.206e+02</td>\n",
       "      <td>2.001e+01</td>\n",
       "      <td>1.559e+01</td>\n",
       "      <td>...</td>\n",
       "      <td>2.720e+01</td>\n",
       "      <td>1.050e+01</td>\n",
       "      <td>2.253e+01</td>\n",
       "      <td>4.585e+00</td>\n",
       "      <td>7.520e+00</td>\n",
       "      <td>3.517e+00</td>\n",
       "      <td>3.161e+01</td>\n",
       "      <td>3.385e+01</td>\n",
       "      <td>25691.160</td>\n",
       "      <td>1.000</td>\n",
       "    </tr>\n",
       "  </tbody>\n",
       "</table>\n",
       "<p>8 rows × 31 columns</p>\n",
       "</div>"
      ],
      "text/plain": [
       "             Time         V1         V2         V3         V4         V5  \\\n",
       "count  284807.000  2.848e+05  2.848e+05  2.848e+05  2.848e+05  2.848e+05   \n",
       "mean    94813.860  3.920e-15  5.688e-16 -8.769e-15  2.782e-15 -1.553e-15   \n",
       "std     47488.146  1.959e+00  1.651e+00  1.516e+00  1.416e+00  1.380e+00   \n",
       "min         0.000 -5.641e+01 -7.272e+01 -4.833e+01 -5.683e+00 -1.137e+02   \n",
       "25%     54201.500 -9.204e-01 -5.985e-01 -8.904e-01 -8.486e-01 -6.916e-01   \n",
       "50%     84692.000  1.811e-02  6.549e-02  1.798e-01 -1.985e-02 -5.434e-02   \n",
       "75%    139320.500  1.316e+00  8.037e-01  1.027e+00  7.433e-01  6.119e-01   \n",
       "max    172792.000  2.455e+00  2.206e+01  9.383e+00  1.688e+01  3.480e+01   \n",
       "\n",
       "              V6         V7         V8         V9  ...        V21        V22  \\\n",
       "count  2.848e+05  2.848e+05  2.848e+05  2.848e+05  ...  2.848e+05  2.848e+05   \n",
       "mean   2.011e-15 -1.694e-15 -1.927e-16 -3.137e-15  ...  1.537e-16  7.960e-16   \n",
       "std    1.332e+00  1.237e+00  1.194e+00  1.099e+00  ...  7.345e-01  7.257e-01   \n",
       "min   -2.616e+01 -4.356e+01 -7.322e+01 -1.343e+01  ... -3.483e+01 -1.093e+01   \n",
       "25%   -7.683e-01 -5.541e-01 -2.086e-01 -6.431e-01  ... -2.284e-01 -5.424e-01   \n",
       "50%   -2.742e-01  4.010e-02  2.236e-02 -5.143e-02  ... -2.945e-02  6.782e-03   \n",
       "75%    3.986e-01  5.704e-01  3.273e-01  5.971e-01  ...  1.864e-01  5.286e-01   \n",
       "max    7.330e+01  1.206e+02  2.001e+01  1.559e+01  ...  2.720e+01  1.050e+01   \n",
       "\n",
       "             V23        V24        V25        V26        V27        V28  \\\n",
       "count  2.848e+05  2.848e+05  2.848e+05  2.848e+05  2.848e+05  2.848e+05   \n",
       "mean   5.368e-16  4.458e-15  1.453e-15  1.699e-15 -3.660e-16 -1.206e-16   \n",
       "std    6.245e-01  6.056e-01  5.213e-01  4.822e-01  4.036e-01  3.301e-01   \n",
       "min   -4.481e+01 -2.837e+00 -1.030e+01 -2.605e+00 -2.257e+01 -1.543e+01   \n",
       "25%   -1.618e-01 -3.546e-01 -3.171e-01 -3.270e-01 -7.084e-02 -5.296e-02   \n",
       "50%   -1.119e-02  4.098e-02  1.659e-02 -5.214e-02  1.342e-03  1.124e-02   \n",
       "75%    1.476e-01  4.395e-01  3.507e-01  2.410e-01  9.105e-02  7.828e-02   \n",
       "max    2.253e+01  4.585e+00  7.520e+00  3.517e+00  3.161e+01  3.385e+01   \n",
       "\n",
       "           Amount       Class  \n",
       "count  284807.000  284807.000  \n",
       "mean       88.350       0.002  \n",
       "std       250.120       0.042  \n",
       "min         0.000       0.000  \n",
       "25%         5.600       0.000  \n",
       "50%        22.000       0.000  \n",
       "75%        77.165       0.000  \n",
       "max     25691.160       1.000  \n",
       "\n",
       "[8 rows x 31 columns]"
      ]
     },
     "execution_count": 2,
     "metadata": {},
     "output_type": "execute_result"
    }
   ],
   "source": [
    "# Load data\n",
    "df = pd.read_csv('./data/creditcard.csv')\n",
    "# set to 3 decimal place\n",
    "pd.set_option('precision', 3)\n",
    "df.describe()"
   ]
  },
  {
   "cell_type": "code",
   "execution_count": 3,
   "metadata": {},
   "outputs": [
    {
     "name": "stdout",
     "output_type": "stream",
     "text": [
      "This data frame has 284807 rows and 31 columns.\n"
     ]
    }
   ],
   "source": [
    "#shape\n",
    "print('This data frame has {} rows and {} columns.'.format(df.shape[0], df.shape[1]))"
   ]
  },
  {
   "cell_type": "code",
   "execution_count": 4,
   "metadata": {},
   "outputs": [
    {
     "name": "stdout",
     "output_type": "stream",
     "text": [
      "Time      float64\n",
      "V1        float64\n",
      "V2        float64\n",
      "V3        float64\n",
      "V4        float64\n",
      "V5        float64\n",
      "V6        float64\n",
      "V7        float64\n",
      "V8        float64\n",
      "V9        float64\n",
      "V10       float64\n",
      "V11       float64\n",
      "V12       float64\n",
      "V13       float64\n",
      "V14       float64\n",
      "V15       float64\n",
      "V16       float64\n",
      "V17       float64\n",
      "V18       float64\n",
      "V19       float64\n",
      "V20       float64\n",
      "V21       float64\n",
      "V22       float64\n",
      "V23       float64\n",
      "V24       float64\n",
      "V25       float64\n",
      "V26       float64\n",
      "V27       float64\n",
      "V28       float64\n",
      "Amount    float64\n",
      "Class       int64\n",
      "dtype: object\n",
      "Index(['Time', 'V1', 'V2', 'V3', 'V4', 'V5', 'V6', 'V7', 'V8', 'V9', 'V10',\n",
      "       'V11', 'V12', 'V13', 'V14', 'V15', 'V16', 'V17', 'V18', 'V19', 'V20',\n",
      "       'V21', 'V22', 'V23', 'V24', 'V25', 'V26', 'V27', 'V28', 'Amount',\n",
      "       'Class'],\n",
      "      dtype='object')\n"
     ]
    }
   ],
   "source": [
    "# Print data types\n",
    "print(df.dtypes)\n",
    "print(df.columns)"
   ]
  },
  {
   "cell_type": "code",
   "execution_count": 5,
   "metadata": {},
   "outputs": [],
   "source": [
    "# Define X,y\n",
    "X = df.iloc[:,:-2]\n",
    "y = df.iloc[:,-1]"
   ]
  },
  {
   "cell_type": "markdown",
   "metadata": {},
   "source": [
    "## 2) Visualization"
   ]
  },
  {
   "cell_type": "code",
   "execution_count": 6,
   "metadata": {},
   "outputs": [
    {
     "name": "stdout",
     "output_type": "stream",
     "text": [
      "There were 284315 non-fraudulent transactions (99.827%) and 492 fraudulent transactions (0.173%).\n"
     ]
    },
    {
     "data": {
      "text/plain": [
       "Text(0.5, 0, 'Class (0:Non-Fraudulent, 1:Fraudulent)')"
      ]
     },
     "execution_count": 6,
     "metadata": {},
     "output_type": "execute_result"
    },
    {
     "data": {
      "image/png": "[encoded data removed]",
      "text/plain": [
       "<Figure size 576x432 with 1 Axes>"
      ]
     },
     "metadata": {
      "needs_background": "light"
     },
     "output_type": "display_data"
    }
   ],
   "source": [
    "#fraud vs. normal transactions \n",
    "counts = df.Class.value_counts()\n",
    "normal = counts[0]\n",
    "fraudulent = counts[1]\n",
    "perc_normal = (normal/(normal+fraudulent))*100\n",
    "perc_fraudulent = (fraudulent/(normal+fraudulent))*100\n",
    "print('There were {} non-fraudulent transactions ({:.3f}%) and {} fraudulent transactions ({:.3f}%).'.format(normal, perc_normal, fraudulent, perc_fraudulent))\n",
    "\n",
    "plt.figure(figsize=(8,6))\n",
    "sns.barplot(x=counts.index, y=counts)\n",
    "plt.title('Count of Fraudulent vs. Non-Fraudulent Transactions')\n",
    "plt.ylabel('Count')\n",
    "plt.xlabel('Class (0:Non-Fraudulent, 1:Fraudulent)')"
   ]
  },
  {
   "cell_type": "code",
   "execution_count": 7,
   "metadata": {},
   "outputs": [
    {
     "data": {
      "text/plain": [
       "<matplotlib.axes._subplots.AxesSubplot at 0x115282310>"
      ]
     },
     "execution_count": 7,
     "metadata": {},
     "output_type": "execute_result"
    },
    {
     "data": {
      "image/png": "[encoded data removed]",
      "text/plain": [
       "<Figure size 864x576 with 1 Axes>"
      ]
     },
     "metadata": {
      "needs_background": "light"
     },
     "output_type": "display_data"
    }
   ],
   "source": [
    "#visualizations of time and amount\n",
    "plt.figure(figsize=(12,8))\n",
    "plt.title('Distribution of Time Feature')\n",
    "sns.distplot(df.Time)"
   ]
  },
  {
   "cell_type": "code",
   "execution_count": 8,
   "metadata": {},
   "outputs": [
    {
     "data": {
      "text/plain": [
       "<matplotlib.axes._subplots.AxesSubplot at 0x1a19ed0b90>"
      ]
     },
     "execution_count": 8,
     "metadata": {},
     "output_type": "execute_result"
    },
    {
     "data": {
      "image/png": "[encoded data removed]",
      "text/plain": [
       "<Figure size 864x576 with 1 Axes>"
      ]
     },
     "metadata": {
      "needs_background": "light"
     },
     "output_type": "display_data"
    }
   ],
   "source": [
    "plt.figure(figsize=(12,8))\n",
    "plt.title('Distribution of Monetary Value Feature')\n",
    "sns.distplot(df.Amount)"
   ]
  },
  {
   "cell_type": "code",
   "execution_count": 9,
   "metadata": {},
   "outputs": [
    {
     "data": {
      "text/html": [
       "<div>\n",
       "<style scoped>\n",
       "    .dataframe tbody tr th:only-of-type {\n",
       "        vertical-align: middle;\n",
       "    }\n",
       "\n",
       "    .dataframe tbody tr th {\n",
       "        vertical-align: top;\n",
       "    }\n",
       "\n",
       "    .dataframe thead th {\n",
       "        text-align: right;\n",
       "    }\n",
       "</style>\n",
       "<table border=\"1\" class=\"dataframe\">\n",
       "  <thead>\n",
       "    <tr style=\"text-align: right;\">\n",
       "      <th></th>\n",
       "      <th>Time</th>\n",
       "      <th>V1</th>\n",
       "      <th>V2</th>\n",
       "      <th>V3</th>\n",
       "      <th>V4</th>\n",
       "      <th>V5</th>\n",
       "      <th>V6</th>\n",
       "      <th>V7</th>\n",
       "      <th>V8</th>\n",
       "      <th>V9</th>\n",
       "      <th>...</th>\n",
       "      <th>V21</th>\n",
       "      <th>V22</th>\n",
       "      <th>V23</th>\n",
       "      <th>V24</th>\n",
       "      <th>V25</th>\n",
       "      <th>V26</th>\n",
       "      <th>V27</th>\n",
       "      <th>V28</th>\n",
       "      <th>Amount</th>\n",
       "      <th>Class</th>\n",
       "    </tr>\n",
       "  </thead>\n",
       "  <tbody>\n",
       "    <tr>\n",
       "      <td>Time</td>\n",
       "      <td>1.000</td>\n",
       "      <td>1.174e-01</td>\n",
       "      <td>-1.059e-02</td>\n",
       "      <td>-4.196e-01</td>\n",
       "      <td>-1.053e-01</td>\n",
       "      <td>1.731e-01</td>\n",
       "      <td>-6.302e-02</td>\n",
       "      <td>8.471e-02</td>\n",
       "      <td>-3.695e-02</td>\n",
       "      <td>-8.660e-03</td>\n",
       "      <td>...</td>\n",
       "      <td>4.474e-02</td>\n",
       "      <td>1.441e-01</td>\n",
       "      <td>5.114e-02</td>\n",
       "      <td>-1.618e-02</td>\n",
       "      <td>-2.331e-01</td>\n",
       "      <td>-4.141e-02</td>\n",
       "      <td>-5.135e-03</td>\n",
       "      <td>-9.413e-03</td>\n",
       "      <td>-1.060e-02</td>\n",
       "      <td>-1.232e-02</td>\n",
       "    </tr>\n",
       "    <tr>\n",
       "      <td>V1</td>\n",
       "      <td>0.117</td>\n",
       "      <td>1.000e+00</td>\n",
       "      <td>4.697e-17</td>\n",
       "      <td>-1.424e-15</td>\n",
       "      <td>1.755e-17</td>\n",
       "      <td>6.391e-17</td>\n",
       "      <td>2.398e-16</td>\n",
       "      <td>1.992e-15</td>\n",
       "      <td>-9.491e-17</td>\n",
       "      <td>2.170e-16</td>\n",
       "      <td>...</td>\n",
       "      <td>-1.755e-16</td>\n",
       "      <td>7.477e-17</td>\n",
       "      <td>9.809e-16</td>\n",
       "      <td>7.354e-17</td>\n",
       "      <td>-9.805e-16</td>\n",
       "      <td>-8.622e-17</td>\n",
       "      <td>3.208e-17</td>\n",
       "      <td>9.821e-16</td>\n",
       "      <td>-2.277e-01</td>\n",
       "      <td>-1.013e-01</td>\n",
       "    </tr>\n",
       "    <tr>\n",
       "      <td>V2</td>\n",
       "      <td>-0.011</td>\n",
       "      <td>4.697e-17</td>\n",
       "      <td>1.000e+00</td>\n",
       "      <td>2.512e-16</td>\n",
       "      <td>-1.126e-16</td>\n",
       "      <td>-2.040e-16</td>\n",
       "      <td>5.025e-16</td>\n",
       "      <td>3.966e-16</td>\n",
       "      <td>-4.414e-17</td>\n",
       "      <td>-5.729e-17</td>\n",
       "      <td>...</td>\n",
       "      <td>8.444e-17</td>\n",
       "      <td>2.501e-16</td>\n",
       "      <td>1.060e-16</td>\n",
       "      <td>-8.142e-18</td>\n",
       "      <td>-4.262e-17</td>\n",
       "      <td>2.602e-16</td>\n",
       "      <td>-4.478e-16</td>\n",
       "      <td>-3.676e-16</td>\n",
       "      <td>-5.314e-01</td>\n",
       "      <td>9.129e-02</td>\n",
       "    </tr>\n",
       "    <tr>\n",
       "      <td>V3</td>\n",
       "      <td>-0.420</td>\n",
       "      <td>-1.424e-15</td>\n",
       "      <td>2.512e-16</td>\n",
       "      <td>1.000e+00</td>\n",
       "      <td>-3.417e-16</td>\n",
       "      <td>-1.437e-15</td>\n",
       "      <td>1.432e-15</td>\n",
       "      <td>2.169e-15</td>\n",
       "      <td>3.433e-16</td>\n",
       "      <td>-4.234e-16</td>\n",
       "      <td>...</td>\n",
       "      <td>-2.972e-17</td>\n",
       "      <td>4.648e-16</td>\n",
       "      <td>2.115e-17</td>\n",
       "      <td>-9.352e-17</td>\n",
       "      <td>4.771e-16</td>\n",
       "      <td>6.522e-16</td>\n",
       "      <td>6.240e-16</td>\n",
       "      <td>7.727e-16</td>\n",
       "      <td>-2.109e-01</td>\n",
       "      <td>-1.930e-01</td>\n",
       "    </tr>\n",
       "    <tr>\n",
       "      <td>V4</td>\n",
       "      <td>-0.105</td>\n",
       "      <td>1.755e-17</td>\n",
       "      <td>-1.126e-16</td>\n",
       "      <td>-3.417e-16</td>\n",
       "      <td>1.000e+00</td>\n",
       "      <td>-1.941e-15</td>\n",
       "      <td>-2.713e-16</td>\n",
       "      <td>1.556e-16</td>\n",
       "      <td>5.196e-16</td>\n",
       "      <td>3.860e-16</td>\n",
       "      <td>...</td>\n",
       "      <td>-9.977e-17</td>\n",
       "      <td>2.100e-16</td>\n",
       "      <td>6.003e-17</td>\n",
       "      <td>2.230e-16</td>\n",
       "      <td>5.395e-16</td>\n",
       "      <td>-6.180e-16</td>\n",
       "      <td>-6.403e-17</td>\n",
       "      <td>-5.864e-17</td>\n",
       "      <td>9.873e-02</td>\n",
       "      <td>1.334e-01</td>\n",
       "    </tr>\n",
       "    <tr>\n",
       "      <td>V5</td>\n",
       "      <td>0.173</td>\n",
       "      <td>6.391e-17</td>\n",
       "      <td>-2.040e-16</td>\n",
       "      <td>-1.437e-15</td>\n",
       "      <td>-1.941e-15</td>\n",
       "      <td>1.000e+00</td>\n",
       "      <td>7.926e-16</td>\n",
       "      <td>-4.210e-16</td>\n",
       "      <td>7.589e-16</td>\n",
       "      <td>4.205e-16</td>\n",
       "      <td>...</td>\n",
       "      <td>-1.369e-16</td>\n",
       "      <td>5.060e-16</td>\n",
       "      <td>1.638e-16</td>\n",
       "      <td>-9.286e-16</td>\n",
       "      <td>5.625e-16</td>\n",
       "      <td>9.145e-16</td>\n",
       "      <td>4.466e-16</td>\n",
       "      <td>-3.299e-16</td>\n",
       "      <td>-3.864e-01</td>\n",
       "      <td>-9.497e-02</td>\n",
       "    </tr>\n",
       "    <tr>\n",
       "      <td>V6</td>\n",
       "      <td>-0.063</td>\n",
       "      <td>2.398e-16</td>\n",
       "      <td>5.025e-16</td>\n",
       "      <td>1.432e-15</td>\n",
       "      <td>-2.713e-16</td>\n",
       "      <td>7.926e-16</td>\n",
       "      <td>1.000e+00</td>\n",
       "      <td>1.429e-16</td>\n",
       "      <td>-1.707e-16</td>\n",
       "      <td>1.114e-16</td>\n",
       "      <td>...</td>\n",
       "      <td>-1.576e-16</td>\n",
       "      <td>-3.363e-16</td>\n",
       "      <td>-7.232e-17</td>\n",
       "      <td>-1.262e-15</td>\n",
       "      <td>1.082e-15</td>\n",
       "      <td>-2.378e-16</td>\n",
       "      <td>-2.624e-16</td>\n",
       "      <td>4.813e-16</td>\n",
       "      <td>2.160e-01</td>\n",
       "      <td>-4.364e-02</td>\n",
       "    </tr>\n",
       "    <tr>\n",
       "      <td>V7</td>\n",
       "      <td>0.085</td>\n",
       "      <td>1.992e-15</td>\n",
       "      <td>3.966e-16</td>\n",
       "      <td>2.169e-15</td>\n",
       "      <td>1.556e-16</td>\n",
       "      <td>-4.210e-16</td>\n",
       "      <td>1.429e-16</td>\n",
       "      <td>1.000e+00</td>\n",
       "      <td>-8.692e-17</td>\n",
       "      <td>7.933e-16</td>\n",
       "      <td>...</td>\n",
       "      <td>1.939e-16</td>\n",
       "      <td>-1.058e-15</td>\n",
       "      <td>2.328e-16</td>\n",
       "      <td>-2.590e-17</td>\n",
       "      <td>1.174e-15</td>\n",
       "      <td>-7.335e-16</td>\n",
       "      <td>-5.887e-16</td>\n",
       "      <td>-6.837e-17</td>\n",
       "      <td>3.973e-01</td>\n",
       "      <td>-1.873e-01</td>\n",
       "    </tr>\n",
       "    <tr>\n",
       "      <td>V8</td>\n",
       "      <td>-0.037</td>\n",
       "      <td>-9.491e-17</td>\n",
       "      <td>-4.414e-17</td>\n",
       "      <td>3.433e-16</td>\n",
       "      <td>5.196e-16</td>\n",
       "      <td>7.589e-16</td>\n",
       "      <td>-1.707e-16</td>\n",
       "      <td>-8.692e-17</td>\n",
       "      <td>1.000e+00</td>\n",
       "      <td>2.901e-16</td>\n",
       "      <td>...</td>\n",
       "      <td>-2.412e-16</td>\n",
       "      <td>5.476e-16</td>\n",
       "      <td>3.897e-16</td>\n",
       "      <td>-1.803e-16</td>\n",
       "      <td>-1.391e-16</td>\n",
       "      <td>-1.210e-16</td>\n",
       "      <td>1.734e-16</td>\n",
       "      <td>-4.484e-16</td>\n",
       "      <td>-1.031e-01</td>\n",
       "      <td>1.988e-02</td>\n",
       "    </tr>\n",
       "    <tr>\n",
       "      <td>V9</td>\n",
       "      <td>-0.009</td>\n",
       "      <td>2.170e-16</td>\n",
       "      <td>-5.729e-17</td>\n",
       "      <td>-4.234e-16</td>\n",
       "      <td>3.860e-16</td>\n",
       "      <td>4.205e-16</td>\n",
       "      <td>1.114e-16</td>\n",
       "      <td>7.933e-16</td>\n",
       "      <td>2.901e-16</td>\n",
       "      <td>1.000e+00</td>\n",
       "      <td>...</td>\n",
       "      <td>4.578e-17</td>\n",
       "      <td>2.872e-17</td>\n",
       "      <td>5.929e-16</td>\n",
       "      <td>-2.346e-16</td>\n",
       "      <td>1.100e-15</td>\n",
       "      <td>-1.389e-15</td>\n",
       "      <td>-2.287e-16</td>\n",
       "      <td>9.147e-16</td>\n",
       "      <td>-4.425e-02</td>\n",
       "      <td>-9.773e-02</td>\n",
       "    </tr>\n",
       "    <tr>\n",
       "      <td>V10</td>\n",
       "      <td>0.031</td>\n",
       "      <td>7.434e-17</td>\n",
       "      <td>-4.782e-16</td>\n",
       "      <td>6.289e-16</td>\n",
       "      <td>6.055e-16</td>\n",
       "      <td>-6.602e-16</td>\n",
       "      <td>2.851e-16</td>\n",
       "      <td>3.043e-17</td>\n",
       "      <td>9.052e-17</td>\n",
       "      <td>-2.772e-16</td>\n",
       "      <td>...</td>\n",
       "      <td>8.090e-16</td>\n",
       "      <td>-6.708e-16</td>\n",
       "      <td>3.810e-16</td>\n",
       "      <td>-4.033e-17</td>\n",
       "      <td>-2.864e-16</td>\n",
       "      <td>-2.554e-16</td>\n",
       "      <td>-3.103e-16</td>\n",
       "      <td>-1.516e-16</td>\n",
       "      <td>-1.015e-01</td>\n",
       "      <td>-2.169e-01</td>\n",
       "    </tr>\n",
       "    <tr>\n",
       "      <td>V11</td>\n",
       "      <td>-0.248</td>\n",
       "      <td>2.439e-16</td>\n",
       "      <td>9.469e-16</td>\n",
       "      <td>-5.502e-17</td>\n",
       "      <td>-2.084e-16</td>\n",
       "      <td>7.343e-16</td>\n",
       "      <td>4.866e-16</td>\n",
       "      <td>-1.084e-15</td>\n",
       "      <td>1.955e-16</td>\n",
       "      <td>4.682e-16</td>\n",
       "      <td>...</td>\n",
       "      <td>-3.912e-16</td>\n",
       "      <td>-3.812e-17</td>\n",
       "      <td>2.232e-16</td>\n",
       "      <td>1.220e-15</td>\n",
       "      <td>-4.568e-16</td>\n",
       "      <td>-1.111e-16</td>\n",
       "      <td>-2.636e-16</td>\n",
       "      <td>-3.092e-16</td>\n",
       "      <td>1.040e-04</td>\n",
       "      <td>1.549e-01</td>\n",
       "    </tr>\n",
       "    <tr>\n",
       "      <td>V12</td>\n",
       "      <td>0.124</td>\n",
       "      <td>2.422e-16</td>\n",
       "      <td>-6.588e-16</td>\n",
       "      <td>2.207e-16</td>\n",
       "      <td>-5.658e-16</td>\n",
       "      <td>3.761e-16</td>\n",
       "      <td>2.141e-16</td>\n",
       "      <td>1.510e-15</td>\n",
       "      <td>-6.266e-17</td>\n",
       "      <td>-2.445e-15</td>\n",
       "      <td>...</td>\n",
       "      <td>3.230e-16</td>\n",
       "      <td>-5.904e-16</td>\n",
       "      <td>1.392e-16</td>\n",
       "      <td>4.902e-16</td>\n",
       "      <td>5.054e-16</td>\n",
       "      <td>-5.759e-16</td>\n",
       "      <td>-2.313e-16</td>\n",
       "      <td>7.327e-16</td>\n",
       "      <td>-9.542e-03</td>\n",
       "      <td>-2.606e-01</td>\n",
       "    </tr>\n",
       "    <tr>\n",
       "      <td>V13</td>\n",
       "      <td>-0.066</td>\n",
       "      <td>-2.115e-16</td>\n",
       "      <td>3.855e-16</td>\n",
       "      <td>-6.883e-16</td>\n",
       "      <td>-1.506e-16</td>\n",
       "      <td>-9.579e-16</td>\n",
       "      <td>-2.268e-16</td>\n",
       "      <td>-9.892e-17</td>\n",
       "      <td>-2.383e-16</td>\n",
       "      <td>-2.650e-16</td>\n",
       "      <td>...</td>\n",
       "      <td>9.499e-17</td>\n",
       "      <td>-2.660e-17</td>\n",
       "      <td>-5.884e-16</td>\n",
       "      <td>-5.471e-16</td>\n",
       "      <td>8.067e-17</td>\n",
       "      <td>-2.122e-16</td>\n",
       "      <td>-4.520e-16</td>\n",
       "      <td>1.050e-15</td>\n",
       "      <td>5.293e-03</td>\n",
       "      <td>-4.570e-03</td>\n",
       "    </tr>\n",
       "    <tr>\n",
       "      <td>V14</td>\n",
       "      <td>-0.099</td>\n",
       "      <td>9.353e-16</td>\n",
       "      <td>-2.541e-16</td>\n",
       "      <td>4.271e-16</td>\n",
       "      <td>-8.522e-17</td>\n",
       "      <td>-3.635e-16</td>\n",
       "      <td>3.453e-16</td>\n",
       "      <td>-1.729e-16</td>\n",
       "      <td>-1.131e-16</td>\n",
       "      <td>2.343e-16</td>\n",
       "      <td>...</td>\n",
       "      <td>1.634e-17</td>\n",
       "      <td>3.440e-16</td>\n",
       "      <td>7.621e-17</td>\n",
       "      <td>2.336e-16</td>\n",
       "      <td>-2.607e-16</td>\n",
       "      <td>-6.580e-18</td>\n",
       "      <td>1.286e-16</td>\n",
       "      <td>2.503e-15</td>\n",
       "      <td>3.375e-02</td>\n",
       "      <td>-3.025e-01</td>\n",
       "    </tr>\n",
       "    <tr>\n",
       "      <td>V15</td>\n",
       "      <td>-0.183</td>\n",
       "      <td>-3.252e-16</td>\n",
       "      <td>2.831e-16</td>\n",
       "      <td>1.123e-16</td>\n",
       "      <td>-1.508e-16</td>\n",
       "      <td>-5.133e-16</td>\n",
       "      <td>-6.368e-18</td>\n",
       "      <td>1.937e-17</td>\n",
       "      <td>2.021e-16</td>\n",
       "      <td>-1.588e-15</td>\n",
       "      <td>...</td>\n",
       "      <td>1.947e-17</td>\n",
       "      <td>-8.937e-16</td>\n",
       "      <td>1.120e-16</td>\n",
       "      <td>-4.590e-16</td>\n",
       "      <td>3.870e-16</td>\n",
       "      <td>3.761e-16</td>\n",
       "      <td>-1.265e-15</td>\n",
       "      <td>-1.063e-15</td>\n",
       "      <td>-2.986e-03</td>\n",
       "      <td>-4.223e-03</td>\n",
       "    </tr>\n",
       "    <tr>\n",
       "      <td>V16</td>\n",
       "      <td>0.012</td>\n",
       "      <td>6.309e-16</td>\n",
       "      <td>4.934e-17</td>\n",
       "      <td>1.183e-15</td>\n",
       "      <td>-6.939e-16</td>\n",
       "      <td>-3.517e-16</td>\n",
       "      <td>-2.478e-16</td>\n",
       "      <td>2.894e-16</td>\n",
       "      <td>5.027e-16</td>\n",
       "      <td>-3.252e-16</td>\n",
       "      <td>...</td>\n",
       "      <td>-3.927e-16</td>\n",
       "      <td>3.878e-17</td>\n",
       "      <td>8.520e-16</td>\n",
       "      <td>-4.289e-16</td>\n",
       "      <td>-6.644e-16</td>\n",
       "      <td>-5.187e-16</td>\n",
       "      <td>7.820e-16</td>\n",
       "      <td>8.637e-16</td>\n",
       "      <td>-3.910e-03</td>\n",
       "      <td>-1.965e-01</td>\n",
       "    </tr>\n",
       "    <tr>\n",
       "      <td>V17</td>\n",
       "      <td>-0.073</td>\n",
       "      <td>-5.012e-16</td>\n",
       "      <td>-9.883e-16</td>\n",
       "      <td>4.577e-17</td>\n",
       "      <td>-4.398e-16</td>\n",
       "      <td>1.426e-16</td>\n",
       "      <td>3.568e-16</td>\n",
       "      <td>1.150e-15</td>\n",
       "      <td>-3.509e-16</td>\n",
       "      <td>6.536e-16</td>\n",
       "      <td>...</td>\n",
       "      <td>-7.754e-16</td>\n",
       "      <td>-8.390e-16</td>\n",
       "      <td>5.368e-16</td>\n",
       "      <td>-5.544e-17</td>\n",
       "      <td>4.822e-16</td>\n",
       "      <td>4.870e-16</td>\n",
       "      <td>8.844e-16</td>\n",
       "      <td>-2.183e-16</td>\n",
       "      <td>7.309e-03</td>\n",
       "      <td>-3.265e-01</td>\n",
       "    </tr>\n",
       "    <tr>\n",
       "      <td>V18</td>\n",
       "      <td>0.090</td>\n",
       "      <td>2.870e-16</td>\n",
       "      <td>2.637e-16</td>\n",
       "      <td>5.428e-16</td>\n",
       "      <td>1.494e-16</td>\n",
       "      <td>1.110e-15</td>\n",
       "      <td>2.811e-16</td>\n",
       "      <td>-1.117e-16</td>\n",
       "      <td>-4.094e-16</td>\n",
       "      <td>1.204e-16</td>\n",
       "      <td>...</td>\n",
       "      <td>-1.141e-15</td>\n",
       "      <td>-8.663e-17</td>\n",
       "      <td>-3.624e-16</td>\n",
       "      <td>-1.126e-16</td>\n",
       "      <td>-2.311e-16</td>\n",
       "      <td>3.184e-16</td>\n",
       "      <td>2.435e-16</td>\n",
       "      <td>8.845e-16</td>\n",
       "      <td>3.565e-02</td>\n",
       "      <td>-1.115e-01</td>\n",
       "    </tr>\n",
       "    <tr>\n",
       "      <td>V19</td>\n",
       "      <td>0.029</td>\n",
       "      <td>1.818e-16</td>\n",
       "      <td>9.528e-17</td>\n",
       "      <td>2.577e-16</td>\n",
       "      <td>-2.657e-16</td>\n",
       "      <td>-3.138e-16</td>\n",
       "      <td>2.717e-16</td>\n",
       "      <td>-2.874e-16</td>\n",
       "      <td>-5.340e-16</td>\n",
       "      <td>1.121e-16</td>\n",
       "      <td>...</td>\n",
       "      <td>4.033e-16</td>\n",
       "      <td>-9.690e-16</td>\n",
       "      <td>5.734e-16</td>\n",
       "      <td>3.127e-17</td>\n",
       "      <td>7.415e-16</td>\n",
       "      <td>5.614e-16</td>\n",
       "      <td>-1.113e-16</td>\n",
       "      <td>-1.376e-15</td>\n",
       "      <td>-5.615e-02</td>\n",
       "      <td>3.478e-02</td>\n",
       "    </tr>\n",
       "    <tr>\n",
       "      <td>V20</td>\n",
       "      <td>-0.051</td>\n",
       "      <td>1.037e-16</td>\n",
       "      <td>-9.310e-16</td>\n",
       "      <td>-9.429e-16</td>\n",
       "      <td>-3.223e-16</td>\n",
       "      <td>2.076e-16</td>\n",
       "      <td>1.899e-16</td>\n",
       "      <td>1.744e-16</td>\n",
       "      <td>-1.096e-16</td>\n",
       "      <td>-4.341e-16</td>\n",
       "      <td>...</td>\n",
       "      <td>-1.121e-15</td>\n",
       "      <td>1.106e-15</td>\n",
       "      <td>4.987e-16</td>\n",
       "      <td>1.637e-16</td>\n",
       "      <td>-1.518e-16</td>\n",
       "      <td>-2.975e-16</td>\n",
       "      <td>-1.446e-15</td>\n",
       "      <td>-1.134e-16</td>\n",
       "      <td>3.394e-01</td>\n",
       "      <td>2.009e-02</td>\n",
       "    </tr>\n",
       "    <tr>\n",
       "      <td>V21</td>\n",
       "      <td>0.045</td>\n",
       "      <td>-1.755e-16</td>\n",
       "      <td>8.444e-17</td>\n",
       "      <td>-2.972e-17</td>\n",
       "      <td>-9.977e-17</td>\n",
       "      <td>-1.369e-16</td>\n",
       "      <td>-1.576e-16</td>\n",
       "      <td>1.939e-16</td>\n",
       "      <td>-2.412e-16</td>\n",
       "      <td>4.578e-17</td>\n",
       "      <td>...</td>\n",
       "      <td>1.000e+00</td>\n",
       "      <td>3.906e-15</td>\n",
       "      <td>6.127e-16</td>\n",
       "      <td>1.298e-16</td>\n",
       "      <td>-2.826e-16</td>\n",
       "      <td>-4.907e-16</td>\n",
       "      <td>-1.033e-15</td>\n",
       "      <td>5.132e-16</td>\n",
       "      <td>1.060e-01</td>\n",
       "      <td>4.041e-02</td>\n",
       "    </tr>\n",
       "    <tr>\n",
       "      <td>V22</td>\n",
       "      <td>0.144</td>\n",
       "      <td>7.477e-17</td>\n",
       "      <td>2.501e-16</td>\n",
       "      <td>4.648e-16</td>\n",
       "      <td>2.100e-16</td>\n",
       "      <td>5.060e-16</td>\n",
       "      <td>-3.363e-16</td>\n",
       "      <td>-1.058e-15</td>\n",
       "      <td>5.476e-16</td>\n",
       "      <td>2.872e-17</td>\n",
       "      <td>...</td>\n",
       "      <td>3.906e-15</td>\n",
       "      <td>1.000e+00</td>\n",
       "      <td>3.131e-16</td>\n",
       "      <td>1.151e-17</td>\n",
       "      <td>-6.079e-16</td>\n",
       "      <td>-8.477e-16</td>\n",
       "      <td>-1.295e-16</td>\n",
       "      <td>-3.021e-16</td>\n",
       "      <td>-6.480e-02</td>\n",
       "      <td>8.053e-04</td>\n",
       "    </tr>\n",
       "    <tr>\n",
       "      <td>V23</td>\n",
       "      <td>0.051</td>\n",
       "      <td>9.809e-16</td>\n",
       "      <td>1.060e-16</td>\n",
       "      <td>2.115e-17</td>\n",
       "      <td>6.003e-17</td>\n",
       "      <td>1.638e-16</td>\n",
       "      <td>-7.232e-17</td>\n",
       "      <td>2.328e-16</td>\n",
       "      <td>3.897e-16</td>\n",
       "      <td>5.929e-16</td>\n",
       "      <td>...</td>\n",
       "      <td>6.127e-16</td>\n",
       "      <td>3.131e-16</td>\n",
       "      <td>1.000e+00</td>\n",
       "      <td>-4.411e-17</td>\n",
       "      <td>-9.938e-16</td>\n",
       "      <td>8.849e-16</td>\n",
       "      <td>5.524e-16</td>\n",
       "      <td>9.030e-16</td>\n",
       "      <td>-1.126e-01</td>\n",
       "      <td>-2.685e-03</td>\n",
       "    </tr>\n",
       "    <tr>\n",
       "      <td>V24</td>\n",
       "      <td>-0.016</td>\n",
       "      <td>7.354e-17</td>\n",
       "      <td>-8.142e-18</td>\n",
       "      <td>-9.352e-17</td>\n",
       "      <td>2.230e-16</td>\n",
       "      <td>-9.286e-16</td>\n",
       "      <td>-1.262e-15</td>\n",
       "      <td>-2.590e-17</td>\n",
       "      <td>-1.803e-16</td>\n",
       "      <td>-2.346e-16</td>\n",
       "      <td>...</td>\n",
       "      <td>1.298e-16</td>\n",
       "      <td>1.151e-17</td>\n",
       "      <td>-4.411e-17</td>\n",
       "      <td>1.000e+00</td>\n",
       "      <td>1.557e-15</td>\n",
       "      <td>3.129e-16</td>\n",
       "      <td>-3.737e-16</td>\n",
       "      <td>-2.259e-16</td>\n",
       "      <td>5.146e-03</td>\n",
       "      <td>-7.221e-03</td>\n",
       "    </tr>\n",
       "    <tr>\n",
       "      <td>V25</td>\n",
       "      <td>-0.233</td>\n",
       "      <td>-9.805e-16</td>\n",
       "      <td>-4.262e-17</td>\n",
       "      <td>4.771e-16</td>\n",
       "      <td>5.395e-16</td>\n",
       "      <td>5.625e-16</td>\n",
       "      <td>1.082e-15</td>\n",
       "      <td>1.174e-15</td>\n",
       "      <td>-1.391e-16</td>\n",
       "      <td>1.100e-15</td>\n",
       "      <td>...</td>\n",
       "      <td>-2.826e-16</td>\n",
       "      <td>-6.079e-16</td>\n",
       "      <td>-9.938e-16</td>\n",
       "      <td>1.557e-15</td>\n",
       "      <td>1.000e+00</td>\n",
       "      <td>2.811e-15</td>\n",
       "      <td>-6.107e-16</td>\n",
       "      <td>3.399e-16</td>\n",
       "      <td>-4.784e-02</td>\n",
       "      <td>3.308e-03</td>\n",
       "    </tr>\n",
       "    <tr>\n",
       "      <td>V26</td>\n",
       "      <td>-0.041</td>\n",
       "      <td>-8.622e-17</td>\n",
       "      <td>2.602e-16</td>\n",
       "      <td>6.522e-16</td>\n",
       "      <td>-6.180e-16</td>\n",
       "      <td>9.145e-16</td>\n",
       "      <td>-2.378e-16</td>\n",
       "      <td>-7.335e-16</td>\n",
       "      <td>-1.210e-16</td>\n",
       "      <td>-1.389e-15</td>\n",
       "      <td>...</td>\n",
       "      <td>-4.907e-16</td>\n",
       "      <td>-8.477e-16</td>\n",
       "      <td>8.849e-16</td>\n",
       "      <td>3.129e-16</td>\n",
       "      <td>2.811e-15</td>\n",
       "      <td>1.000e+00</td>\n",
       "      <td>-3.384e-16</td>\n",
       "      <td>-3.751e-16</td>\n",
       "      <td>-3.208e-03</td>\n",
       "      <td>4.455e-03</td>\n",
       "    </tr>\n",
       "    <tr>\n",
       "      <td>V27</td>\n",
       "      <td>-0.005</td>\n",
       "      <td>3.208e-17</td>\n",
       "      <td>-4.478e-16</td>\n",
       "      <td>6.240e-16</td>\n",
       "      <td>-6.403e-17</td>\n",
       "      <td>4.466e-16</td>\n",
       "      <td>-2.624e-16</td>\n",
       "      <td>-5.887e-16</td>\n",
       "      <td>1.734e-16</td>\n",
       "      <td>-2.287e-16</td>\n",
       "      <td>...</td>\n",
       "      <td>-1.033e-15</td>\n",
       "      <td>-1.295e-16</td>\n",
       "      <td>5.524e-16</td>\n",
       "      <td>-3.737e-16</td>\n",
       "      <td>-6.107e-16</td>\n",
       "      <td>-3.384e-16</td>\n",
       "      <td>1.000e+00</td>\n",
       "      <td>-3.770e-16</td>\n",
       "      <td>2.883e-02</td>\n",
       "      <td>1.758e-02</td>\n",
       "    </tr>\n",
       "    <tr>\n",
       "      <td>V28</td>\n",
       "      <td>-0.009</td>\n",
       "      <td>9.821e-16</td>\n",
       "      <td>-3.676e-16</td>\n",
       "      <td>7.727e-16</td>\n",
       "      <td>-5.864e-17</td>\n",
       "      <td>-3.299e-16</td>\n",
       "      <td>4.813e-16</td>\n",
       "      <td>-6.837e-17</td>\n",
       "      <td>-4.484e-16</td>\n",
       "      <td>9.147e-16</td>\n",
       "      <td>...</td>\n",
       "      <td>5.132e-16</td>\n",
       "      <td>-3.021e-16</td>\n",
       "      <td>9.030e-16</td>\n",
       "      <td>-2.259e-16</td>\n",
       "      <td>3.399e-16</td>\n",
       "      <td>-3.751e-16</td>\n",
       "      <td>-3.770e-16</td>\n",
       "      <td>1.000e+00</td>\n",
       "      <td>1.026e-02</td>\n",
       "      <td>9.536e-03</td>\n",
       "    </tr>\n",
       "    <tr>\n",
       "      <td>Amount</td>\n",
       "      <td>-0.011</td>\n",
       "      <td>-2.277e-01</td>\n",
       "      <td>-5.314e-01</td>\n",
       "      <td>-2.109e-01</td>\n",
       "      <td>9.873e-02</td>\n",
       "      <td>-3.864e-01</td>\n",
       "      <td>2.160e-01</td>\n",
       "      <td>3.973e-01</td>\n",
       "      <td>-1.031e-01</td>\n",
       "      <td>-4.425e-02</td>\n",
       "      <td>...</td>\n",
       "      <td>1.060e-01</td>\n",
       "      <td>-6.480e-02</td>\n",
       "      <td>-1.126e-01</td>\n",
       "      <td>5.146e-03</td>\n",
       "      <td>-4.784e-02</td>\n",
       "      <td>-3.208e-03</td>\n",
       "      <td>2.883e-02</td>\n",
       "      <td>1.026e-02</td>\n",
       "      <td>1.000e+00</td>\n",
       "      <td>5.632e-03</td>\n",
       "    </tr>\n",
       "    <tr>\n",
       "      <td>Class</td>\n",
       "      <td>-0.012</td>\n",
       "      <td>-1.013e-01</td>\n",
       "      <td>9.129e-02</td>\n",
       "      <td>-1.930e-01</td>\n",
       "      <td>1.334e-01</td>\n",
       "      <td>-9.497e-02</td>\n",
       "      <td>-4.364e-02</td>\n",
       "      <td>-1.873e-01</td>\n",
       "      <td>1.988e-02</td>\n",
       "      <td>-9.773e-02</td>\n",
       "      <td>...</td>\n",
       "      <td>4.041e-02</td>\n",
       "      <td>8.053e-04</td>\n",
       "      <td>-2.685e-03</td>\n",
       "      <td>-7.221e-03</td>\n",
       "      <td>3.308e-03</td>\n",
       "      <td>4.455e-03</td>\n",
       "      <td>1.758e-02</td>\n",
       "      <td>9.536e-03</td>\n",
       "      <td>5.632e-03</td>\n",
       "      <td>1.000e+00</td>\n",
       "    </tr>\n",
       "  </tbody>\n",
       "</table>\n",
       "<p>31 rows × 31 columns</p>\n",
       "</div>"
      ],
      "text/plain": [
       "         Time         V1         V2         V3         V4         V5  \\\n",
       "Time    1.000  1.174e-01 -1.059e-02 -4.196e-01 -1.053e-01  1.731e-01   \n",
       "V1      0.117  1.000e+00  4.697e-17 -1.424e-15  1.755e-17  6.391e-17   \n",
       "V2     -0.011  4.697e-17  1.000e+00  2.512e-16 -1.126e-16 -2.040e-16   \n",
       "V3     -0.420 -1.424e-15  2.512e-16  1.000e+00 -3.417e-16 -1.437e-15   \n",
       "V4     -0.105  1.755e-17 -1.126e-16 -3.417e-16  1.000e+00 -1.941e-15   \n",
       "V5      0.173  6.391e-17 -2.040e-16 -1.437e-15 -1.941e-15  1.000e+00   \n",
       "V6     -0.063  2.398e-16  5.025e-16  1.432e-15 -2.713e-16  7.926e-16   \n",
       "V7      0.085  1.992e-15  3.966e-16  2.169e-15  1.556e-16 -4.210e-16   \n",
       "V8     -0.037 -9.491e-17 -4.414e-17  3.433e-16  5.196e-16  7.589e-16   \n",
       "V9     -0.009  2.170e-16 -5.729e-17 -4.234e-16  3.860e-16  4.205e-16   \n",
       "V10     0.031  7.434e-17 -4.782e-16  6.289e-16  6.055e-16 -6.602e-16   \n",
       "V11    -0.248  2.439e-16  9.469e-16 -5.502e-17 -2.084e-16  7.343e-16   \n",
       "V12     0.124  2.422e-16 -6.588e-16  2.207e-16 -5.658e-16  3.761e-16   \n",
       "V13    -0.066 -2.115e-16  3.855e-16 -6.883e-16 -1.506e-16 -9.579e-16   \n",
       "V14    -0.099  9.353e-16 -2.541e-16  4.271e-16 -8.522e-17 -3.635e-16   \n",
       "V15    -0.183 -3.252e-16  2.831e-16  1.123e-16 -1.508e-16 -5.133e-16   \n",
       "V16     0.012  6.309e-16  4.934e-17  1.183e-15 -6.939e-16 -3.517e-16   \n",
       "V17    -0.073 -5.012e-16 -9.883e-16  4.577e-17 -4.398e-16  1.426e-16   \n",
       "V18     0.090  2.870e-16  2.637e-16  5.428e-16  1.494e-16  1.110e-15   \n",
       "V19     0.029  1.818e-16  9.528e-17  2.577e-16 -2.657e-16 -3.138e-16   \n",
       "V20    -0.051  1.037e-16 -9.310e-16 -9.429e-16 -3.223e-16  2.076e-16   \n",
       "V21     0.045 -1.755e-16  8.444e-17 -2.972e-17 -9.977e-17 -1.369e-16   \n",
       "V22     0.144  7.477e-17  2.501e-16  4.648e-16  2.100e-16  5.060e-16   \n",
       "V23     0.051  9.809e-16  1.060e-16  2.115e-17  6.003e-17  1.638e-16   \n",
       "V24    -0.016  7.354e-17 -8.142e-18 -9.352e-17  2.230e-16 -9.286e-16   \n",
       "V25    -0.233 -9.805e-16 -4.262e-17  4.771e-16  5.395e-16  5.625e-16   \n",
       "V26    -0.041 -8.622e-17  2.602e-16  6.522e-16 -6.180e-16  9.145e-16   \n",
       "V27    -0.005  3.208e-17 -4.478e-16  6.240e-16 -6.403e-17  4.466e-16   \n",
       "V28    -0.009  9.821e-16 -3.676e-16  7.727e-16 -5.864e-17 -3.299e-16   \n",
       "Amount -0.011 -2.277e-01 -5.314e-01 -2.109e-01  9.873e-02 -3.864e-01   \n",
       "Class  -0.012 -1.013e-01  9.129e-02 -1.930e-01  1.334e-01 -9.497e-02   \n",
       "\n",
       "               V6         V7         V8         V9  ...        V21        V22  \\\n",
       "Time   -6.302e-02  8.471e-02 -3.695e-02 -8.660e-03  ...  4.474e-02  1.441e-01   \n",
       "V1      2.398e-16  1.992e-15 -9.491e-17  2.170e-16  ... -1.755e-16  7.477e-17   \n",
       "V2      5.025e-16  3.966e-16 -4.414e-17 -5.729e-17  ...  8.444e-17  2.501e-16   \n",
       "V3      1.432e-15  2.169e-15  3.433e-16 -4.234e-16  ... -2.972e-17  4.648e-16   \n",
       "V4     -2.713e-16  1.556e-16  5.196e-16  3.860e-16  ... -9.977e-17  2.100e-16   \n",
       "V5      7.926e-16 -4.210e-16  7.589e-16  4.205e-16  ... -1.369e-16  5.060e-16   \n",
       "V6      1.000e+00  1.429e-16 -1.707e-16  1.114e-16  ... -1.576e-16 -3.363e-16   \n",
       "V7      1.429e-16  1.000e+00 -8.692e-17  7.933e-16  ...  1.939e-16 -1.058e-15   \n",
       "V8     -1.707e-16 -8.692e-17  1.000e+00  2.901e-16  ... -2.412e-16  5.476e-16   \n",
       "V9      1.114e-16  7.933e-16  2.901e-16  1.000e+00  ...  4.578e-17  2.872e-17   \n",
       "V10     2.851e-16  3.043e-17  9.052e-17 -2.772e-16  ...  8.090e-16 -6.708e-16   \n",
       "V11     4.866e-16 -1.084e-15  1.955e-16  4.682e-16  ... -3.912e-16 -3.812e-17   \n",
       "V12     2.141e-16  1.510e-15 -6.266e-17 -2.445e-15  ...  3.230e-16 -5.904e-16   \n",
       "V13    -2.268e-16 -9.892e-17 -2.383e-16 -2.650e-16  ...  9.499e-17 -2.660e-17   \n",
       "V14     3.453e-16 -1.729e-16 -1.131e-16  2.343e-16  ...  1.634e-17  3.440e-16   \n",
       "V15    -6.368e-18  1.937e-17  2.021e-16 -1.588e-15  ...  1.947e-17 -8.937e-16   \n",
       "V16    -2.478e-16  2.894e-16  5.027e-16 -3.252e-16  ... -3.927e-16  3.878e-17   \n",
       "V17     3.568e-16  1.150e-15 -3.509e-16  6.536e-16  ... -7.754e-16 -8.390e-16   \n",
       "V18     2.811e-16 -1.117e-16 -4.094e-16  1.204e-16  ... -1.141e-15 -8.663e-17   \n",
       "V19     2.717e-16 -2.874e-16 -5.340e-16  1.121e-16  ...  4.033e-16 -9.690e-16   \n",
       "V20     1.899e-16  1.744e-16 -1.096e-16 -4.341e-16  ... -1.121e-15  1.106e-15   \n",
       "V21    -1.576e-16  1.939e-16 -2.412e-16  4.578e-17  ...  1.000e+00  3.906e-15   \n",
       "V22    -3.363e-16 -1.058e-15  5.476e-16  2.872e-17  ...  3.906e-15  1.000e+00   \n",
       "V23    -7.232e-17  2.328e-16  3.897e-16  5.929e-16  ...  6.127e-16  3.131e-16   \n",
       "V24    -1.262e-15 -2.590e-17 -1.803e-16 -2.346e-16  ...  1.298e-16  1.151e-17   \n",
       "V25     1.082e-15  1.174e-15 -1.391e-16  1.100e-15  ... -2.826e-16 -6.079e-16   \n",
       "V26    -2.378e-16 -7.335e-16 -1.210e-16 -1.389e-15  ... -4.907e-16 -8.477e-16   \n",
       "V27    -2.624e-16 -5.887e-16  1.734e-16 -2.287e-16  ... -1.033e-15 -1.295e-16   \n",
       "V28     4.813e-16 -6.837e-17 -4.484e-16  9.147e-16  ...  5.132e-16 -3.021e-16   \n",
       "Amount  2.160e-01  3.973e-01 -1.031e-01 -4.425e-02  ...  1.060e-01 -6.480e-02   \n",
       "Class  -4.364e-02 -1.873e-01  1.988e-02 -9.773e-02  ...  4.041e-02  8.053e-04   \n",
       "\n",
       "              V23        V24        V25        V26        V27        V28  \\\n",
       "Time    5.114e-02 -1.618e-02 -2.331e-01 -4.141e-02 -5.135e-03 -9.413e-03   \n",
       "V1      9.809e-16  7.354e-17 -9.805e-16 -8.622e-17  3.208e-17  9.821e-16   \n",
       "V2      1.060e-16 -8.142e-18 -4.262e-17  2.602e-16 -4.478e-16 -3.676e-16   \n",
       "V3      2.115e-17 -9.352e-17  4.771e-16  6.522e-16  6.240e-16  7.727e-16   \n",
       "V4      6.003e-17  2.230e-16  5.395e-16 -6.180e-16 -6.403e-17 -5.864e-17   \n",
       "V5      1.638e-16 -9.286e-16  5.625e-16  9.145e-16  4.466e-16 -3.299e-16   \n",
       "V6     -7.232e-17 -1.262e-15  1.082e-15 -2.378e-16 -2.624e-16  4.813e-16   \n",
       "V7      2.328e-16 -2.590e-17  1.174e-15 -7.335e-16 -5.887e-16 -6.837e-17   \n",
       "V8      3.897e-16 -1.803e-16 -1.391e-16 -1.210e-16  1.734e-16 -4.484e-16   \n",
       "V9      5.929e-16 -2.346e-16  1.100e-15 -1.389e-15 -2.287e-16  9.147e-16   \n",
       "V10     3.810e-16 -4.033e-17 -2.864e-16 -2.554e-16 -3.103e-16 -1.516e-16   \n",
       "V11     2.232e-16  1.220e-15 -4.568e-16 -1.111e-16 -2.636e-16 -3.092e-16   \n",
       "V12     1.392e-16  4.902e-16  5.054e-16 -5.759e-16 -2.313e-16  7.327e-16   \n",
       "V13    -5.884e-16 -5.471e-16  8.067e-17 -2.122e-16 -4.520e-16  1.050e-15   \n",
       "V14     7.621e-17  2.336e-16 -2.607e-16 -6.580e-18  1.286e-16  2.503e-15   \n",
       "V15     1.120e-16 -4.590e-16  3.870e-16  3.761e-16 -1.265e-15 -1.063e-15   \n",
       "V16     8.520e-16 -4.289e-16 -6.644e-16 -5.187e-16  7.820e-16  8.637e-16   \n",
       "V17     5.368e-16 -5.544e-17  4.822e-16  4.870e-16  8.844e-16 -2.183e-16   \n",
       "V18    -3.624e-16 -1.126e-16 -2.311e-16  3.184e-16  2.435e-16  8.845e-16   \n",
       "V19     5.734e-16  3.127e-17  7.415e-16  5.614e-16 -1.113e-16 -1.376e-15   \n",
       "V20     4.987e-16  1.637e-16 -1.518e-16 -2.975e-16 -1.446e-15 -1.134e-16   \n",
       "V21     6.127e-16  1.298e-16 -2.826e-16 -4.907e-16 -1.033e-15  5.132e-16   \n",
       "V22     3.131e-16  1.151e-17 -6.079e-16 -8.477e-16 -1.295e-16 -3.021e-16   \n",
       "V23     1.000e+00 -4.411e-17 -9.938e-16  8.849e-16  5.524e-16  9.030e-16   \n",
       "V24    -4.411e-17  1.000e+00  1.557e-15  3.129e-16 -3.737e-16 -2.259e-16   \n",
       "V25    -9.938e-16  1.557e-15  1.000e+00  2.811e-15 -6.107e-16  3.399e-16   \n",
       "V26     8.849e-16  3.129e-16  2.811e-15  1.000e+00 -3.384e-16 -3.751e-16   \n",
       "V27     5.524e-16 -3.737e-16 -6.107e-16 -3.384e-16  1.000e+00 -3.770e-16   \n",
       "V28     9.030e-16 -2.259e-16  3.399e-16 -3.751e-16 -3.770e-16  1.000e+00   \n",
       "Amount -1.126e-01  5.146e-03 -4.784e-02 -3.208e-03  2.883e-02  1.026e-02   \n",
       "Class  -2.685e-03 -7.221e-03  3.308e-03  4.455e-03  1.758e-02  9.536e-03   \n",
       "\n",
       "           Amount      Class  \n",
       "Time   -1.060e-02 -1.232e-02  \n",
       "V1     -2.277e-01 -1.013e-01  \n",
       "V2     -5.314e-01  9.129e-02  \n",
       "V3     -2.109e-01 -1.930e-01  \n",
       "V4      9.873e-02  1.334e-01  \n",
       "V5     -3.864e-01 -9.497e-02  \n",
       "V6      2.160e-01 -4.364e-02  \n",
       "V7      3.973e-01 -1.873e-01  \n",
       "V8     -1.031e-01  1.988e-02  \n",
       "V9     -4.425e-02 -9.773e-02  \n",
       "V10    -1.015e-01 -2.169e-01  \n",
       "V11     1.040e-04  1.549e-01  \n",
       "V12    -9.542e-03 -2.606e-01  \n",
       "V13     5.293e-03 -4.570e-03  \n",
       "V14     3.375e-02 -3.025e-01  \n",
       "V15    -2.986e-03 -4.223e-03  \n",
       "V16    -3.910e-03 -1.965e-01  \n",
       "V17     7.309e-03 -3.265e-01  \n",
       "V18     3.565e-02 -1.115e-01  \n",
       "V19    -5.615e-02  3.478e-02  \n",
       "V20     3.394e-01  2.009e-02  \n",
       "V21     1.060e-01  4.041e-02  \n",
       "V22    -6.480e-02  8.053e-04  \n",
       "V23    -1.126e-01 -2.685e-03  \n",
       "V24     5.146e-03 -7.221e-03  \n",
       "V25    -4.784e-02  3.308e-03  \n",
       "V26    -3.208e-03  4.455e-03  \n",
       "V27     2.883e-02  1.758e-02  \n",
       "V28     1.026e-02  9.536e-03  \n",
       "Amount  1.000e+00  5.632e-03  \n",
       "Class   5.632e-03  1.000e+00  \n",
       "\n",
       "[31 rows x 31 columns]"
      ]
     },
     "execution_count": 9,
     "metadata": {},
     "output_type": "execute_result"
    }
   ],
   "source": [
    "# find correlation\n",
    "corr = df.corr()\n",
    "corr"
   ]
  },
  {
   "cell_type": "code",
   "execution_count": 10,
   "metadata": {},
   "outputs": [
    {
     "data": {
      "text/plain": [
       "V7    Amount    0.397\n",
       "V20   Amount    0.339\n",
       "V6    Amount    0.216\n",
       "Time  V5        0.173\n",
       "V11   Class     0.155\n",
       "                ...  \n",
       "V14   Class    -0.303\n",
       "V17   Class    -0.326\n",
       "V5    Amount   -0.386\n",
       "Time  V3       -0.420\n",
       "V2    Amount   -0.531\n",
       "Length: 465, dtype: float64"
      ]
     },
     "execution_count": 10,
     "metadata": {},
     "output_type": "execute_result"
    }
   ],
   "source": [
    "sol = (corr.where(np.triu(np.ones(corr.shape), k=1).astype(np.bool))\n",
    "           .stack()\n",
    "           .sort_values(ascending=False))\n",
    "sol"
   ]
  },
  {
   "cell_type": "code",
   "execution_count": 11,
   "metadata": {
    "scrolled": false
   },
   "outputs": [
    {
     "data": {
      "text/plain": [
       "Text(0.5, 1, 'Heatmap of Correlation')"
      ]
     },
     "execution_count": 11,
     "metadata": {},
     "output_type": "execute_result"
    },
    {
     "data": {
      "image/png": "[encoded data removed]",
      "text/plain": [
       "<Figure size 864x720 with 2 Axes>"
      ]
     },
     "metadata": {
      "needs_background": "light"
     },
     "output_type": "display_data"
    }
   ],
   "source": [
    "# heatmap\n",
    "corr = df.corr()\n",
    "plt.figure(figsize=(12,10))\n",
    "heat = sns.heatmap(data=corr)\n",
    "plt.title('Heatmap of Correlation')"
   ]
  },
  {
   "cell_type": "code",
   "execution_count": null,
   "metadata": {},
   "outputs": [],
   "source": []
  },
  {
   "cell_type": "code",
   "execution_count": 12,
   "metadata": {
    "scrolled": false
   },
   "outputs": [
    {
     "data": {
      "text/html": [
       "<div>\n",
       "<style scoped>\n",
       "    .dataframe tbody tr th:only-of-type {\n",
       "        vertical-align: middle;\n",
       "    }\n",
       "\n",
       "    .dataframe tbody tr th {\n",
       "        vertical-align: top;\n",
       "    }\n",
       "\n",
       "    .dataframe thead th {\n",
       "        text-align: right;\n",
       "    }\n",
       "</style>\n",
       "<table border=\"1\" class=\"dataframe\">\n",
       "  <thead>\n",
       "    <tr style=\"text-align: right;\">\n",
       "      <th></th>\n",
       "      <th>Class</th>\n",
       "    </tr>\n",
       "  </thead>\n",
       "  <tbody>\n",
       "    <tr>\n",
       "      <td>Time</td>\n",
       "      <td>-1.232e-02</td>\n",
       "    </tr>\n",
       "    <tr>\n",
       "      <td>V1</td>\n",
       "      <td>-1.013e-01</td>\n",
       "    </tr>\n",
       "    <tr>\n",
       "      <td>V2</td>\n",
       "      <td>9.129e-02</td>\n",
       "    </tr>\n",
       "    <tr>\n",
       "      <td>V3</td>\n",
       "      <td>-1.930e-01</td>\n",
       "    </tr>\n",
       "    <tr>\n",
       "      <td>V4</td>\n",
       "      <td>1.334e-01</td>\n",
       "    </tr>\n",
       "    <tr>\n",
       "      <td>V5</td>\n",
       "      <td>-9.497e-02</td>\n",
       "    </tr>\n",
       "    <tr>\n",
       "      <td>V6</td>\n",
       "      <td>-4.364e-02</td>\n",
       "    </tr>\n",
       "    <tr>\n",
       "      <td>V7</td>\n",
       "      <td>-1.873e-01</td>\n",
       "    </tr>\n",
       "    <tr>\n",
       "      <td>V8</td>\n",
       "      <td>1.988e-02</td>\n",
       "    </tr>\n",
       "    <tr>\n",
       "      <td>V9</td>\n",
       "      <td>-9.773e-02</td>\n",
       "    </tr>\n",
       "    <tr>\n",
       "      <td>V10</td>\n",
       "      <td>-2.169e-01</td>\n",
       "    </tr>\n",
       "    <tr>\n",
       "      <td>V11</td>\n",
       "      <td>1.549e-01</td>\n",
       "    </tr>\n",
       "    <tr>\n",
       "      <td>V12</td>\n",
       "      <td>-2.606e-01</td>\n",
       "    </tr>\n",
       "    <tr>\n",
       "      <td>V13</td>\n",
       "      <td>-4.570e-03</td>\n",
       "    </tr>\n",
       "    <tr>\n",
       "      <td>V14</td>\n",
       "      <td>-3.025e-01</td>\n",
       "    </tr>\n",
       "    <tr>\n",
       "      <td>V15</td>\n",
       "      <td>-4.223e-03</td>\n",
       "    </tr>\n",
       "    <tr>\n",
       "      <td>V16</td>\n",
       "      <td>-1.965e-01</td>\n",
       "    </tr>\n",
       "    <tr>\n",
       "      <td>V17</td>\n",
       "      <td>-3.265e-01</td>\n",
       "    </tr>\n",
       "    <tr>\n",
       "      <td>V18</td>\n",
       "      <td>-1.115e-01</td>\n",
       "    </tr>\n",
       "    <tr>\n",
       "      <td>V19</td>\n",
       "      <td>3.478e-02</td>\n",
       "    </tr>\n",
       "    <tr>\n",
       "      <td>V20</td>\n",
       "      <td>2.009e-02</td>\n",
       "    </tr>\n",
       "    <tr>\n",
       "      <td>V21</td>\n",
       "      <td>4.041e-02</td>\n",
       "    </tr>\n",
       "    <tr>\n",
       "      <td>V22</td>\n",
       "      <td>8.053e-04</td>\n",
       "    </tr>\n",
       "    <tr>\n",
       "      <td>V23</td>\n",
       "      <td>-2.685e-03</td>\n",
       "    </tr>\n",
       "    <tr>\n",
       "      <td>V24</td>\n",
       "      <td>-7.221e-03</td>\n",
       "    </tr>\n",
       "    <tr>\n",
       "      <td>V25</td>\n",
       "      <td>3.308e-03</td>\n",
       "    </tr>\n",
       "    <tr>\n",
       "      <td>V26</td>\n",
       "      <td>4.455e-03</td>\n",
       "    </tr>\n",
       "    <tr>\n",
       "      <td>V27</td>\n",
       "      <td>1.758e-02</td>\n",
       "    </tr>\n",
       "    <tr>\n",
       "      <td>V28</td>\n",
       "      <td>9.536e-03</td>\n",
       "    </tr>\n",
       "    <tr>\n",
       "      <td>Amount</td>\n",
       "      <td>5.632e-03</td>\n",
       "    </tr>\n",
       "    <tr>\n",
       "      <td>Class</td>\n",
       "      <td>1.000e+00</td>\n",
       "    </tr>\n",
       "  </tbody>\n",
       "</table>\n",
       "</div>"
      ],
      "text/plain": [
       "            Class\n",
       "Time   -1.232e-02\n",
       "V1     -1.013e-01\n",
       "V2      9.129e-02\n",
       "V3     -1.930e-01\n",
       "V4      1.334e-01\n",
       "V5     -9.497e-02\n",
       "V6     -4.364e-02\n",
       "V7     -1.873e-01\n",
       "V8      1.988e-02\n",
       "V9     -9.773e-02\n",
       "V10    -2.169e-01\n",
       "V11     1.549e-01\n",
       "V12    -2.606e-01\n",
       "V13    -4.570e-03\n",
       "V14    -3.025e-01\n",
       "V15    -4.223e-03\n",
       "V16    -1.965e-01\n",
       "V17    -3.265e-01\n",
       "V18    -1.115e-01\n",
       "V19     3.478e-02\n",
       "V20     2.009e-02\n",
       "V21     4.041e-02\n",
       "V22     8.053e-04\n",
       "V23    -2.685e-03\n",
       "V24    -7.221e-03\n",
       "V25     3.308e-03\n",
       "V26     4.455e-03\n",
       "V27     1.758e-02\n",
       "V28     9.536e-03\n",
       "Amount  5.632e-03\n",
       "Class   1.000e+00"
      ]
     },
     "execution_count": 12,
     "metadata": {},
     "output_type": "execute_result"
    }
   ],
   "source": [
    "#taking a look at correlations once more\n",
    "corr_class = corr[['Class']]\n",
    "corr_class"
   ]
  },
  {
   "cell_type": "code",
   "execution_count": 13,
   "metadata": {},
   "outputs": [
    {
     "data": {
      "text/html": [
       "<div>\n",
       "<style scoped>\n",
       "    .dataframe tbody tr th:only-of-type {\n",
       "        vertical-align: middle;\n",
       "    }\n",
       "\n",
       "    .dataframe tbody tr th {\n",
       "        vertical-align: top;\n",
       "    }\n",
       "\n",
       "    .dataframe thead th {\n",
       "        text-align: right;\n",
       "    }\n",
       "</style>\n",
       "<table border=\"1\" class=\"dataframe\">\n",
       "  <thead>\n",
       "    <tr style=\"text-align: right;\">\n",
       "      <th></th>\n",
       "      <th>Class</th>\n",
       "    </tr>\n",
       "  </thead>\n",
       "  <tbody>\n",
       "    <tr>\n",
       "      <td>V10</td>\n",
       "      <td>-0.217</td>\n",
       "    </tr>\n",
       "    <tr>\n",
       "      <td>V12</td>\n",
       "      <td>-0.261</td>\n",
       "    </tr>\n",
       "    <tr>\n",
       "      <td>V14</td>\n",
       "      <td>-0.303</td>\n",
       "    </tr>\n",
       "    <tr>\n",
       "      <td>V17</td>\n",
       "      <td>-0.326</td>\n",
       "    </tr>\n",
       "  </tbody>\n",
       "</table>\n",
       "</div>"
      ],
      "text/plain": [
       "     Class\n",
       "V10 -0.217\n",
       "V12 -0.261\n",
       "V14 -0.303\n",
       "V17 -0.326"
      ]
     },
     "execution_count": 13,
     "metadata": {},
     "output_type": "execute_result"
    }
   ],
   "source": [
    "#negative correlations smaller than -0.2\n",
    "corr_class[corr_class.Class < -0.2]"
   ]
  },
  {
   "cell_type": "code",
   "execution_count": 14,
   "metadata": {},
   "outputs": [
    {
     "data": {
      "text/html": [
       "<div>\n",
       "<style scoped>\n",
       "    .dataframe tbody tr th:only-of-type {\n",
       "        vertical-align: middle;\n",
       "    }\n",
       "\n",
       "    .dataframe tbody tr th {\n",
       "        vertical-align: top;\n",
       "    }\n",
       "\n",
       "    .dataframe thead th {\n",
       "        text-align: right;\n",
       "    }\n",
       "</style>\n",
       "<table border=\"1\" class=\"dataframe\">\n",
       "  <thead>\n",
       "    <tr style=\"text-align: right;\">\n",
       "      <th></th>\n",
       "      <th>Class</th>\n",
       "    </tr>\n",
       "  </thead>\n",
       "  <tbody>\n",
       "    <tr>\n",
       "      <td>V4</td>\n",
       "      <td>0.133</td>\n",
       "    </tr>\n",
       "    <tr>\n",
       "      <td>V11</td>\n",
       "      <td>0.155</td>\n",
       "    </tr>\n",
       "    <tr>\n",
       "      <td>Class</td>\n",
       "      <td>1.000</td>\n",
       "    </tr>\n",
       "  </tbody>\n",
       "</table>\n",
       "</div>"
      ],
      "text/plain": [
       "       Class\n",
       "V4     0.133\n",
       "V11    0.155\n",
       "Class  1.000"
      ]
     },
     "execution_count": 14,
     "metadata": {},
     "output_type": "execute_result"
    }
   ],
   "source": [
    "#positive correlations greater than 0.1\n",
    "corr_class[corr_class.Class > 0.1]"
   ]
  },
  {
   "cell_type": "code",
   "execution_count": 15,
   "metadata": {},
   "outputs": [
    {
     "data": {
      "image/png": "[encoded data removed]",
      "text/plain": [
       "<Figure size 1296x864 with 5 Axes>"
      ]
     },
     "metadata": {
      "needs_background": "light"
     },
     "output_type": "display_data"
    }
   ],
   "source": [
    "#visualizing the features w high negative correlation\n",
    "f, axes = plt.subplots(nrows=2, ncols=3, figsize=(18,12))\n",
    "\n",
    "f.suptitle('Features With High Negative Correlation', size=24)\n",
    "sns.boxplot(x=\"Class\", y=\"V10\", data=df, ax=axes[0,0])\n",
    "sns.boxplot(x=\"Class\", y=\"V12\", data=df, ax=axes[0,1])\n",
    "sns.boxplot(x=\"Class\", y=\"V14\", data=df, ax=axes[0,2])\n",
    "sns.boxplot(x=\"Class\", y=\"V16\", data=df, ax=axes[1,0])\n",
    "sns.boxplot(x=\"Class\", y=\"V17\", data=df, ax=axes[1,1])\n",
    "f.delaxes(axes[1,2])"
   ]
  },
  {
   "cell_type": "code",
   "execution_count": 16,
   "metadata": {},
   "outputs": [
    {
     "data": {
      "text/plain": [
       "<matplotlib.axes._subplots.AxesSubplot at 0x1a1cd53990>"
      ]
     },
     "execution_count": 16,
     "metadata": {},
     "output_type": "execute_result"
    },
    {
     "data": {
      "image/png": "[encoded data removed]",
      "text/plain": [
       "<Figure size 1080x648 with 2 Axes>"
      ]
     },
     "metadata": {
      "needs_background": "light"
     },
     "output_type": "display_data"
    }
   ],
   "source": [
    "#visualizing the features w high negative correlation\n",
    "f, axes = plt.subplots(nrows=1, ncols=2, figsize=(15,9))\n",
    "\n",
    "f.suptitle('Features With High Positive Correlation', size=24)\n",
    "sns.boxplot(x=\"Class\", y=\"V4\", data=df, ax=axes[0])\n",
    "sns.boxplot(x=\"Class\", y=\"V11\", data=df, ax=axes[1])"
   ]
  },
  {
   "cell_type": "code",
   "execution_count": null,
   "metadata": {},
   "outputs": [],
   "source": []
  },
  {
   "cell_type": "markdown",
   "metadata": {},
   "source": [
    "*Summary of the credit card transaction dataset:* \n",
    "\n",
    "* The variables are unnamed, because we are not working with original credit card data but with variables that have been orthogonally transformed into uncorrelated variables (principal components). \n",
    "\n",
    "* There are 29 variables of type float and 1 variable of type integer. The former are the principal component that we can use as features, and the latter is the binary response variable indicating the transaction anomalies. \n",
    "\n",
    "* The number of anomalies is very small compared to the total number of transactions collected over the course of two days. In other words, the dataset is highly unbalanced, and this requires special attention when we build a classifier to predict anomalies in the transaction data. \n",
    "\n",
    "* Around 88 dollars is the mean of all credit card transactions in this data set. The biggest transaction had a monetary value of around 25,691 dollars."
   ]
  },
  {
   "cell_type": "markdown",
   "metadata": {},
   "source": [
    "## 3.1.1 Logistic Regression\n",
    "\n",
    "Predicting anomalies is a binary classification problem. We assume that a transaction represents either an anomaly (1) or not (0), but never both. Logistic Regression is a good starting point for this type of classification because it is fast, and still allows us to explain what variables are influential. (While this is always the case, note that our variables are **PCAs meaning that their influence does not give us any information**.) We will follow a step-wise approach: \n",
    "\n",
    "1. Split the data into a training set and a testing (or hold-out) set; \n",
    "2. Scale and center the data; \n",
    "3. Fit an initial classifier: \n",
    "    * Use default parameters; \n",
    "    * Predict (non)anomalous transactions;  \n",
    "    * Evaluate initial classifier; \n",
    "4. Hyperparameter tuning of classifier with k-fold cross-validation: \n",
    "    * Identify optimized parameter set for classifier; \n",
    "    * Predict (non)anomalous transactions; \n",
    "    * Evaluate optimized classifier."
   ]
  },
  {
   "cell_type": "markdown",
   "metadata": {},
   "source": [
    "### Notes on using StandardScaler\n",
    "\n",
    "StandardScaler : It transforms the data in such a manner that it has mean as 0 and standard deviation as 1. In short, it standardizes the data. Standardization is useful for data which has negative values. It arranges the data in normal distribution. It is more useful in classification than regression. You can read this blog of mine.\n",
    "\n",
    "StandardScaler standardizes a feature by subtracting the mean and then scaling to unit variance. Unit variance means dividing all the values by the standard deviation.\n",
    "\n",
    "Normalizer : It squeezes the data between 0 and 1. It performs normalization. Due to the decreased range and magnitude, the gradients in the training process do not explode and you do not get higher values of loss. Is more useful in regression than classification. You can read this blog of mine."
   ]
  },
  {
   "cell_type": "code",
   "execution_count": 17,
   "metadata": {},
   "outputs": [],
   "source": [
    "# Import modules\n",
    "from inspect import signature\n",
    "from sklearn.linear_model import LogisticRegression\n",
    "from sklearn.metrics import confusion_matrix, classification_report, roc_curve, roc_auc_score, mean_squared_error, average_precision_score, precision_recall_curve\n",
    "from sklearn.model_selection import cross_val_score, train_test_split, RandomizedSearchCV\n",
    "from sklearn.preprocessing import StandardScaler"
   ]
  },
  {
   "cell_type": "code",
   "execution_count": 18,
   "metadata": {},
   "outputs": [],
   "source": [
    "# Create training and testing sets\n",
    "X_train, X_test, y_train, y_test  = train_test_split(X, y, test_size = 0.3, random_state=21)"
   ]
  },
  {
   "cell_type": "code",
   "execution_count": 19,
   "metadata": {},
   "outputs": [],
   "source": [
    "# Scale and center data\n",
    "scaler = StandardScaler().fit(X_train)\n",
    "X_train = scaler.transform(X_train)\n",
    "X_test = scaler.transform(X_test)"
   ]
  },
  {
   "cell_type": "code",
   "execution_count": 20,
   "metadata": {},
   "outputs": [
    {
     "data": {
      "text/plain": [
       "LogisticRegression(C=1.0, class_weight=None, dual=False, fit_intercept=True,\n",
       "                   intercept_scaling=1, l1_ratio=None, max_iter=200,\n",
       "                   multi_class='warn', n_jobs=None, penalty='l2',\n",
       "                   random_state=21, solver='lbfgs', tol=0.0001, verbose=0,\n",
       "                   warm_start=False)"
      ]
     },
     "execution_count": 20,
     "metadata": {},
     "output_type": "execute_result"
    }
   ],
   "source": [
    "# Instantiate classifier\n",
    "clf = LogisticRegression(solver='lbfgs', max_iter=200, random_state=21)\n",
    "\n",
    "# Fit classifier to the training set\n",
    "clf.fit(X_train, y_train)"
   ]
  },
  {
   "cell_type": "code",
   "execution_count": 21,
   "metadata": {},
   "outputs": [
    {
     "name": "stdout",
     "output_type": "stream",
     "text": [
      "===========================Initial LR training report===========================\n",
      "Accuracy: 0.9992\n",
      "MSE: 0.0008\n",
      "Confusion matrix:\n",
      "[[198993     28]\n",
      " [   132    211]]\n",
      "Classification report:\n",
      "              precision    recall  f1-score   support\n",
      "\n",
      "           0       1.00      1.00      1.00    199021\n",
      "           1       0.88      0.62      0.73       343\n",
      "\n",
      "    accuracy                           1.00    199364\n",
      "   macro avg       0.94      0.81      0.86    199364\n",
      "weighted avg       1.00      1.00      1.00    199364\n",
      "\n"
     ]
    }
   ],
   "source": [
    "# Compute training metrics\n",
    "accuracy = clf.score(X_train, y_train)\n",
    "\n",
    "#  Predict labels of test set\n",
    "train_pred = clf.predict(X_train)\n",
    "\n",
    "# Compute MSE, confusion matrix, classification report\n",
    "mse = mean_squared_error(y_train, train_pred)\n",
    "conf_mat = confusion_matrix(y_train.round(), train_pred.round())\n",
    "clas_rep = classification_report(y_train.round(), train_pred.round())\n",
    "\n",
    "# Print reports\n",
    "print('{:=^80}'.format('Initial LR training report'))\n",
    "print('Accuracy: %.4f' % accuracy)\n",
    "print(\"MSE: %.4f\" % mse)\n",
    "print(\"Confusion matrix:\\n{}\".format(conf_mat))\n",
    "print(\"Classification report:\\n{}\".format(clas_rep))"
   ]
  },
  {
   "cell_type": "code",
   "execution_count": 22,
   "metadata": {},
   "outputs": [
    {
     "name": "stdout",
     "output_type": "stream",
     "text": [
      "===========================Initial LR testing report============================\n",
      "Accuracy: 0.9992\n",
      "MSE: 0.0008\n",
      "Confusion matrix:\n",
      "[[85283    11]\n",
      " [   61    88]]\n",
      "Classification report:\n",
      "              precision    recall  f1-score   support\n",
      "\n",
      "           0       1.00      1.00      1.00     85294\n",
      "           1       0.89      0.59      0.71       149\n",
      "\n",
      "    accuracy                           1.00     85443\n",
      "   macro avg       0.94      0.80      0.85     85443\n",
      "weighted avg       1.00      1.00      1.00     85443\n",
      "\n"
     ]
    }
   ],
   "source": [
    "# Compute testing metrics\n",
    "accuracy = clf.score(X_test, y_test)\n",
    "\n",
    "# Predict labels of test set\n",
    "y_pred = clf.predict(X_test)\n",
    "\n",
    "# Compute MSE, confusion matrix, classification report\n",
    "mse = mean_squared_error(y_test, y_pred)\n",
    "conf_mat = confusion_matrix(y_test.round(), y_pred.round())\n",
    "clas_rep = classification_report(y_test.round(), y_pred.round())\n",
    "\n",
    "# Print reports\n",
    "print('{:=^80}'.format('Initial LR testing report'))\n",
    "print('Accuracy: %.4f' % accuracy)\n",
    "print(\"MSE: %.4f\" % mse)\n",
    "print(\"Confusion matrix:\\n{}\".format(conf_mat))\n",
    "print(\"Classification report:\\n{}\".format(clas_rep))"
   ]
  },
  {
   "cell_type": "markdown",
   "metadata": {},
   "source": [
    "<table>\n",
    "  <tr>\n",
    "    <td></td>\n",
    "    <td>Prediction: 0</td>\n",
    "    <td>Prediction: 1</td>\n",
    "  </tr>\n",
    "  <tr>\n",
    "    <td>Actual: 0 </td>\n",
    "    <td>True negative</td>\n",
    "    <td>False positive</td>\n",
    "  </tr>\n",
    "  <tr>\n",
    "    <td>Actual: 1</td>\n",
    "    <td>False negative</td>\n",
    "    <td>True positive</td>\n",
    "  </tr>\n",
    "</table> \n",
    "\n",
    "* Precision = tp / (tp + fp) \n",
    "* Recall = tp / (tp + fn) \n",
    "* F-beta score = 2 * (precision * recall) / (precision + recall) \n",
    "\n",
    "The classification report (above) shows that the accuracy of the model is outstanding (close to 1.00). But this does not mean this a good model. Why? The vast majority - 99.83% of the transactions are not marked as anomalies in the dataset. An alternative model would simply classify all values as 0 (not anomalous), and still have an accuracy of 1.00 (98.83% to be exact). Despite the fact that this classifier has a very high accuracy and a very low mean squared error, we need to evaluate the metrics that reflect the fact that this dataset is highly unbalanced. We want to focus particularly on the class of interest: anomalous transactions. The recall rate for anomalies (value 1), is not indeed very high (0.59). While the precision for anomalies (0.89) is a good result for an uncalibrated model, the confusion matrix shows that we incorrectly classified 61 transactions as anomalous."
   ]
  },
  {
   "cell_type": "code",
   "execution_count": 23,
   "metadata": {},
   "outputs": [
    {
     "name": "stdout",
     "output_type": "stream",
     "text": [
      "AUC: 0.9829062620044716\n"
     ]
    },
    {
     "data": {
      "image/png": "[encoded data removed]",
      "text/plain": [
       "<Figure size 432x288 with 1 Axes>"
      ]
     },
     "metadata": {
      "needs_background": "light"
     },
     "output_type": "display_data"
    }
   ],
   "source": [
    "# Compute predicted probabilities\n",
    "y_pred_prob = clf.predict_proba(X_test)[:,1]\n",
    "\n",
    "# Calculate receiver operating characteristics (ROC)\n",
    "fpr, tpr, thresholds = roc_curve(y_test, y_pred_prob)\n",
    "\n",
    "# Compute AUC score\n",
    "print(\"AUC: {}\".format(roc_auc_score(y_test, y_pred_prob)))\n",
    "\n",
    "# Plot ROC curve\n",
    "plt.plot([0, 1], [0, 1], 'k-')\n",
    "plt.plot(fpr, tpr)\n",
    "plt.xlabel('False positive rate')\n",
    "plt.ylabel('True positive rate')\n",
    "plt.ylim([0.0, 1.05])\n",
    "plt.xlim([0.0, 1.0])\n",
    "plt.title('Initial LR Testing\\nROC curve')\n",
    "plt.show()"
   ]
  },
  {
   "cell_type": "code",
   "execution_count": 24,
   "metadata": {},
   "outputs": [
    {
     "name": "stdout",
     "output_type": "stream",
     "text": [
      "AUPRC: 0.7805894031351092\n"
     ]
    },
    {
     "data": {
      "image/png": "[encoded data removed]",
      "text/plain": [
       "<Figure size 432x288 with 1 Axes>"
      ]
     },
     "metadata": {
      "needs_background": "light"
     },
     "output_type": "display_data"
    }
   ],
   "source": [
    "# Compute AUPRC score\n",
    "average_precision = average_precision_score(y_test, y_pred_prob)\n",
    "print(\"AUPRC: {}\".format(average_precision))\n",
    "\n",
    "# Plot PR curve\n",
    "precision, recall, _ = precision_recall_curve(y_test, y_pred_prob)\n",
    "step_kwargs = ({'step': 'post'}\n",
    "               if 'step' in signature(plt.fill_between).parameters\n",
    "               else {})\n",
    "plt.step(recall, precision, color='b', alpha=0.2, where='post')\n",
    "plt.fill_between(recall, precision, alpha=0.2, color='b', **step_kwargs)\n",
    "\n",
    "plt.xlabel('Recall')\n",
    "plt.ylabel('Precision')\n",
    "plt.ylim([0.0, 1.05])\n",
    "plt.xlim([0.0, 1.0])\n",
    "plt.title('Initial LR Testing\\n2-class Precision-Recall curve: AP={0:0.4f}'.format(average_precision))\n",
    "plt.show()"
   ]
  },
  {
   "cell_type": "markdown",
   "metadata": {},
   "source": [
    "Again, we see that metrics like area under ROC curve and accuracy (above) give a too optimistic impression of model performance. To reflect the unbalanced character of the credit card transaction data (0.1727% of the transactions were anomalous and 99.8273‬% were not anomalous), we also plotted the Precision-Recall curve. The area under the Precision-Recall curve (AUPRC) is a useful metric: if we had to assign this model a grade, 78/100 would be it. Not bad, but still much unexploited potential."
   ]
  },
  {
   "cell_type": "markdown",
   "metadata": {},
   "source": [
    "### 3.1.2 LR hyperparameter tuning\n",
    "\n",
    "To improve the performance of the Logistic Regression classifier, we will calibrate its main parameter C with a random grid search. The C-parameter fixes the inverse of regularization strength, and setting this parameter to a smaller value will increase the regularization strength."
   ]
  },
  {
   "cell_type": "code",
   "execution_count": 25,
   "metadata": {},
   "outputs": [
    {
     "name": "stdout",
     "output_type": "stream",
     "text": [
      "{'C': array([1.00000000e-03, 1.25892541e-03, 1.58489319e-03, 1.99526231e-03,\n",
      "       2.51188643e-03, 3.16227766e-03, 3.98107171e-03, 5.01187234e-03,\n",
      "       6.30957344e-03, 7.94328235e-03, 1.00000000e-02, 1.25892541e-02,\n",
      "       1.58489319e-02, 1.99526231e-02, 2.51188643e-02, 3.16227766e-02,\n",
      "       3.98107171e-02, 5.01187234e-02, 6.30957344e-02, 7.94328235e-02,\n",
      "       1.00000000e-01, 1.25892541e-01, 1.58489319e-01, 1.99526231e-01,\n",
      "       2.51188643e-01, 3.16227766e-01, 3.98107171e-01, 5.01187234e-01,\n",
      "       6.30957344e-01, 7.94328235e-01, 1.00000000e+00, 1.25892541e+00,\n",
      "       1.58489319e+00, 1.99526231e+00, 2.51188643e+00, 3.16227766e+00,\n",
      "       3.98107171e+00, 5.01187234e+00, 6.30957344e+00, 7.94328235e+00,\n",
      "       1.00000000e+01, 1.25892541e+01, 1.58489319e+01, 1.99526231e+01,\n",
      "       2.51188643e+01, 3.16227766e+01, 3.98107171e+01, 5.01187234e+01,\n",
      "       6.30957344e+01, 7.94328235e+01, 1.00000000e+02]), 'solver': ['lbfgs']}\n",
      "Fitting 2 folds for each of 20 candidates, totalling 40 fits\n"
     ]
    },
    {
     "name": "stderr",
     "output_type": "stream",
     "text": [
      "[Parallel(n_jobs=-2)]: Using backend LokyBackend with 3 concurrent workers.\n",
      "[Parallel(n_jobs=-2)]: Done  35 tasks      | elapsed:   10.4s\n",
      "[Parallel(n_jobs=-2)]: Done  40 out of  40 | elapsed:   11.6s finished\n"
     ]
    }
   ],
   "source": [
    "# Define hyperparameter grid\n",
    "c_space = np.logspace(-3, 2, 51)\n",
    "rand_grid = {'C': c_space,\n",
    "             'solver': ['lbfgs'] }\n",
    "print(rand_grid)\n",
    "\n",
    "# Instantiate search object (use all cores but one)\n",
    "grid = RandomizedSearchCV(LogisticRegression(random_state=21, max_iter=100), rand_grid,\n",
    "                          n_iter = 20, cv=2, random_state=21, n_jobs = -2, verbose = 2)\n",
    "\n",
    "# Fit object to data\n",
    "grid.fit(X_train, y_train)\n",
    "\n",
    "# Extract best model\n",
    "optimized_clf = grid.best_estimator_"
   ]
  },
  {
   "cell_type": "code",
   "execution_count": 26,
   "metadata": {},
   "outputs": [
    {
     "name": "stdout",
     "output_type": "stream",
     "text": [
      "========================LR parameters for best candidate========================\n",
      "Optimized Parameters: {'solver': 'lbfgs', 'C': 0.12589254117941676}\n",
      "All Parameters: {'C': 0.12589254117941676, 'class_weight': None, 'dual': False, 'fit_intercept': True, 'intercept_scaling': 1, 'l1_ratio': None, 'max_iter': 100, 'multi_class': 'warn', 'n_jobs': None, 'penalty': 'l2', 'random_state': 21, 'solver': 'lbfgs', 'tol': 0.0001, 'verbose': 0, 'warm_start': False}\n",
      "Best score is 0.9991723681306555\n"
     ]
    }
   ],
   "source": [
    "# Print the tuned parameters and score\n",
    "print('{:=^80}'.format('LR parameters for best candidate'))\n",
    "print(\"Optimized Parameters: {}\".format(grid.best_params_)) \n",
    "print(\"All Parameters: {}\".format(optimized_clf.get_params())) \n",
    "print(\"Best score is {}\".format(grid.best_score_))"
   ]
  },
  {
   "cell_type": "code",
   "execution_count": 27,
   "metadata": {},
   "outputs": [
    {
     "name": "stdout",
     "output_type": "stream",
     "text": [
      "==========================Optimized LR training report==========================\n",
      "Accuracy: 0.9992\n",
      "MSE: 0.0008\n",
      "Confusion matrix:\n",
      "[[198993     28]\n",
      " [   133    210]]\n",
      "Classification report:\n",
      "              precision    recall  f1-score   support\n",
      "\n",
      "           0       1.00      1.00      1.00    199021\n",
      "           1       0.88      0.61      0.72       343\n",
      "\n",
      "    accuracy                           1.00    199364\n",
      "   macro avg       0.94      0.81      0.86    199364\n",
      "weighted avg       1.00      1.00      1.00    199364\n",
      "\n"
     ]
    }
   ],
   "source": [
    "# Compute training metrics\n",
    "accuracy = optimized_clf.score(X_train, y_train)\n",
    "\n",
    "#  Predict labels of test set\n",
    "train_pred = optimized_clf.predict(X_train)\n",
    "\n",
    "# Compute MSE, confusion matrix, classification report\n",
    "mse = mean_squared_error(y_train, train_pred)\n",
    "conf_mat = confusion_matrix(y_train.round(), train_pred.round())\n",
    "clas_rep = classification_report(y_train.round(), train_pred.round())\n",
    "\n",
    "# Print reports\n",
    "print('{:=^80}'.format('Optimized LR training report'))\n",
    "print('Accuracy: %.4f' % accuracy)\n",
    "print(\"MSE: %.4f\" % mse)\n",
    "print(\"Confusion matrix:\\n{}\".format(conf_mat))\n",
    "print(\"Classification report:\\n{}\".format(clas_rep))"
   ]
  },
  {
   "cell_type": "code",
   "execution_count": 28,
   "metadata": {},
   "outputs": [
    {
     "name": "stdout",
     "output_type": "stream",
     "text": [
      "==========================Optimized LR testing report===========================\n",
      "Accuracy: 0.9991\n",
      "MSE: 0.0009\n",
      "Confusion matrix:\n",
      "[[85283    11]\n",
      " [   62    87]]\n",
      "Classification report:\n",
      "              precision    recall  f1-score   support\n",
      "\n",
      "           0       1.00      1.00      1.00     85294\n",
      "           1       0.89      0.58      0.70       149\n",
      "\n",
      "    accuracy                           1.00     85443\n",
      "   macro avg       0.94      0.79      0.85     85443\n",
      "weighted avg       1.00      1.00      1.00     85443\n",
      "\n"
     ]
    }
   ],
   "source": [
    "# Compute testing metrics\n",
    "accuracy = optimized_clf.score(X_test, y_test)\n",
    "\n",
    "# Predict labels of test set\n",
    "y_pred = optimized_clf.predict(X_test)\n",
    "\n",
    "# Compute MSE, confusion matrix, classification report\n",
    "mse = mean_squared_error(y_test, y_pred)\n",
    "conf_mat = confusion_matrix(y_test.round(), y_pred.round())\n",
    "clas_rep = classification_report(y_test.round(), y_pred.round())\n",
    "\n",
    "# Print reports\n",
    "print('{:=^80}'.format('Optimized LR testing report'))\n",
    "print('Accuracy: %.4f' % accuracy)\n",
    "print(\"MSE: %.4f\" % mse)\n",
    "print(\"Confusion matrix:\\n{}\".format(conf_mat))\n",
    "print(\"Classification report:\\n{}\".format(clas_rep))"
   ]
  },
  {
   "cell_type": "code",
   "execution_count": 29,
   "metadata": {},
   "outputs": [
    {
     "name": "stdout",
     "output_type": "stream",
     "text": [
      "AUC: 0.9839071428110556\n"
     ]
    },
    {
     "data": {
      "image/png": "[encoded data removed]",
      "text/plain": [
       "<Figure size 432x288 with 1 Axes>"
      ]
     },
     "metadata": {
      "needs_background": "light"
     },
     "output_type": "display_data"
    }
   ],
   "source": [
    "# Compute predicted probabilities\n",
    "y_pred_prob = optimized_clf.predict_proba(X_test)[:,1]\n",
    "\n",
    "# Calculate receiver operating characteristics (ROC)\n",
    "fpr, tpr, thresholds = roc_curve(y_test, y_pred_prob)\n",
    "\n",
    "# Compute AUC score\n",
    "print(\"AUC: {}\".format(roc_auc_score(y_test, y_pred_prob)))\n",
    "\n",
    "# Plot ROC curve\n",
    "plt.plot([0, 1], [0, 1], 'k-')\n",
    "plt.plot(fpr, tpr)\n",
    "plt.xlabel('False positive rate')\n",
    "plt.ylabel('True positive rate')\n",
    "plt.ylim([0.0, 1.05])\n",
    "plt.xlim([0.0, 1.0])\n",
    "plt.title('Optimized LR Testing\\nROC curve')\n",
    "plt.show()"
   ]
  },
  {
   "cell_type": "code",
   "execution_count": 30,
   "metadata": {},
   "outputs": [
    {
     "name": "stdout",
     "output_type": "stream",
     "text": [
      "AUPRC: 0.7821883145333293\n"
     ]
    },
    {
     "data": {
      "image/png": "[encoded data removed]",
      "text/plain": [
       "<Figure size 432x288 with 1 Axes>"
      ]
     },
     "metadata": {
      "needs_background": "light"
     },
     "output_type": "display_data"
    }
   ],
   "source": [
    "# Compute AUPRC score\n",
    "average_precision = average_precision_score(y_test, y_pred_prob)\n",
    "print(\"AUPRC: {}\".format(average_precision))\n",
    "\n",
    "# Plot PR curve\n",
    "precision, recall, _ = precision_recall_curve(y_test, y_pred_prob)\n",
    "step_kwargs = ({'step': 'post'}\n",
    "               if 'step' in signature(plt.fill_between).parameters\n",
    "               else {})\n",
    "plt.step(recall, precision, color='b', alpha=0.2, where='post')\n",
    "plt.fill_between(recall, precision, alpha=0.2, color='b', **step_kwargs)\n",
    "\n",
    "plt.xlabel('Recall')\n",
    "plt.ylabel('Precision')\n",
    "plt.ylim([0.0, 1.05])\n",
    "plt.xlim([0.0, 1.0])\n",
    "plt.title('Optimized LR Testing\\n2-class Precision-Recall curve: AP={0:0.4f}'.format(average_precision))\n",
    "plt.show()"
   ]
  },
  {
   "cell_type": "markdown",
   "metadata": {},
   "source": [
    "*Logistic Regression final performance (above):* The model performance indicated by the AUPRC metric (area under Precision-Recall curve) did not improve substantially in comparison to the initial model, so it is time to try a different classifier."
   ]
  },
  {
   "cell_type": "markdown",
   "metadata": {},
   "source": [
    "## 3.2.1 Gradient Boosting Model (GBM) classification\n",
    "\n",
    "Gradient Boosting builds an additive model in a forward step-wise approach, by fitting a single regression tree (in binary classification) that optimizes the deviance loss function. As such, a GBM combines both parametric and non-parametric methods."
   ]
  },
  {
   "cell_type": "code",
   "execution_count": 31,
   "metadata": {},
   "outputs": [],
   "source": [
    "# Import modules\n",
    "from sklearn.ensemble import GradientBoostingClassifier"
   ]
  },
  {
   "cell_type": "code",
   "execution_count": 32,
   "metadata": {},
   "outputs": [
    {
     "name": "stdout",
     "output_type": "stream",
     "text": [
      "      Iter       Train Loss   Remaining Time \n",
      "         1           0.0237            1.18m\n",
      "         2 24424088907.7394            1.18m\n",
      "         3 24424088907.7335            1.12m\n",
      "         4 24424088442.4370            1.11m\n",
      "         5 24424088442.4367            1.07m\n",
      "         6 24424088442.4364            1.04m\n",
      "         7 24424088442.4363            1.01m\n",
      "         8 24424088442.4362           59.39s\n",
      "         9 24424088442.4361           59.30s\n",
      "        10 24424088442.4360           59.02s\n",
      "        20 24424088442.4355           52.33s\n",
      "        30 56129462269099936881573888.0000           44.68s\n",
      "        40 56129462269099936881573888.0000           38.12s\n",
      "        50 56129462269099936881573888.0000           31.46s\n",
      "        60 56129462269099936881573888.0000           25.41s\n",
      "        70 56129462269099936881573888.0000           19.28s\n",
      "        80 56129462269099936881573888.0000           12.78s\n",
      "        90 56129462269099936881573888.0000            6.29s\n",
      "       100 56129462269099936881573888.0000            0.00s\n"
     ]
    },
    {
     "data": {
      "text/plain": [
       "GradientBoostingClassifier(criterion='friedman_mse', init=None,\n",
       "                           learning_rate=0.1, loss='deviance', max_depth=3,\n",
       "                           max_features=None, max_leaf_nodes=None,\n",
       "                           min_impurity_decrease=0.0, min_impurity_split=None,\n",
       "                           min_samples_leaf=1, min_samples_split=2,\n",
       "                           min_weight_fraction_leaf=0.0, n_estimators=100,\n",
       "                           n_iter_no_change=None, presort='auto',\n",
       "                           random_state=21, subsample=1.0, tol=0.0001,\n",
       "                           validation_fraction=0.1, verbose=1,\n",
       "                           warm_start=False)"
      ]
     },
     "execution_count": 32,
     "metadata": {},
     "output_type": "execute_result"
    }
   ],
   "source": [
    "# Instantiate classifier\n",
    "clf = GradientBoostingClassifier(random_state=21, verbose=1)\n",
    "\n",
    "# Fit classifier to the training set\n",
    "clf.fit(X_train, y_train)"
   ]
  },
  {
   "cell_type": "code",
   "execution_count": 33,
   "metadata": {},
   "outputs": [
    {
     "name": "stdout",
     "output_type": "stream",
     "text": [
      "==========================Initial SVC training report===========================\n",
      "Accuracy: 0.9992\n",
      "MSE: 0.0008\n",
      "Confusion matrix:\n",
      "[[198998     23]\n",
      " [   132    211]]\n",
      "Classification report:\n",
      "              precision    recall  f1-score   support\n",
      "\n",
      "           0       1.00      1.00      1.00    199021\n",
      "           1       0.90      0.62      0.73       343\n",
      "\n",
      "    accuracy                           1.00    199364\n",
      "   macro avg       0.95      0.81      0.87    199364\n",
      "weighted avg       1.00      1.00      1.00    199364\n",
      "\n"
     ]
    }
   ],
   "source": [
    "# Compute training metrics\n",
    "accuracy = clf.score(X_train, y_train)\n",
    "\n",
    "#  Predict labels of test set\n",
    "train_pred = clf.predict(X_train)\n",
    "\n",
    "# Compute MSE, confusion matrix, classification report\n",
    "mse = mean_squared_error(y_train, train_pred)\n",
    "conf_mat = confusion_matrix(y_train.round(), train_pred.round())\n",
    "clas_rep = classification_report(y_train.round(), train_pred.round())\n",
    "\n",
    "# Print reports\n",
    "print('{:=^80}'.format('Initial SVC training report'))\n",
    "print('Accuracy: %.4f' % accuracy)\n",
    "print(\"MSE: %.4f\" % mse)\n",
    "print(\"Confusion matrix:\\n{}\".format(conf_mat))\n",
    "print(\"Classification report:\\n{}\".format(clas_rep))"
   ]
  },
  {
   "cell_type": "code",
   "execution_count": 34,
   "metadata": {},
   "outputs": [
    {
     "name": "stdout",
     "output_type": "stream",
     "text": [
      "===========================Initial GBM testing report===========================\n",
      "Accuracy: 0.9993\n",
      "MSE: 0.0007\n",
      "Confusion matrix:\n",
      "[[85284    10]\n",
      " [   51    98]]\n",
      "Classification report:\n",
      "              precision    recall  f1-score   support\n",
      "\n",
      "           0       1.00      1.00      1.00     85294\n",
      "           1       0.91      0.66      0.76       149\n",
      "\n",
      "    accuracy                           1.00     85443\n",
      "   macro avg       0.95      0.83      0.88     85443\n",
      "weighted avg       1.00      1.00      1.00     85443\n",
      "\n"
     ]
    }
   ],
   "source": [
    "# Compute testing metrics\n",
    "accuracy = clf.score(X_test, y_test)\n",
    "\n",
    "# Predict labels of test set\n",
    "y_pred = clf.predict(X_test)\n",
    "\n",
    "# Compute MSE, confusion matrix, classification report\n",
    "mse = mean_squared_error(y_test, y_pred)\n",
    "conf_mat = confusion_matrix(y_test.round(), y_pred.round())\n",
    "clas_rep = classification_report(y_test.round(), y_pred.round())\n",
    "\n",
    "# Print reports\n",
    "print('{:=^80}'.format('Initial GBM testing report'))\n",
    "print('Accuracy: %.4f' % accuracy)\n",
    "print(\"MSE: %.4f\" % mse)\n",
    "print(\"Confusion matrix:\\n{}\".format(conf_mat))\n",
    "print(\"Classification report:\\n{}\".format(clas_rep))"
   ]
  },
  {
   "cell_type": "code",
   "execution_count": 35,
   "metadata": {},
   "outputs": [
    {
     "name": "stdout",
     "output_type": "stream",
     "text": [
      "AUC: 0.8070295116630154\n"
     ]
    },
    {
     "data": {
      "image/png": "[encoded data removed]",
      "text/plain": [
       "<Figure size 432x288 with 1 Axes>"
      ]
     },
     "metadata": {
      "needs_background": "light"
     },
     "output_type": "display_data"
    }
   ],
   "source": [
    "# Compute predicted probabilities\n",
    "y_pred_prob = clf.predict_proba(X_test)[:,1]\n",
    "\n",
    "# Calculate receiver operating characteristics (ROC)\n",
    "fpr, tpr, thresholds = roc_curve(y_test, y_pred_prob)\n",
    "\n",
    "# Compute AUC score\n",
    "print(\"AUC: {}\".format(roc_auc_score(y_test, y_pred_prob)))\n",
    "\n",
    "# Plot ROC curve\n",
    "plt.plot([0, 1], [0, 1], 'k-')\n",
    "plt.plot(fpr, tpr)\n",
    "plt.xlabel('False positive rate')\n",
    "plt.ylabel('True positive rate')\n",
    "plt.ylim([0.0, 1.05])\n",
    "plt.xlim([0.0, 1.0])\n",
    "plt.title('Initial GBM Testing\\nROC curve')\n",
    "plt.show()"
   ]
  },
  {
   "cell_type": "code",
   "execution_count": 36,
   "metadata": {},
   "outputs": [
    {
     "name": "stdout",
     "output_type": "stream",
     "text": [
      "AUPRC: 0.6392519105493971\n"
     ]
    },
    {
     "data": {
      "image/png": "[encoded data removed]",
      "text/plain": [
       "<Figure size 432x288 with 1 Axes>"
      ]
     },
     "metadata": {
      "needs_background": "light"
     },
     "output_type": "display_data"
    }
   ],
   "source": [
    "# Compute AUPRC score\n",
    "average_precision = average_precision_score(y_test, y_pred_prob)\n",
    "print(\"AUPRC: {}\".format(average_precision))\n",
    "\n",
    "# Plot PR curve\n",
    "precision, recall, _ = precision_recall_curve(y_test, y_pred_prob)\n",
    "step_kwargs = ({'step': 'post'}\n",
    "               if 'step' in signature(plt.fill_between).parameters\n",
    "               else {})\n",
    "plt.step(recall, precision, color='b', alpha=0.2, where='post')\n",
    "plt.fill_between(recall, precision, alpha=0.2, color='b', **step_kwargs)\n",
    "\n",
    "plt.xlabel('Recall')\n",
    "plt.ylabel('Precision')\n",
    "plt.ylim([0.0, 1.05])\n",
    "plt.xlim([0.0, 1.0])\n",
    "plt.title('Initial GBM Testing\\n2-class Precision-Recall curve: AP={0:0.4f}'.format(average_precision))\n",
    "plt.show()"
   ]
  },
  {
   "cell_type": "markdown",
   "metadata": {},
   "source": [
    "### 3.2.2 GBM hyperparameter tuning"
   ]
  },
  {
   "cell_type": "code",
   "execution_count": 37,
   "metadata": {},
   "outputs": [
    {
     "name": "stdout",
     "output_type": "stream",
     "text": [
      "{'learning_rate': [0.02, 0.1], 'n_estimators': [100, 200, 300, 400], 'subsample': [0.5, 0.9], 'max_depth': [3, 4, 5, 10], 'min_samples_split': [2, 3, 4, 5]}\n"
     ]
    }
   ],
   "source": [
    "# Define hyperparameter grid\n",
    "learning_rate = [0.02, 0.1]\n",
    "n_estimators = [int(x) for x in [100, 200, 300, 400]]\n",
    "subsample = [0.5, 0.9]\n",
    "max_depth = [int(x) for x in [3, 4, 5, 10]]\n",
    "min_samples_split = [int(x) for x in [2, 3, 4, 5]]\n",
    "rand_grid = {'learning_rate': learning_rate,\n",
    "             'n_estimators': n_estimators,\n",
    "             'subsample': subsample,\n",
    "             'max_depth': max_depth,\n",
    "             'min_samples_split': min_samples_split}\n",
    "print(rand_grid)"
   ]
  },
  {
   "cell_type": "code",
   "execution_count": 38,
   "metadata": {},
   "outputs": [
    {
     "name": "stdout",
     "output_type": "stream",
     "text": [
      "Fitting 2 folds for each of 20 candidates, totalling 40 fits\n"
     ]
    },
    {
     "name": "stderr",
     "output_type": "stream",
     "text": [
      "[Parallel(n_jobs=-2)]: Using backend LokyBackend with 3 concurrent workers.\n",
      "[Parallel(n_jobs=-2)]: Done  35 tasks      | elapsed:  2.5min\n",
      "[Parallel(n_jobs=-2)]: Done  40 out of  40 | elapsed:  2.9min finished\n"
     ]
    }
   ],
   "source": [
    "# Instantiate RandomizedSearchCV object (use all cores but one)\n",
    "grid = RandomizedSearchCV(GradientBoostingClassifier(validation_fraction=0.3, n_iter_no_change=10, random_state=21), rand_grid, \n",
    "                          n_iter = 20, cv=2, random_state=21, n_jobs = -2, verbose = 2)\n",
    "\n",
    "# Fit object to data\n",
    "grid.fit(X_train, y_train)\n",
    "\n",
    "# Extract best model\n",
    "optimized_clf = grid.best_estimator_"
   ]
  },
  {
   "cell_type": "code",
   "execution_count": 39,
   "metadata": {},
   "outputs": [
    {
     "name": "stdout",
     "output_type": "stream",
     "text": [
      "=======================GBM parameters for best candidate========================\n",
      "Optimized Parameters: {'subsample': 0.9, 'n_estimators': 300, 'min_samples_split': 2, 'max_depth': 4, 'learning_rate': 0.02}\n",
      "All Parameters: {'criterion': 'friedman_mse', 'init': None, 'learning_rate': 0.02, 'loss': 'deviance', 'max_depth': 4, 'max_features': None, 'max_leaf_nodes': None, 'min_impurity_decrease': 0.0, 'min_impurity_split': None, 'min_samples_leaf': 1, 'min_samples_split': 2, 'min_weight_fraction_leaf': 0.0, 'n_estimators': 300, 'n_iter_no_change': 10, 'presort': 'auto', 'random_state': 21, 'subsample': 0.9, 'tol': 0.0001, 'validation_fraction': 0.3, 'verbose': 0, 'warm_start': False}\n",
      "Best score is 0.9992626552436749\n"
     ]
    }
   ],
   "source": [
    "# Print the tuned parameters and score\n",
    "print('{:=^80}'.format('GBM parameters for best candidate'))\n",
    "print(\"Optimized Parameters: {}\".format(grid.best_params_)) \n",
    "print(\"All Parameters: {}\".format(optimized_clf.get_params())) \n",
    "print(\"Best score is {}\".format(grid.best_score_))"
   ]
  },
  {
   "cell_type": "code",
   "execution_count": 40,
   "metadata": {},
   "outputs": [
    {
     "name": "stdout",
     "output_type": "stream",
     "text": [
      "=========================Optimized GBM training report==========================\n",
      "Accuracy: 0.9995\n",
      "MSE: 0.0005\n",
      "Confusion matrix:\n",
      "[[198997     24]\n",
      " [    67    276]]\n",
      "Classification report:\n",
      "              precision    recall  f1-score   support\n",
      "\n",
      "           0       1.00      1.00      1.00    199021\n",
      "           1       0.92      0.80      0.86       343\n",
      "\n",
      "    accuracy                           1.00    199364\n",
      "   macro avg       0.96      0.90      0.93    199364\n",
      "weighted avg       1.00      1.00      1.00    199364\n",
      "\n"
     ]
    }
   ],
   "source": [
    "# Compute training metrics\n",
    "accuracy = optimized_clf.score(X_train, y_train)\n",
    "\n",
    "#  Predict labels of test set\n",
    "train_pred = optimized_clf.predict(X_train)\n",
    "\n",
    "# Compute MSE, confusion matrix, classification report\n",
    "mse = mean_squared_error(y_train, train_pred)\n",
    "conf_mat = confusion_matrix(y_train.round(), train_pred.round())\n",
    "clas_rep = classification_report(y_train.round(), train_pred.round())\n",
    "\n",
    "# Print reports\n",
    "print('{:=^80}'.format('Optimized GBM training report'))\n",
    "print('Accuracy: %.4f' % accuracy)\n",
    "print(\"MSE: %.4f\" % mse)\n",
    "print(\"Confusion matrix:\\n{}\".format(conf_mat))\n",
    "print(\"Classification report:\\n{}\".format(clas_rep))"
   ]
  },
  {
   "cell_type": "code",
   "execution_count": 41,
   "metadata": {},
   "outputs": [
    {
     "name": "stdout",
     "output_type": "stream",
     "text": [
      "==========================Optimized GBM testing report==========================\n",
      "Accuracy: 0.9994\n",
      "MSE: 0.0006\n",
      "Confusion matrix:\n",
      "[[85280    14]\n",
      " [   41   108]]\n",
      "Classification report:\n",
      "              precision    recall  f1-score   support\n",
      "\n",
      "           0       1.00      1.00      1.00     85294\n",
      "           1       0.89      0.72      0.80       149\n",
      "\n",
      "    accuracy                           1.00     85443\n",
      "   macro avg       0.94      0.86      0.90     85443\n",
      "weighted avg       1.00      1.00      1.00     85443\n",
      "\n"
     ]
    }
   ],
   "source": [
    "# Compute testing metrics\n",
    "accuracy = optimized_clf.score(X_test, y_test)\n",
    "\n",
    "# Predict labels of test set\n",
    "y_pred = optimized_clf.predict(X_test)\n",
    "\n",
    "# Compute MSE, confusion matrix, classification report\n",
    "mse = mean_squared_error(y_test, y_pred)\n",
    "conf_mat = confusion_matrix(y_test.round(), y_pred.round())\n",
    "clas_rep = classification_report(y_test.round(), y_pred.round())\n",
    "\n",
    "# Print reports\n",
    "print('{:=^80}'.format('Optimized GBM testing report'))\n",
    "print('Accuracy: %.4f' % accuracy)\n",
    "print(\"MSE: %.4f\" % mse)\n",
    "print(\"Confusion matrix:\\n{}\".format(conf_mat))\n",
    "print(\"Classification report:\\n{}\".format(clas_rep))"
   ]
  },
  {
   "cell_type": "code",
   "execution_count": 42,
   "metadata": {},
   "outputs": [
    {
     "name": "stdout",
     "output_type": "stream",
     "text": [
      "AUC: 0.89534174178125\n"
     ]
    },
    {
     "data": {
      "image/png": "[encoded data removed]",
      "text/plain": [
       "<Figure size 432x288 with 1 Axes>"
      ]
     },
     "metadata": {
      "needs_background": "light"
     },
     "output_type": "display_data"
    }
   ],
   "source": [
    "# Compute predicted probabilities\n",
    "y_pred_prob = optimized_clf.predict_proba(X_test)[:,1]\n",
    "\n",
    "# Calculate receiver operating characteristics (ROC)\n",
    "fpr, tpr, thresholds = roc_curve(y_test, y_pred_prob)\n",
    "\n",
    "# Compute AUC score\n",
    "print(\"AUC: {}\".format(roc_auc_score(y_test, y_pred_prob)))\n",
    "\n",
    "# Plot ROC curve\n",
    "plt.plot([0, 1], [0, 1], 'k-')\n",
    "plt.plot(fpr, tpr)\n",
    "plt.xlabel('False positive rate')\n",
    "plt.ylabel('True positive rate')\n",
    "plt.ylim([0.0, 1.05])\n",
    "plt.xlim([0.0, 1.0])\n",
    "plt.title('Optimized GBM Testing\\nROC curve')\n",
    "plt.show()"
   ]
  },
  {
   "cell_type": "code",
   "execution_count": 43,
   "metadata": {},
   "outputs": [
    {
     "name": "stdout",
     "output_type": "stream",
     "text": [
      "AUPRC: 0.716365268143389\n"
     ]
    },
    {
     "data": {
      "image/png": "[encoded data removed]",
      "text/plain": [
       "<Figure size 432x288 with 1 Axes>"
      ]
     },
     "metadata": {
      "needs_background": "light"
     },
     "output_type": "display_data"
    }
   ],
   "source": [
    "# Compute AUPRC score\n",
    "average_precision = average_precision_score(y_test, y_pred_prob)\n",
    "print(\"AUPRC: {}\".format(average_precision))\n",
    "\n",
    "# Plot PR curve\n",
    "precision, recall, _ = precision_recall_curve(y_test, y_pred_prob)\n",
    "step_kwargs = ({'step': 'post'}\n",
    "               if 'step' in signature(plt.fill_between).parameters\n",
    "               else {})\n",
    "plt.step(recall, precision, color='b', alpha=0.2, where='post')\n",
    "plt.fill_between(recall, precision, alpha=0.2, color='b', **step_kwargs)\n",
    "\n",
    "plt.xlabel('Recall')\n",
    "plt.ylabel('Precision')\n",
    "plt.ylim([0.0, 1.05])\n",
    "plt.xlim([0.0, 1.0])\n",
    "plt.title('Optimized GBM Testing\\n2-class Precision-Recall curve: AP={0:0.4f}'.format(average_precision))\n",
    "plt.show()"
   ]
  },
  {
   "cell_type": "markdown",
   "metadata": {},
   "source": [
    "With an AUPRC of 0.7164 (above), the gradient boosting model performed worse than both the LR classifier. Lower performance is mostly explained by the lower recall for anomalies (value 1). While the GBM was on point for the anomalies it identified, it also missed a large percentage of anomalies--at least more than the LR classifier. "
   ]
  },
  {
   "cell_type": "markdown",
   "metadata": {},
   "source": [
    "## 3.3.1 Random Forest (RF) classification\n",
    "\n",
    "Until now we used LR, Kernel SVC and GBM to make predictions, and all three have limitations when it comes to classification of unbalanced data. LR is a special case of generalized linear model (GLM) and makes assumptions about the underlying data distribution. This method works best with uncorrelated data and logarithmic error distributions, and therefore requires many data samples for fitting. Kernel SVC fitting involves the computation of polynomial surfaces, and the nonlinear nature of polynomial calculations makes that Kernel SVCs are not easily parallelized. GBM builds trees one at a time, each attempting to explain the residual error of the previous tree. While this can work for balanced datasets, the sequential nature of this process can be a disadvantage. \n",
    "\n",
    "Random Forest (RF) classification offers a non-parametric approach where a large number of uncorrelated models (decision trees) are fitted to the data, and vote independently as a joint committee on what the outcome of each prediction should be. One advantage of RF is that it makes no assumptions about the sample distribution or error distribution, meaning the classifier is robust and not biased by outliers. Furthermore, RF can be parallelized into as many processes as there are estimators (trees). Because a RF calculates fast, we will not hypertune the parameters but instead allow it to fit the data without constraints. "
   ]
  },
  {
   "cell_type": "code",
   "execution_count": 44,
   "metadata": {},
   "outputs": [],
   "source": [
    "# Import modules\n",
    "from sklearn.ensemble import RandomForestClassifier"
   ]
  },
  {
   "cell_type": "code",
   "execution_count": 45,
   "metadata": {},
   "outputs": [],
   "source": [
    "# Fit random forest for range of maximum depth of tree \n",
    "max_depths = [int(x) for x in [2,4,8,16,32,64]]\n",
    "\n",
    "train_results = []\n",
    "test_results = []\n",
    "for max_depth in max_depths:\n",
    "    clf = RandomForestClassifier(max_depth=max_depth, n_estimators=100, random_state=21, n_jobs = -2)\n",
    "    clf.fit(X_train, y_train)\n",
    "    train_pred_prob = clf.predict_proba(X_train)[:,1]\n",
    "    average_precision = average_precision_score(y_train, train_pred_prob)\n",
    "    train_results.append(average_precision)\n",
    "    y_pred_prob = clf.predict_proba(X_test)[:,1]\n",
    "    average_precision = average_precision_score(y_test, y_pred_prob)\n",
    "    test_results.append(average_precision)"
   ]
  },
  {
   "cell_type": "code",
   "execution_count": 46,
   "metadata": {},
   "outputs": [
    {
     "data": {
      "image/png": "[encoded data removed]",
      "text/plain": [
       "<Figure size 432x288 with 1 Axes>"
      ]
     },
     "metadata": {
      "needs_background": "light"
     },
     "output_type": "display_data"
    }
   ],
   "source": [
    "# Plot AUPRC vs tree depth\n",
    "from matplotlib.legend_handler import HandlerLine2D\n",
    "line1, = plt.plot(max_depths, train_results, 'b', label=\"Train AUPRC\")\n",
    "line2, = plt.plot(max_depths, test_results, 'r', label=\"Test AUPRC\")\n",
    "plt.legend(handler_map={line1: HandlerLine2D(numpoints=2)})\n",
    "plt.ylabel('AUPRC score')\n",
    "plt.xlabel('Tree depth')\n",
    "plt.title('Area under Precision-Recall curve vs Tree Depth')\n",
    "plt.show()"
   ]
  },
  {
   "cell_type": "markdown",
   "metadata": {},
   "source": [
    "The maximum area under the Precision-Recall curve (AUPRC) is reached for a tree depth less than 20. It appears that an AUPRC of ~0.84 is the best possible testing performance we may expect given a training AUPRC of close to 1.00."
   ]
  },
  {
   "cell_type": "markdown",
   "metadata": {},
   "source": [
    "### 3.3.2 Random Forest without constraints"
   ]
  },
  {
   "cell_type": "code",
   "execution_count": 47,
   "metadata": {},
   "outputs": [],
   "source": [
    "# Import modules\n",
    "from sklearn.ensemble import RandomForestClassifier"
   ]
  },
  {
   "cell_type": "code",
   "execution_count": 48,
   "metadata": {},
   "outputs": [
    {
     "name": "stdout",
     "output_type": "stream",
     "text": [
      "Zero ratio in training labels: 0.9982795289019081\n",
      "Zero ratio in testing labels: 0.9982561473731025\n"
     ]
    }
   ],
   "source": [
    "# Zero ratios\n",
    "y_train_s = np.prod(y_train.shape)\n",
    "y_train_z = (y_train_s - np.sum(y_train)) / y_train_s\n",
    "y_test_s = np.prod(y_test.shape)\n",
    "y_test_z = (y_test_s - np.sum(y_test)) / y_test_s\n",
    "print(\"Zero ratio in training labels: {}\".format(y_train_z))\n",
    "print(\"Zero ratio in testing labels: {}\".format(y_test_z))"
   ]
  },
  {
   "cell_type": "code",
   "execution_count": 49,
   "metadata": {},
   "outputs": [
    {
     "name": "stdout",
     "output_type": "stream",
     "text": [
      "Sample weight for logical(0): 1.0\n",
      "Sample weight for logical(1): 581.2361516035012\n"
     ]
    }
   ],
   "source": [
    "# Compute sample weights for unbalanced classes as inverse of probability\n",
    "weight_0 = 1.0\n",
    "weight_1 = (1 - y_train_z)**-1\n",
    "sample_weight = np.array([weight_1 if i == 1 else weight_0 for i in enumerate(y_train)])\n",
    "print(\"Sample weight for logical(0): {}\".format(weight_0))\n",
    "print(\"Sample weight for logical(1): {}\".format(weight_1))"
   ]
  },
  {
   "cell_type": "code",
   "execution_count": 50,
   "metadata": {},
   "outputs": [
    {
     "name": "stdout",
     "output_type": "stream",
     "text": [
      "building tree 1 of 200\n",
      "building tree 2 of 200\n",
      "building tree 3 of 200\n"
     ]
    },
    {
     "name": "stderr",
     "output_type": "stream",
     "text": [
      "[Parallel(n_jobs=-2)]: Using backend ThreadingBackend with 3 concurrent workers.\n"
     ]
    },
    {
     "name": "stdout",
     "output_type": "stream",
     "text": [
      "building tree 4 of 200\n",
      "building tree 5 of 200\n",
      "building tree 6 of 200\n",
      "building tree 7 of 200\n",
      "building tree 8 of 200\n",
      "building tree 9 of 200\n",
      "building tree 10 of 200\n",
      "building tree 11 of 200\n",
      "building tree 12 of 200\n",
      "building tree 13 of 200\n",
      "building tree 14 of 200\n",
      "building tree 15 of 200\n",
      "building tree 16 of 200\n",
      "building tree 17 of 200\n",
      "building tree 18 of 200\n",
      "building tree 19 of 200\n",
      "building tree 20 of 200\n",
      "building tree 21 of 200\n",
      "building tree 22 of 200\n",
      "building tree 23 of 200\n",
      "building tree 24 of 200\n",
      "building tree 25 of 200\n",
      "building tree 26 of 200\n",
      "building tree 27 of 200\n",
      "building tree 28 of 200\n",
      "building tree 29 of 200\n",
      "building tree 30 of 200\n",
      "building tree 31 of 200\n",
      "building tree 32 of 200\n",
      "building tree 33 of 200\n",
      "building tree 34 of 200\n",
      "building tree 35 of 200\n",
      "building tree 36 of 200\n",
      "building tree 37 of 200\n",
      "building tree 38 of 200\n"
     ]
    },
    {
     "name": "stderr",
     "output_type": "stream",
     "text": [
      "[Parallel(n_jobs=-2)]: Done  35 tasks      | elapsed:   18.5s\n"
     ]
    },
    {
     "name": "stdout",
     "output_type": "stream",
     "text": [
      "building tree 39 of 200\n",
      "building tree 40 of 200\n",
      "building tree 41 of 200\n",
      "building tree 42 of 200\n",
      "building tree 43 of 200\n",
      "building tree 44 of 200\n",
      "building tree 45 of 200\n",
      "building tree 46 of 200\n",
      "building tree 47 of 200\n",
      "building tree 48 of 200\n",
      "building tree 49 of 200\n",
      "building tree 50 of 200\n",
      "building tree 51 of 200\n",
      "building tree 52 of 200\n",
      "building tree 53 of 200\n",
      "building tree 54 of 200\n",
      "building tree 55 of 200\n",
      "building tree 56 of 200\n",
      "building tree 57 of 200\n",
      "building tree 58 of 200\n",
      "building tree 59 of 200\n",
      "building tree 60 of 200\n",
      "building tree 61 of 200\n",
      "building tree 62 of 200\n",
      "building tree 63 of 200\n",
      "building tree 64 of 200\n",
      "building tree 65 of 200\n",
      "building tree 66 of 200\n",
      "building tree 67 of 200\n",
      "building tree 68 of 200\n",
      "building tree 69 of 200\n",
      "building tree 70 of 200\n",
      "building tree 71 of 200\n",
      "building tree 72 of 200\n",
      "building tree 73 of 200\n",
      "building tree 74 of 200\n",
      "building tree 75 of 200\n",
      "building tree 76 of 200\n",
      "building tree 77 of 200\n",
      "building tree 78 of 200\n",
      "building tree 79 of 200\n",
      "building tree 80 of 200\n",
      "building tree 81 of 200\n",
      "building tree 82 of 200\n",
      "building tree 83 of 200\n",
      "building tree 84 of 200\n",
      "building tree 85 of 200\n",
      "building tree 86 of 200\n",
      "building tree 87 of 200\n",
      "building tree 88 of 200\n",
      "building tree 89 of 200\n",
      "building tree 90 of 200\n",
      "building tree 91 of 200\n",
      "building tree 92 of 200\n",
      "building tree 93 of 200\n",
      "building tree 94 of 200\n",
      "building tree 95 of 200\n",
      "building tree 96 of 200\n",
      "building tree 97 of 200\n",
      "building tree 98 of 200\n",
      "building tree 99 of 200\n",
      "building tree 100 of 200\n",
      "building tree 101 of 200\n",
      "building tree 102 of 200\n",
      "building tree 103 of 200\n",
      "building tree 104 of 200\n",
      "building tree 105 of 200\n",
      "building tree 106 of 200\n",
      "building tree 107 of 200\n",
      "building tree 108 of 200\n",
      "building tree 109 of 200\n",
      "building tree 110 of 200\n",
      "building tree 111 of 200\n",
      "building tree 112 of 200\n",
      "building tree 113 of 200\n",
      "building tree 114 of 200\n",
      "building tree 115 of 200\n",
      "building tree 116 of 200\n",
      "building tree 117 of 200\n",
      "building tree 118 of 200\n",
      "building tree 119 of 200\n",
      "building tree 120 of 200\n",
      "building tree 121 of 200\n",
      "building tree 122 of 200\n",
      "building tree 123 of 200\n",
      "building tree 124 of 200\n",
      "building tree 125 of 200\n",
      "building tree 126 of 200\n",
      "building tree 127 of 200\n",
      "building tree 128 of 200\n",
      "building tree 129 of 200\n",
      "building tree 130 of 200\n",
      "building tree 131 of 200\n",
      "building tree 132 of 200\n",
      "building tree 133 of 200\n",
      "building tree 134 of 200\n",
      "building tree 135 of 200\n",
      "building tree 136 of 200\n",
      "building tree 137 of 200\n",
      "building tree 138 of 200\n",
      "building tree 139 of 200\n",
      "building tree 140 of 200\n",
      "building tree 141 of 200\n",
      "building tree 142 of 200\n",
      "building tree 143 of 200\n",
      "building tree 144 of 200\n",
      "building tree 145 of 200\n",
      "building tree 146 of 200\n",
      "building tree 147 of 200\n",
      "building tree 148 of 200\n",
      "building tree 149 of 200\n",
      "building tree 150 of 200\n",
      "building tree 151 of 200\n",
      "building tree 152 of 200\n",
      "building tree 153 of 200\n",
      "building tree 154 of 200\n",
      "building tree 155 of 200\n",
      "building tree 156 of 200\n",
      "building tree 157 of 200\n",
      "building tree 158 of 200\n",
      "building tree 159 of 200\n"
     ]
    },
    {
     "name": "stderr",
     "output_type": "stream",
     "text": [
      "[Parallel(n_jobs=-2)]: Done 156 tasks      | elapsed:  1.4min\n"
     ]
    },
    {
     "name": "stdout",
     "output_type": "stream",
     "text": [
      "building tree 160 of 200\n",
      "building tree 161 of 200\n",
      "building tree 162 of 200\n",
      "building tree 163 of 200\n",
      "building tree 164 of 200\n",
      "building tree 165 of 200\n",
      "building tree 166 of 200\n",
      "building tree 167 of 200\n",
      "building tree 168 of 200\n",
      "building tree 169 of 200\n",
      "building tree 170 of 200\n",
      "building tree 171 of 200\n",
      "building tree 172 of 200\n",
      "building tree 173 of 200\n",
      "building tree 174 of 200\n",
      "building tree 175 of 200\n",
      "building tree 176 of 200\n",
      "building tree 177 of 200\n",
      "building tree 178 of 200\n",
      "building tree 179 of 200\n",
      "building tree 180 of 200\n",
      "building tree 181 of 200\n",
      "building tree 182 of 200\n",
      "building tree 183 of 200\n",
      "building tree 184 of 200\n",
      "building tree 185 of 200\n",
      "building tree 186 of 200\n",
      "building tree 187 of 200\n",
      "building tree 188 of 200\n",
      "building tree 189 of 200\n",
      "building tree 190 of 200\n",
      "building tree 191 of 200\n",
      "building tree 192 of 200\n",
      "building tree 193 of 200\n",
      "building tree 194 of 200\n",
      "building tree 195 of 200\n",
      "building tree 196 of 200\n",
      "building tree 197 of 200\n",
      "building tree 198 of 200\n",
      "building tree 199 of 200\n",
      "building tree 200 of 200\n"
     ]
    },
    {
     "name": "stderr",
     "output_type": "stream",
     "text": [
      "[Parallel(n_jobs=-2)]: Done 200 out of 200 | elapsed:  1.8min finished\n"
     ]
    }
   ],
   "source": [
    "# Instantiate classifier\n",
    "clf = RandomForestClassifier(n_estimators=200, random_state=21, n_jobs = -2, verbose = 2)\n",
    "\n",
    "# Fit classifier to training set\n",
    "clf = clf.fit(X_train, y_train, sample_weight=sample_weight)"
   ]
  },
  {
   "cell_type": "code",
   "execution_count": 51,
   "metadata": {},
   "outputs": [
    {
     "name": "stderr",
     "output_type": "stream",
     "text": [
      "[Parallel(n_jobs=3)]: Using backend ThreadingBackend with 3 concurrent workers.\n",
      "[Parallel(n_jobs=3)]: Done  35 tasks      | elapsed:    0.2s\n",
      "[Parallel(n_jobs=3)]: Done 156 tasks      | elapsed:    0.9s\n",
      "[Parallel(n_jobs=3)]: Done 200 out of 200 | elapsed:    1.1s finished\n",
      "[Parallel(n_jobs=3)]: Using backend ThreadingBackend with 3 concurrent workers.\n",
      "[Parallel(n_jobs=3)]: Done  35 tasks      | elapsed:    0.2s\n",
      "[Parallel(n_jobs=3)]: Done 156 tasks      | elapsed:    0.9s\n",
      "[Parallel(n_jobs=3)]: Done 200 out of 200 | elapsed:    1.1s finished\n"
     ]
    },
    {
     "name": "stdout",
     "output_type": "stream",
     "text": [
      "===============================RF training report===============================\n",
      "Accuracy: 1.0000\n",
      "MSE: 0.0000\n",
      "Confusion matrix:\n",
      "[[199021      0]\n",
      " [     0    343]]\n",
      "Classification report:\n",
      "              precision    recall  f1-score   support\n",
      "\n",
      "           0       1.00      1.00      1.00    199021\n",
      "           1       1.00      1.00      1.00       343\n",
      "\n",
      "    accuracy                           1.00    199364\n",
      "   macro avg       1.00      1.00      1.00    199364\n",
      "weighted avg       1.00      1.00      1.00    199364\n",
      "\n"
     ]
    }
   ],
   "source": [
    "# Compute training metrics\n",
    "accuracy = clf.score(X_train, y_train)\n",
    "\n",
    "#  Predict labels of test set\n",
    "train_pred = clf.predict(X_train)\n",
    "\n",
    "# Compute MSE, confusion matrix, classification report\n",
    "mse = mean_squared_error(y_train, train_pred)\n",
    "conf_mat = confusion_matrix(y_train.round(), train_pred.round())\n",
    "clas_rep = classification_report(y_train.round(), train_pred.round())\n",
    "\n",
    "# Print reports\n",
    "print('{:=^80}'.format('RF training report'))\n",
    "print('Accuracy: %.4f' % accuracy)\n",
    "print(\"MSE: %.4f\" % mse)\n",
    "print(\"Confusion matrix:\\n{}\".format(conf_mat))\n",
    "print(\"Classification report:\\n{}\".format(clas_rep))"
   ]
  },
  {
   "cell_type": "code",
   "execution_count": 52,
   "metadata": {},
   "outputs": [
    {
     "name": "stderr",
     "output_type": "stream",
     "text": [
      "[Parallel(n_jobs=3)]: Using backend ThreadingBackend with 3 concurrent workers.\n",
      "[Parallel(n_jobs=3)]: Done  35 tasks      | elapsed:    0.1s\n",
      "[Parallel(n_jobs=3)]: Done 156 tasks      | elapsed:    0.4s\n",
      "[Parallel(n_jobs=3)]: Done 200 out of 200 | elapsed:    0.5s finished\n",
      "[Parallel(n_jobs=3)]: Using backend ThreadingBackend with 3 concurrent workers.\n",
      "[Parallel(n_jobs=3)]: Done  35 tasks      | elapsed:    0.1s\n",
      "[Parallel(n_jobs=3)]: Done 156 tasks      | elapsed:    0.4s\n",
      "[Parallel(n_jobs=3)]: Done 200 out of 200 | elapsed:    0.5s finished\n"
     ]
    },
    {
     "name": "stdout",
     "output_type": "stream",
     "text": [
      "===============================RF testing report================================\n",
      "Accuracy: 0.9995\n",
      "MSE: 0.0005\n",
      "Confusion matrix:\n",
      "[[85288     6]\n",
      " [   36   113]]\n",
      "Classification report:\n",
      "              precision    recall  f1-score   support\n",
      "\n",
      "           0       1.00      1.00      1.00     85294\n",
      "           1       0.95      0.76      0.84       149\n",
      "\n",
      "    accuracy                           1.00     85443\n",
      "   macro avg       0.97      0.88      0.92     85443\n",
      "weighted avg       1.00      1.00      1.00     85443\n",
      "\n"
     ]
    }
   ],
   "source": [
    "# Compute testing metrics\n",
    "accuracy = clf.score(X_test, y_test)\n",
    "\n",
    "# Predict labels of test set\n",
    "y_pred = clf.predict(X_test)\n",
    "\n",
    "# Compute MSE, confusion matrix, classification report\n",
    "mse = mean_squared_error(y_test, y_pred)\n",
    "conf_mat = confusion_matrix(y_test.round(), y_pred.round())\n",
    "clas_rep = classification_report(y_test.round(), y_pred.round())\n",
    "\n",
    "# Print reports\n",
    "print('{:=^80}'.format('RF testing report'))\n",
    "print('Accuracy: %.4f' % accuracy)\n",
    "print(\"MSE: %.4f\" % mse)\n",
    "print(\"Confusion matrix:\\n{}\".format(conf_mat))\n",
    "print(\"Classification report:\\n{}\".format(clas_rep))"
   ]
  },
  {
   "cell_type": "code",
   "execution_count": 53,
   "metadata": {},
   "outputs": [
    {
     "name": "stderr",
     "output_type": "stream",
     "text": [
      "[Parallel(n_jobs=3)]: Using backend ThreadingBackend with 3 concurrent workers.\n",
      "[Parallel(n_jobs=3)]: Done  35 tasks      | elapsed:    0.1s\n",
      "[Parallel(n_jobs=3)]: Done 156 tasks      | elapsed:    0.4s\n",
      "[Parallel(n_jobs=3)]: Done 200 out of 200 | elapsed:    0.5s finished\n"
     ]
    }
   ],
   "source": [
    "# Compute predicted probabilities\n",
    "y_pred_prob = clf.predict_proba(X_test)[:,1]"
   ]
  },
  {
   "cell_type": "code",
   "execution_count": 54,
   "metadata": {},
   "outputs": [
    {
     "name": "stdout",
     "output_type": "stream",
     "text": [
      "AUC: 0.950323814841457\n"
     ]
    },
    {
     "data": {
      "image/png": "[encoded data removed]",
      "text/plain": [
       "<Figure size 432x288 with 1 Axes>"
      ]
     },
     "metadata": {
      "needs_background": "light"
     },
     "output_type": "display_data"
    }
   ],
   "source": [
    "# Calculate receiver operating characteristics (ROC)\n",
    "fpr, tpr, thresholds = roc_curve(y_test, y_pred_prob)\n",
    "\n",
    "# Compute AUC score\n",
    "print(\"AUC: {}\".format(roc_auc_score(y_test, y_pred_prob)))\n",
    "\n",
    "# Plot ROC curve\n",
    "plt.plot([0, 1], [0, 1], 'k-')\n",
    "plt.plot(fpr, tpr)\n",
    "plt.xlabel('False positive rate')\n",
    "plt.ylabel('True positive rate')\n",
    "plt.ylim([0.0, 1.05])\n",
    "plt.xlim([0.0, 1.0])\n",
    "plt.title('RF Testing\\nROC curve')\n",
    "plt.show()"
   ]
  },
  {
   "cell_type": "code",
   "execution_count": 55,
   "metadata": {},
   "outputs": [
    {
     "name": "stdout",
     "output_type": "stream",
     "text": [
      "AUPRC: 0.8456257031199099\n"
     ]
    },
    {
     "data": {
      "image/png": "[encoded data removed]",
      "text/plain": [
       "<Figure size 432x288 with 1 Axes>"
      ]
     },
     "metadata": {
      "needs_background": "light"
     },
     "output_type": "display_data"
    }
   ],
   "source": [
    "# Compute AUPRC score\n",
    "average_precision = average_precision_score(y_test, y_pred_prob)\n",
    "print(\"AUPRC: {}\".format(average_precision))\n",
    "\n",
    "# Plot PR curve\n",
    "precision, recall, _ = precision_recall_curve(y_test, y_pred_prob)\n",
    "step_kwargs = ({'step': 'post'}\n",
    "               if 'step' in signature(plt.fill_between).parameters\n",
    "               else {})\n",
    "plt.step(recall, precision, color='b', alpha=0.2, where='post')\n",
    "plt.fill_between(recall, precision, alpha=0.2, color='b', **step_kwargs)\n",
    "\n",
    "plt.xlabel('Recall')\n",
    "plt.ylabel('Precision')\n",
    "plt.ylim([0.0, 1.05])\n",
    "plt.xlim([0.0, 1.0])\n",
    "plt.title('RF Testing\\n2-class Precision-Recall curve: AP={0:0.4f}'.format(average_precision))\n",
    "plt.show()"
   ]
  },
  {
   "cell_type": "code",
   "execution_count": null,
   "metadata": {},
   "outputs": [],
   "source": []
  },
  {
   "cell_type": "markdown",
   "metadata": {},
   "source": [
    "## 3.3.3 Model selection and cost-effective optimization\n",
    "\n",
    "*Selecting the best classifier:* We have tested four classifiers: Logistic Regression, Kernel Support Vector Classifier, Stochastic Gradient Boosting and Random Forest. Which one is the best choice? A practical way to evaluate the suitability of a classifier for daily use is in terms of cost-effectiveness: we want the classifier to be able to make predictions on new data (high testing precision and recall), and at a low cost (fast computation and modest data requirements). \n",
    "\n",
    "The Random Forest (AUPRC=0.8456) performed best in terms of precision and recall, followed by Kernel Support Vector Classifier (AUPRC=0.8081), Logistic Regression (AUPRC=0.7822) and Stochastic Gradient Boosting Machine (AUPRC=0.7164). RF and LR computed fastest. Conversely, Kernel SVC used the most computer time. While in a real-world scenario we might be able to obtain a better model (probably SGB or RF) given enough training data and more iterations, we assume that RF provides the most cost-effective prediction of transaction anomalies for now. "
   ]
  },
  {
   "cell_type": "markdown",
   "metadata": {},
   "source": [
    "### Feature importance\n",
    "\n",
    "Now that we have identified the RF as the most suitable model to predict transaction anomalies, the next step is to see if can improve its cost-effectiveness by reducing data requirements. We trained the model on 29 features, so let's find out which of those features contribute the most information to the prediction. "
   ]
  },
  {
   "cell_type": "code",
   "execution_count": 56,
   "metadata": {},
   "outputs": [
    {
     "name": "stdout",
     "output_type": "stream",
     "text": [
      "Feature ranking:\n",
      "Variable: V17 Importance: 0.1987\n",
      "Variable: V12 Importance: 0.1125\n",
      "Variable: V14 Importance: 0.1028\n",
      "Variable: V11 Importance: 0.0793\n",
      "Variable: V16 Importance: 0.0717\n",
      "Variable: V10 Importance: 0.069\n",
      "Variable: V9  Importance: 0.0351\n",
      "Variable: V18 Importance: 0.0286\n",
      "Variable: V4  Importance: 0.0259\n",
      "Variable: V7  Importance: 0.0252\n",
      "Variable: V26 Importance: 0.0202\n",
      "Variable: V3  Importance: 0.0164\n",
      "Variable: V21 Importance: 0.0155\n",
      "Variable: V1  Importance: 0.0153\n",
      "Variable: V6  Importance: 0.0152\n",
      "Variable: V27 Importance: 0.0145\n",
      "Variable: V2  Importance: 0.0142\n",
      "Variable: V19 Importance: 0.0142\n",
      "Variable: Time Importance: 0.0141\n",
      "Variable: V20 Importance: 0.0132\n",
      "Variable: V5  Importance: 0.0123\n",
      "Variable: V15 Importance: 0.0123\n",
      "Variable: V8  Importance: 0.0122\n",
      "Variable: V22 Importance: 0.0117\n",
      "Variable: V28 Importance: 0.0113\n",
      "Variable: V13 Importance: 0.011\n",
      "Variable: V24 Importance: 0.0105\n",
      "Variable: V25 Importance: 0.0088\n",
      "Variable: V23 Importance: 0.0082\n"
     ]
    }
   ],
   "source": [
    "# Get feature importances\n",
    "feature_list = list(df.columns[:-1])\n",
    "importances = list(clf.feature_importances_)\n",
    "feature_importances = [(feature, round(importance, 4)) for feature, importance in zip(feature_list, importances)]\n",
    "feature_importances = sorted(feature_importances, key = lambda x: x[1], reverse = True)\n",
    "\n",
    "# Print feature ranking\n",
    "print(\"Feature ranking:\")\n",
    "_ = [print('Variable: {:3} Importance: {}'.format(*pair)) for pair in feature_importances]"
   ]
  },
  {
   "cell_type": "code",
   "execution_count": 57,
   "metadata": {},
   "outputs": [
    {
     "data": {
      "image/png": "[encoded data removed]",
      "text/plain": [
       "<Figure size 432x288 with 1 Axes>"
      ]
     },
     "metadata": {
      "needs_background": "light"
     },
     "output_type": "display_data"
    }
   ],
   "source": [
    "# Plot feature ranking in bar chart\n",
    "X_values = list(range(len(importances)))\n",
    "plt.bar(X_values, importances, orientation = 'vertical', color = 'r', edgecolor = 'k', linewidth = 1.2)\n",
    "plt.xticks(X_values, feature_list, rotation = 'vertical')\n",
    "plt.ylabel('Importance')\n",
    "plt.xlabel('Variable')\n",
    "plt.title('Feature Relative Importance')\n",
    "plt.show()"
   ]
  },
  {
   "cell_type": "code",
   "execution_count": 58,
   "metadata": {},
   "outputs": [
    {
     "data": {
      "image/png": "[encoded data removed]",
      "text/plain": [
       "<Figure size 432x288 with 1 Axes>"
      ]
     },
     "metadata": {
      "needs_background": "light"
     },
     "output_type": "display_data"
    }
   ],
   "source": [
    "# List of features sorted by decreasing importance\n",
    "sorted_importances = [importance[1] for importance in feature_importances]\n",
    "sorted_features = [importance[0] for importance in feature_importances]\n",
    "\n",
    "# Cumulative importance\n",
    "cumulative_importances = np.cumsum(sorted_importances)\n",
    "\n",
    "# Create line plot\n",
    "plt.plot(X_values, cumulative_importances, 'b-')\n",
    "plt.hlines(y = 0.95, xmin=0, xmax=len(sorted_importances), color = 'r', linestyles = 'dashed')\n",
    "plt.xticks(X_values, sorted_features, rotation = 'vertical')\n",
    "plt.xlabel('Feature')\n",
    "plt.ylabel('Cumulative Importance')\n",
    "plt.title('Feature Cumulative Importance')\n",
    "plt.show()"
   ]
  },
  {
   "cell_type": "code",
   "execution_count": 59,
   "metadata": {},
   "outputs": [
    {
     "name": "stdout",
     "output_type": "stream",
     "text": [
      "Number of features required (95% importance): 24\n",
      "Least important features (5% importance): ['V28', 'V13', 'V24', 'V25', 'V23']\n"
     ]
    }
   ],
   "source": [
    "# Number of features explaining 95% cum. importance\n",
    "n_import = np.where(cumulative_importances > 0.95)[0][0] + 1\n",
    "print('Number of features required (95% importance):', n_import)\n",
    "\n",
    "# Least important features\n",
    "limp_feature_names = sorted_features[-(len(importances)-n_import):]\n",
    "print('Least important features (5% importance):', limp_feature_names)"
   ]
  },
  {
   "cell_type": "markdown",
   "metadata": {},
   "source": [
    "Feature importance analysis (above) shows that 24 features out of the available set of 29 features account for 95% of the Gini Importance. There are three things we learn from this: \n",
    "\n",
    "1. There is a relative lack of correlation between features, confirming that these are indeed orthogonally transformed data (in this case the outcome of principal component analysis); \n",
    "2. The RF classifier makes optimum use of the training data; \n",
    "3. We can drop 5 of the features without incurring a high cost to model performance, namely the PCAs labeled as 28, 13, 24, 25 and 23. "
   ]
  },
  {
   "cell_type": "markdown",
   "metadata": {},
   "source": [
    "### 3.3.4 Retrain RF classifier on the most important features"
   ]
  },
  {
   "cell_type": "code",
   "execution_count": 60,
   "metadata": {},
   "outputs": [
    {
     "name": "stdout",
     "output_type": "stream",
     "text": [
      "Dimensions of X_train_imp: (199364, 23)\n",
      "Dimensions of y_train_imp: (199364,)\n",
      "Dimensions of X_test_imp: (85443, 23)\n",
      "Dimensions of y_test_imp: (85443,)\n"
     ]
    }
   ],
   "source": [
    "# Extract the names of most important features\n",
    "important_feature_names = [feature[0] for feature in feature_importances[0:(n_import - 1)]]\n",
    "\n",
    "# Find the columns of the most important features\n",
    "important_indices = [feature_list.index(feature) for feature in important_feature_names]\n",
    "\n",
    "# Create training and testing sets with only important features\n",
    "X_train_imp = X_train[:,important_indices]\n",
    "X_test_imp = X_test[:,important_indices]\n",
    "\n",
    "# Print dimensions\n",
    "print(\"Dimensions of X_train_imp: {}\".format(X_train_imp.shape))\n",
    "print(\"Dimensions of y_train_imp: {}\".format(y_train.shape))\n",
    "print(\"Dimensions of X_test_imp: {}\".format(X_test_imp.shape))\n",
    "print(\"Dimensions of y_test_imp: {}\".format(y_test.shape))"
   ]
  },
  {
   "cell_type": "code",
   "execution_count": 61,
   "metadata": {},
   "outputs": [
    {
     "name": "stdout",
     "output_type": "stream",
     "text": [
      "building tree 1 of 200building tree 2 of 200\n",
      "\n",
      "building tree 3 of 200\n"
     ]
    },
    {
     "name": "stderr",
     "output_type": "stream",
     "text": [
      "[Parallel(n_jobs=-2)]: Using backend ThreadingBackend with 3 concurrent workers.\n"
     ]
    },
    {
     "name": "stdout",
     "output_type": "stream",
     "text": [
      "building tree 4 of 200\n",
      "building tree 5 of 200\n",
      "building tree 6 of 200\n",
      "building tree 7 of 200\n",
      "building tree 8 of 200\n",
      "building tree 9 of 200\n",
      "building tree 10 of 200\n",
      "building tree 11 of 200\n",
      "building tree 12 of 200\n",
      "building tree 13 of 200\n",
      "building tree 14 of 200\n",
      "building tree 15 of 200\n",
      "building tree 16 of 200\n",
      "building tree 17 of 200\n",
      "building tree 18 of 200\n",
      "building tree 19 of 200\n",
      "building tree 20 of 200\n",
      "building tree 21 of 200\n",
      "building tree 22 of 200\n",
      "building tree 23 of 200\n",
      "building tree 24 of 200\n",
      "building tree 25 of 200\n",
      "building tree 26 of 200\n",
      "building tree 27 of 200\n",
      "building tree 28 of 200\n",
      "building tree 29 of 200\n",
      "building tree 30 of 200\n",
      "building tree 31 of 200\n",
      "building tree 32 of 200\n",
      "building tree 33 of 200\n",
      "building tree 34 of 200\n",
      "building tree 35 of 200\n",
      "building tree 36 of 200\n",
      "building tree 37 of 200\n"
     ]
    },
    {
     "name": "stderr",
     "output_type": "stream",
     "text": [
      "[Parallel(n_jobs=-2)]: Done  35 tasks      | elapsed:   14.3s\n"
     ]
    },
    {
     "name": "stdout",
     "output_type": "stream",
     "text": [
      "building tree 38 of 200\n",
      "building tree 39 of 200\n",
      "building tree 40 of 200\n",
      "building tree 41 of 200\n",
      "building tree 42 of 200\n",
      "building tree 43 of 200\n",
      "building tree 44 of 200\n",
      "building tree 45 of 200\n",
      "building tree 46 of 200\n",
      "building tree 47 of 200\n",
      "building tree 48 of 200\n",
      "building tree 49 of 200\n",
      "building tree 50 of 200\n",
      "building tree 51 of 200\n",
      "building tree 52 of 200\n",
      "building tree 53 of 200\n",
      "building tree 54 of 200\n",
      "building tree 55 of 200\n",
      "building tree 56 of 200\n",
      "building tree 57 of 200\n",
      "building tree 58 of 200\n",
      "building tree 59 of 200\n",
      "building tree 60 of 200\n",
      "building tree 61 of 200\n",
      "building tree 62 of 200\n",
      "building tree 63 of 200\n",
      "building tree 64 of 200\n",
      "building tree 65 of 200\n",
      "building tree 66 of 200\n",
      "building tree 67 of 200\n",
      "building tree 68 of 200\n",
      "building tree 69 of 200\n",
      "building tree 70 of 200\n",
      "building tree 71 of 200\n",
      "building tree 72 of 200\n",
      "building tree 73 of 200\n",
      "building tree 74 of 200\n",
      "building tree 75 of 200\n",
      "building tree 76 of 200\n",
      "building tree 77 of 200\n",
      "building tree 78 of 200\n",
      "building tree 79 of 200\n",
      "building tree 80 of 200\n",
      "building tree 81 of 200\n",
      "building tree 82 of 200\n",
      "building tree 83 of 200\n",
      "building tree 84 of 200\n",
      "building tree 85 of 200\n",
      "building tree 86 of 200\n",
      "building tree 87 of 200\n",
      "building tree 88 of 200\n",
      "building tree 89 of 200\n",
      "building tree 90 of 200\n",
      "building tree 91 of 200\n",
      "building tree 92 of 200\n",
      "building tree 93 of 200\n",
      "building tree 94 of 200\n",
      "building tree 95 of 200\n",
      "building tree 96 of 200\n",
      "building tree 97 of 200\n",
      "building tree 98 of 200\n",
      "building tree 99 of 200\n",
      "building tree 100 of 200\n",
      "building tree 101 of 200\n",
      "building tree 102 of 200\n",
      "building tree 103 of 200\n",
      "building tree 104 of 200\n",
      "building tree 105 of 200\n",
      "building tree 106 of 200\n",
      "building tree 107 of 200\n",
      "building tree 108 of 200\n",
      "building tree 109 of 200\n",
      "building tree 110 of 200\n",
      "building tree 111 of 200\n",
      "building tree 112 of 200\n",
      "building tree 113 of 200\n",
      "building tree 114 of 200\n",
      "building tree 115 of 200\n",
      "building tree 116 of 200\n",
      "building tree 117 of 200\n",
      "building tree 118 of 200\n",
      "building tree 119 of 200\n",
      "building tree 120 of 200\n",
      "building tree 121 of 200\n",
      "building tree 122 of 200\n",
      "building tree 123 of 200\n",
      "building tree 124 of 200\n",
      "building tree 125 of 200\n",
      "building tree 126 of 200\n",
      "building tree 127 of 200\n",
      "building tree 128 of 200\n",
      "building tree 129 of 200\n",
      "building tree 130 of 200\n",
      "building tree 131 of 200\n",
      "building tree 132 of 200\n",
      "building tree 133 of 200\n",
      "building tree 134 of 200\n",
      "building tree 135 of 200\n",
      "building tree 136 of 200\n",
      "building tree 137 of 200\n",
      "building tree 138 of 200\n",
      "building tree 139 of 200\n",
      "building tree 140 of 200\n",
      "building tree 141 of 200\n",
      "building tree 142 of 200\n",
      "building tree 143 of 200\n",
      "building tree 144 of 200\n",
      "building tree 145 of 200\n",
      "building tree 146 of 200\n",
      "building tree 147 of 200\n",
      "building tree 148 of 200\n",
      "building tree 149 of 200\n",
      "building tree 150 of 200\n",
      "building tree 151 of 200\n",
      "building tree 152 of 200\n",
      "building tree 153 of 200\n",
      "building tree 154 of 200\n",
      "building tree 155 of 200\n",
      "building tree 156 of 200\n",
      "building tree 157 of 200\n",
      "building tree 158 of 200\n",
      "building tree 159 of 200\n"
     ]
    },
    {
     "name": "stderr",
     "output_type": "stream",
     "text": [
      "[Parallel(n_jobs=-2)]: Done 156 tasks      | elapsed:  1.0min\n"
     ]
    },
    {
     "name": "stdout",
     "output_type": "stream",
     "text": [
      "building tree 160 of 200\n",
      "building tree 161 of 200\n",
      "building tree 162 of 200\n",
      "building tree 163 of 200\n",
      "building tree 164 of 200\n",
      "building tree 165 of 200\n",
      "building tree 166 of 200\n",
      "building tree 167 of 200\n",
      "building tree 168 of 200\n",
      "building tree 169 of 200\n",
      "building tree 170 of 200\n",
      "building tree 171 of 200\n",
      "building tree 172 of 200\n",
      "building tree 173 of 200\n",
      "building tree 174 of 200\n",
      "building tree 175 of 200\n",
      "building tree 176 of 200\n",
      "building tree 177 of 200\n",
      "building tree 178 of 200\n",
      "building tree 179 of 200\n",
      "building tree 180 of 200\n",
      "building tree 181 of 200\n",
      "building tree 182 of 200\n",
      "building tree 183 of 200\n",
      "building tree 184 of 200\n",
      "building tree 185 of 200\n",
      "building tree 186 of 200\n",
      "building tree 187 of 200\n",
      "building tree 188 of 200\n",
      "building tree 189 of 200\n",
      "building tree 190 of 200\n",
      "building tree 191 of 200\n",
      "building tree 192 of 200\n",
      "building tree 193 of 200\n",
      "building tree 194 of 200\n",
      "building tree 195 of 200\n",
      "building tree 196 of 200\n",
      "building tree 197 of 200\n",
      "building tree 198 of 200\n",
      "building tree 199 of 200\n",
      "building tree 200 of 200\n"
     ]
    },
    {
     "name": "stderr",
     "output_type": "stream",
     "text": [
      "[Parallel(n_jobs=-2)]: Done 200 out of 200 | elapsed:  1.4min finished\n"
     ]
    }
   ],
   "source": [
    "# Fit classifier to training set\n",
    "clf = clf.fit(X_train_imp, y_train, sample_weight=sample_weight)"
   ]
  },
  {
   "cell_type": "code",
   "execution_count": 62,
   "metadata": {},
   "outputs": [
    {
     "name": "stderr",
     "output_type": "stream",
     "text": [
      "[Parallel(n_jobs=3)]: Using backend ThreadingBackend with 3 concurrent workers.\n",
      "[Parallel(n_jobs=3)]: Done  35 tasks      | elapsed:    0.2s\n",
      "[Parallel(n_jobs=3)]: Done 156 tasks      | elapsed:    0.9s\n",
      "[Parallel(n_jobs=3)]: Done 200 out of 200 | elapsed:    1.1s finished\n",
      "[Parallel(n_jobs=3)]: Using backend ThreadingBackend with 3 concurrent workers.\n",
      "[Parallel(n_jobs=3)]: Done  35 tasks      | elapsed:    0.2s\n",
      "[Parallel(n_jobs=3)]: Done 156 tasks      | elapsed:    0.9s\n",
      "[Parallel(n_jobs=3)]: Done 200 out of 200 | elapsed:    1.1s finished\n"
     ]
    },
    {
     "name": "stdout",
     "output_type": "stream",
     "text": [
      "=============================New RF training report=============================\n",
      "Accuracy: 1.0000\n",
      "MSE: 0.0000\n",
      "Confusion matrix:\n",
      "[[199021      0]\n",
      " [     0    343]]\n",
      "Classification report:\n",
      "              precision    recall  f1-score   support\n",
      "\n",
      "           0       1.00      1.00      1.00    199021\n",
      "           1       1.00      1.00      1.00       343\n",
      "\n",
      "    accuracy                           1.00    199364\n",
      "   macro avg       1.00      1.00      1.00    199364\n",
      "weighted avg       1.00      1.00      1.00    199364\n",
      "\n"
     ]
    }
   ],
   "source": [
    "# Compute training metrics\n",
    "accuracy = clf.score(X_train_imp, y_train)\n",
    "\n",
    "#  Predict labels of test set\n",
    "train_pred = clf.predict(X_train_imp)\n",
    "\n",
    "# Compute MSE, confusion matrix, classification report\n",
    "mse = mean_squared_error(y_train, train_pred)\n",
    "conf_mat = confusion_matrix(y_train.round(), train_pred.round())\n",
    "clas_rep = classification_report(y_train.round(), train_pred.round())\n",
    "\n",
    "# Print reports\n",
    "print('{:=^80}'.format('New RF training report'))\n",
    "print('Accuracy: %.4f' % accuracy)\n",
    "print(\"MSE: %.4f\" % mse)\n",
    "print(\"Confusion matrix:\\n{}\".format(conf_mat))\n",
    "print(\"Classification report:\\n{}\".format(clas_rep))"
   ]
  },
  {
   "cell_type": "code",
   "execution_count": 63,
   "metadata": {},
   "outputs": [
    {
     "name": "stderr",
     "output_type": "stream",
     "text": [
      "[Parallel(n_jobs=3)]: Using backend ThreadingBackend with 3 concurrent workers.\n",
      "[Parallel(n_jobs=3)]: Done  35 tasks      | elapsed:    0.1s\n",
      "[Parallel(n_jobs=3)]: Done 156 tasks      | elapsed:    0.4s\n",
      "[Parallel(n_jobs=3)]: Done 200 out of 200 | elapsed:    0.5s finished\n",
      "[Parallel(n_jobs=3)]: Using backend ThreadingBackend with 3 concurrent workers.\n",
      "[Parallel(n_jobs=3)]: Done  35 tasks      | elapsed:    0.1s\n",
      "[Parallel(n_jobs=3)]: Done 156 tasks      | elapsed:    0.4s\n",
      "[Parallel(n_jobs=3)]: Done 200 out of 200 | elapsed:    0.5s finished\n"
     ]
    },
    {
     "name": "stdout",
     "output_type": "stream",
     "text": [
      "=============================New RF testing report==============================\n",
      "Accuracy: 0.9995\n",
      "MSE: 0.0005\n",
      "Confusion matrix:\n",
      "[[85287     7]\n",
      " [   37   112]]\n",
      "Classification report:\n",
      "              precision    recall  f1-score   support\n",
      "\n",
      "           0       1.00      1.00      1.00     85294\n",
      "           1       0.94      0.75      0.84       149\n",
      "\n",
      "    accuracy                           1.00     85443\n",
      "   macro avg       0.97      0.88      0.92     85443\n",
      "weighted avg       1.00      1.00      1.00     85443\n",
      "\n"
     ]
    }
   ],
   "source": [
    "# Compute testing metrics\n",
    "accuracy = clf.score(X_test_imp, y_test)\n",
    "\n",
    "# Predict labels of test set\n",
    "y_pred = clf.predict(X_test_imp)\n",
    "\n",
    "# Compute MSE, confusion matrix, classification report\n",
    "mse = mean_squared_error(y_test, y_pred)\n",
    "conf_mat = confusion_matrix(y_test.round(), y_pred.round())\n",
    "clas_rep = classification_report(y_test.round(), y_pred.round())\n",
    "\n",
    "# Print reports\n",
    "print('{:=^80}'.format('New RF testing report'))\n",
    "print('Accuracy: %.4f' % accuracy)\n",
    "print(\"MSE: %.4f\" % mse)\n",
    "print(\"Confusion matrix:\\n{}\".format(conf_mat))\n",
    "print(\"Classification report:\\n{}\".format(clas_rep))"
   ]
  },
  {
   "cell_type": "code",
   "execution_count": 64,
   "metadata": {},
   "outputs": [
    {
     "name": "stderr",
     "output_type": "stream",
     "text": [
      "[Parallel(n_jobs=3)]: Using backend ThreadingBackend with 3 concurrent workers.\n",
      "[Parallel(n_jobs=3)]: Done  35 tasks      | elapsed:    0.1s\n",
      "[Parallel(n_jobs=3)]: Done 156 tasks      | elapsed:    0.4s\n",
      "[Parallel(n_jobs=3)]: Done 200 out of 200 | elapsed:    0.5s finished\n"
     ]
    }
   ],
   "source": [
    "# Compute predicted probabilities\n",
    "y_pred_prob = clf.predict_proba(X_test_imp)[:,1]"
   ]
  },
  {
   "cell_type": "code",
   "execution_count": 65,
   "metadata": {},
   "outputs": [
    {
     "name": "stdout",
     "output_type": "stream",
     "text": [
      "AUPRC: 0.8486548057918583\n"
     ]
    },
    {
     "data": {
      "image/png": "[encoded data removed]",
      "text/plain": [
       "<Figure size 432x288 with 1 Axes>"
      ]
     },
     "metadata": {
      "needs_background": "light"
     },
     "output_type": "display_data"
    }
   ],
   "source": [
    "# Compute AUPRC score\n",
    "average_precision = average_precision_score(y_test, y_pred_prob)\n",
    "print(\"AUPRC: {}\".format(average_precision))\n",
    "\n",
    "# Plot PR curve\n",
    "precision, recall, _ = precision_recall_curve(y_test, y_pred_prob)\n",
    "step_kwargs = ({'step': 'post'}\n",
    "               if 'step' in signature(plt.fill_between).parameters\n",
    "               else {})\n",
    "plt.step(recall, precision, color='b', alpha=0.2, where='post')\n",
    "plt.fill_between(recall, precision, alpha=0.2, color='b', **step_kwargs)\n",
    "\n",
    "plt.xlabel('Recall')\n",
    "plt.ylabel('Precision')\n",
    "plt.ylim([0.0, 1.05])\n",
    "plt.xlim([0.0, 1.0])\n",
    "plt.title('New RF Testing\\n2-class Precision-Recall curve: AP={0:0.4f}'.format(average_precision))\n",
    "plt.show()"
   ]
  },
  {
   "cell_type": "markdown",
   "metadata": {},
   "source": [
    "The testing AUPRC has not decreased after retraining the RF with the 24 most important of 29 features. We now have a more cost-effective RF classifier that has the same predictive power, but requires less data to train. These are the final scores:  \n",
    " \n",
    "<table>\n",
    "  <tr>\n",
    "    <th>Classifier</th>\n",
    "    <th>AUPRC</th>\n",
    "  </tr>\n",
    "  <tr>\n",
    "    <td>Random Forest (24 most important features)</td>\n",
    "    <td>0.8487</td>\n",
    "  </tr>\n",
    "  <tr>\n",
    "    <td>Random Forest (all 29 features)</td>\n",
    "    <td>0.8456</td>\n",
    "  </tr>\n",
    "  <tr>\n",
    "    <td>Kernel Support Vector Classifier</td>\n",
    "    <td>0.8081</td>\n",
    "  </tr>\n",
    "  <tr>\n",
    "    <td>Logistic Regression</td>\n",
    "    <td>0.7822</td>\n",
    "  </tr>\n",
    "  <tr>\n",
    "    <td>Stochastic Boosted Regression</td>\n",
    "    <td>0.7164</td>\n",
    "  </tr>\n",
    "</table> "
   ]
  },
  {
   "cell_type": "code",
   "execution_count": null,
   "metadata": {},
   "outputs": [],
   "source": []
  },
  {
   "cell_type": "markdown",
   "metadata": {},
   "source": [
    "## 3.4.1 XGBoost"
   ]
  },
  {
   "cell_type": "code",
   "execution_count": 66,
   "metadata": {},
   "outputs": [
    {
     "name": "stdout",
     "output_type": "stream",
     "text": [
      "XGB ROCAUC on validation data: 0.97667 0.01764\n"
     ]
    }
   ],
   "source": [
    "from xgboost import XGBClassifier, plot_importance\n",
    "from sklearn.model_selection import KFold\n",
    "\n",
    "kfold = KFold(n_splits=10, random_state=42)\n",
    "clf = XGBClassifier(objective ='reg:logistic')\n",
    "cv_results = cross_val_score(clf, X_train, y_train, cv=kfold, scoring='roc_auc')\n",
    "print('XGB ROCAUC on validation data: {0:.5f} {1:.5f}'.format(cv_results.mean(), cv_results.std()))"
   ]
  },
  {
   "cell_type": "code",
   "execution_count": 67,
   "metadata": {},
   "outputs": [
    {
     "name": "stdout",
     "output_type": "stream",
     "text": [
      "==========================Initial SVC training report===========================\n",
      "Accuracy: 1.0000\n",
      "MSE: 0.0000\n",
      "Confusion matrix:\n",
      "[[199021      0]\n",
      " [     0    343]]\n",
      "Classification report:\n",
      "              precision    recall  f1-score   support\n",
      "\n",
      "           0       1.00      1.00      1.00    199021\n",
      "           1       1.00      1.00      1.00       343\n",
      "\n",
      "    accuracy                           1.00    199364\n",
      "   macro avg       1.00      1.00      1.00    199364\n",
      "weighted avg       1.00      1.00      1.00    199364\n",
      "\n"
     ]
    }
   ],
   "source": [
    "# Fit classifier to the training set\n",
    "clf.fit(X_train, y_train)\n",
    "\n",
    "# Compute training metrics\n",
    "accuracy = clf.score(X_train, y_train)\n",
    "\n",
    "#  Predict labels of test set\n",
    "train_pred = clf.predict(X_train)\n",
    "\n",
    "# Compute MSE, confusion matrix, classification report\n",
    "mse = mean_squared_error(y_train, train_pred)\n",
    "conf_mat = confusion_matrix(y_train.round(), train_pred.round())\n",
    "clas_rep = classification_report(y_train.round(), train_pred.round())\n",
    "\n",
    "# Print reports\n",
    "print('{:=^80}'.format('Initial SVC training report'))\n",
    "print('Accuracy: %.4f' % accuracy)\n",
    "print(\"MSE: %.4f\" % mse)\n",
    "print(\"Confusion matrix:\\n{}\".format(conf_mat))\n",
    "print(\"Classification report:\\n{}\".format(clas_rep))"
   ]
  },
  {
   "cell_type": "code",
   "execution_count": 68,
   "metadata": {},
   "outputs": [
    {
     "name": "stdout",
     "output_type": "stream",
     "text": [
      "===========================Initial GBM testing report===========================\n",
      "Accuracy: 0.9995\n",
      "MSE: 0.0005\n",
      "Confusion matrix:\n",
      "[[85290     4]\n",
      " [   35   114]]\n",
      "Classification report:\n",
      "              precision    recall  f1-score   support\n",
      "\n",
      "           0       1.00      1.00      1.00     85294\n",
      "           1       0.97      0.77      0.85       149\n",
      "\n",
      "    accuracy                           1.00     85443\n",
      "   macro avg       0.98      0.88      0.93     85443\n",
      "weighted avg       1.00      1.00      1.00     85443\n",
      "\n"
     ]
    }
   ],
   "source": [
    "# Compute testing metrics\n",
    "accuracy = clf.score(X_test, y_test)\n",
    "\n",
    "# Predict labels of test set\n",
    "y_pred = clf.predict(X_test)\n",
    "\n",
    "# Compute MSE, confusion matrix, classification report\n",
    "mse = mean_squared_error(y_test, y_pred)\n",
    "conf_mat = confusion_matrix(y_test.round(), y_pred.round())\n",
    "clas_rep = classification_report(y_test.round(), y_pred.round())\n",
    "\n",
    "# Print reports\n",
    "print('{:=^80}'.format('Initial GBM testing report'))\n",
    "print('Accuracy: %.4f' % accuracy)\n",
    "print(\"MSE: %.4f\" % mse)\n",
    "print(\"Confusion matrix:\\n{}\".format(conf_mat))\n",
    "print(\"Classification report:\\n{}\".format(clas_rep))"
   ]
  },
  {
   "cell_type": "code",
   "execution_count": 70,
   "metadata": {},
   "outputs": [
    {
     "name": "stdout",
     "output_type": "stream",
     "text": [
      "AUPRC: 0.8466813423703226\n"
     ]
    },
    {
     "data": {
      "image/png": "[encoded data removed]",
      "text/plain": [
       "<Figure size 432x288 with 1 Axes>"
      ]
     },
     "metadata": {
      "needs_background": "light"
     },
     "output_type": "display_data"
    }
   ],
   "source": [
    "# Compute predicted probabilities\n",
    "y_pred_prob = clf.predict_proba(X_test)[:,1]\n",
    "\n",
    "# Compute AUPRC score\n",
    "average_precision = average_precision_score(y_test, y_pred_prob)\n",
    "print(\"AUPRC: {}\".format(average_precision))\n",
    "\n",
    "# Plot PR curve\n",
    "precision, recall, _ = precision_recall_curve(y_test, y_pred_prob)\n",
    "step_kwargs = ({'step': 'post'}\n",
    "               if 'step' in signature(plt.fill_between).parameters\n",
    "               else {})\n",
    "plt.step(recall, precision, color='b', alpha=0.2, where='post')\n",
    "plt.fill_between(recall, precision, alpha=0.2, color='b', **step_kwargs)\n",
    "\n",
    "plt.xlabel('Recall')\n",
    "plt.ylabel('Precision')\n",
    "plt.ylim([0.0, 1.05])\n",
    "plt.xlim([0.0, 1.0])\n",
    "plt.title('XGBoost Testing 2\\n2-class Precision-Recall curve: AP={0:0.4f}'.format(average_precision))\n",
    "plt.show()"
   ]
  },
  {
   "cell_type": "code",
   "execution_count": null,
   "metadata": {},
   "outputs": [],
   "source": []
  },
  {
   "cell_type": "markdown",
   "metadata": {},
   "source": [
    "### 3.4.2 XGBoost with minor Hyperparameter Tuning"
   ]
  },
  {
   "cell_type": "code",
   "execution_count": 71,
   "metadata": {},
   "outputs": [],
   "source": [
    "params = {\n",
    "    'objective':'binary:logistic',\n",
    "    \"n_estimators\":500,\n",
    "    \"max_depth\":9,\n",
    "    \"learning_rate\":0.05,\n",
    "    \"subsample\":0.9,\n",
    "    \"colsample_bytree\":0.9,\n",
    "    \"random_state\":2019,\n",
    "    \"tree_method\":'auto',\n",
    "    \"n_jobs\":-1\n",
    "}"
   ]
  },
  {
   "cell_type": "code",
   "execution_count": 72,
   "metadata": {},
   "outputs": [],
   "source": [
    "imbalance_ratio = float(np.sum(y_train == 0)) / np.sum(y_train == 1)\n",
    "params['scale_pos_weight'] = imbalance_ratio"
   ]
  },
  {
   "cell_type": "code",
   "execution_count": 73,
   "metadata": {},
   "outputs": [],
   "source": [
    "# Training classifier\n",
    "bst = XGBClassifier(**params).fit(X_train, y_train)"
   ]
  },
  {
   "cell_type": "code",
   "execution_count": 74,
   "metadata": {},
   "outputs": [
    {
     "name": "stdout",
     "output_type": "stream",
     "text": [
      "==========================Initial SVC training report===========================\n",
      "Accuracy: 1.0000\n",
      "MSE: 0.0000\n",
      "Confusion matrix:\n",
      "[[199021      0]\n",
      " [     0    343]]\n",
      "Classification report:\n",
      "              precision    recall  f1-score   support\n",
      "\n",
      "           0       1.00      1.00      1.00    199021\n",
      "           1       1.00      1.00      1.00       343\n",
      "\n",
      "    accuracy                           1.00    199364\n",
      "   macro avg       1.00      1.00      1.00    199364\n",
      "weighted avg       1.00      1.00      1.00    199364\n",
      "\n"
     ]
    }
   ],
   "source": [
    "# Compute training metrics\n",
    "accuracy = bst.score(X_train, y_train)\n",
    "\n",
    "#  Predict labels of test set\n",
    "train_pred = bst.predict(X_train)\n",
    "\n",
    "# Compute MSE, confusion matrix, classification report\n",
    "mse = mean_squared_error(y_train, train_pred)\n",
    "conf_mat = confusion_matrix(y_train.round(), train_pred.round())\n",
    "clas_rep = classification_report(y_train.round(), train_pred.round())\n",
    "\n",
    "# Print reports\n",
    "print('{:=^80}'.format('Initial SVC training report'))\n",
    "print('Accuracy: %.4f' % accuracy)\n",
    "print(\"MSE: %.4f\" % mse)\n",
    "print(\"Confusion matrix:\\n{}\".format(conf_mat))\n",
    "print(\"Classification report:\\n{}\".format(clas_rep))"
   ]
  },
  {
   "cell_type": "code",
   "execution_count": 75,
   "metadata": {},
   "outputs": [
    {
     "name": "stdout",
     "output_type": "stream",
     "text": [
      "===========================Initial GBM testing report===========================\n",
      "Accuracy: 0.9995\n",
      "MSE: 0.0005\n",
      "Confusion matrix:\n",
      "[[85284    10]\n",
      " [   30   119]]\n",
      "Classification report:\n",
      "              precision    recall  f1-score   support\n",
      "\n",
      "           0       1.00      1.00      1.00     85294\n",
      "           1       0.92      0.80      0.86       149\n",
      "\n",
      "    accuracy                           1.00     85443\n",
      "   macro avg       0.96      0.90      0.93     85443\n",
      "weighted avg       1.00      1.00      1.00     85443\n",
      "\n"
     ]
    }
   ],
   "source": [
    "# Compute testing metrics\n",
    "accuracy = bst.score(X_test, y_test)\n",
    "\n",
    "# Predict labels of test set\n",
    "y_pred = bst.predict(X_test)\n",
    "\n",
    "# Compute MSE, confusion matrix, classification report\n",
    "mse = mean_squared_error(y_test, y_pred)\n",
    "conf_mat = confusion_matrix(y_test.round(), y_pred.round())\n",
    "clas_rep = classification_report(y_test.round(), y_pred.round())\n",
    "\n",
    "# Print reports\n",
    "print('{:=^80}'.format('Initial GBM testing report'))\n",
    "print('Accuracy: %.4f' % accuracy)\n",
    "print(\"MSE: %.4f\" % mse)\n",
    "print(\"Confusion matrix:\\n{}\".format(conf_mat))\n",
    "print(\"Classification report:\\n{}\".format(clas_rep))"
   ]
  },
  {
   "cell_type": "code",
   "execution_count": 76,
   "metadata": {},
   "outputs": [
    {
     "name": "stdout",
     "output_type": "stream",
     "text": [
      "AUPRC: 0.8510283321285333\n"
     ]
    },
    {
     "data": {
      "image/png": "[encoded data removed]",
      "text/plain": [
       "<Figure size 432x288 with 1 Axes>"
      ]
     },
     "metadata": {
      "needs_background": "light"
     },
     "output_type": "display_data"
    }
   ],
   "source": [
    "# Compute predicted probabilities\n",
    "y_pred_prob = bst.predict_proba(X_test)[:,1]\n",
    "\n",
    "# Compute AUPRC score\n",
    "average_precision = average_precision_score(y_test, y_pred_prob)\n",
    "print(\"AUPRC: {}\".format(average_precision))\n",
    "\n",
    "# Plot PR curve\n",
    "precision, recall, _ = precision_recall_curve(y_test, y_pred_prob)\n",
    "step_kwargs = ({'step': 'post'}\n",
    "               if 'step' in signature(plt.fill_between).parameters\n",
    "               else {})\n",
    "plt.step(recall, precision, color='b', alpha=0.2, where='post')\n",
    "plt.fill_between(recall, precision, alpha=0.2, color='b', **step_kwargs)\n",
    "\n",
    "plt.xlabel('Recall')\n",
    "plt.ylabel('Precision')\n",
    "plt.ylim([0.0, 1.05])\n",
    "plt.xlim([0.0, 1.0])\n",
    "plt.title('XGBoost Testing 2\\n2-class Precision-Recall curve: AP={0:0.4f}'.format(average_precision))\n",
    "plt.show()"
   ]
  },
  {
   "cell_type": "code",
   "execution_count": null,
   "metadata": {},
   "outputs": [],
   "source": []
  },
  {
   "cell_type": "markdown",
   "metadata": {},
   "source": [
    "### 3.4.3 XGBoost Hyperparameter Tuning with Hyperopt (Incomplete)\n",
    "https://github.com/MiladShahidi/Fraud-Detection-XGBoost/blob/master/XGBoost_Fraud_Detection.ipynb\n",
    "https://blog.cambridgespark.com/hyperparameter-tuning-in-xgboost-4ff9100a3b2f"
   ]
  },
  {
   "cell_type": "code",
   "execution_count": 77,
   "metadata": {},
   "outputs": [],
   "source": [
    "params = {\n",
    "    'objective':'binary:logistic',\n",
    "    \"n_estimators\":500,\n",
    "    \"max_depth\":9,\n",
    "    \"learning_rate\":0.24,\n",
    "    \"subsample\":0.92,\n",
    "    \"colsample_bytree\":0.7,\n",
    "    'eta': 0.6416600912978463,\n",
    "    'gamma': 1.2898320900902265,\n",
    "    'min_child_weight': 6.0,\n",
    "    'reg_alpha': 0.6578578116881326,\n",
    "    'reg_lambda': 0.5272026791760148,\n",
    "    \"random_state\":2019,\n",
    "    \"tree_method\":'auto',\n",
    "    \"n_jobs\":-1\n",
    "}\n",
    "\n",
    "imbalance_ratio = float(np.sum(y_train == 0)) / np.sum(y_train == 1)\n",
    "params['scale_pos_weight'] = imbalance_ratio\n",
    "\n",
    "# Training classifier\n",
    "bst = XGBClassifier(**params).fit(X_train, y_train)"
   ]
  },
  {
   "cell_type": "code",
   "execution_count": 78,
   "metadata": {},
   "outputs": [
    {
     "name": "stdout",
     "output_type": "stream",
     "text": [
      "==========================Initial SVC training report===========================\n",
      "Accuracy: 1.0000\n",
      "MSE: 0.0000\n",
      "Confusion matrix:\n",
      "[[199017      4]\n",
      " [     0    343]]\n",
      "Classification report:\n",
      "              precision    recall  f1-score   support\n",
      "\n",
      "           0       1.00      1.00      1.00    199021\n",
      "           1       0.99      1.00      0.99       343\n",
      "\n",
      "    accuracy                           1.00    199364\n",
      "   macro avg       0.99      1.00      1.00    199364\n",
      "weighted avg       1.00      1.00      1.00    199364\n",
      "\n"
     ]
    }
   ],
   "source": [
    "# Compute training metrics\n",
    "accuracy = bst.score(X_train, y_train)\n",
    "\n",
    "#  Predict labels of test set\n",
    "train_pred = bst.predict(X_train)\n",
    "\n",
    "# Compute MSE, confusion matrix, classification report\n",
    "mse = mean_squared_error(y_train, train_pred)\n",
    "conf_mat = confusion_matrix(y_train.round(), train_pred.round())\n",
    "clas_rep = classification_report(y_train.round(), train_pred.round())\n",
    "\n",
    "# Print reports\n",
    "print('{:=^80}'.format('Initial SVC training report'))\n",
    "print('Accuracy: %.4f' % accuracy)\n",
    "print(\"MSE: %.4f\" % mse)\n",
    "print(\"Confusion matrix:\\n{}\".format(conf_mat))\n",
    "print(\"Classification report:\\n{}\".format(clas_rep))"
   ]
  },
  {
   "cell_type": "code",
   "execution_count": 79,
   "metadata": {},
   "outputs": [
    {
     "name": "stdout",
     "output_type": "stream",
     "text": [
      "===========================Initial GBM testing report===========================\n",
      "Accuracy: 0.9996\n",
      "MSE: 0.0004\n",
      "Confusion matrix:\n",
      "[[85283    11]\n",
      " [   27   122]]\n",
      "Classification report:\n",
      "              precision    recall  f1-score   support\n",
      "\n",
      "           0       1.00      1.00      1.00     85294\n",
      "           1       0.92      0.82      0.87       149\n",
      "\n",
      "    accuracy                           1.00     85443\n",
      "   macro avg       0.96      0.91      0.93     85443\n",
      "weighted avg       1.00      1.00      1.00     85443\n",
      "\n"
     ]
    }
   ],
   "source": [
    "# Compute testing metrics\n",
    "accuracy = bst.score(X_test, y_test)\n",
    "\n",
    "# Predict labels of test set\n",
    "y_pred = bst.predict(X_test)\n",
    "\n",
    "# Compute MSE, confusion matrix, classification report\n",
    "mse = mean_squared_error(y_test, y_pred)\n",
    "conf_mat = confusion_matrix(y_test.round(), y_pred.round())\n",
    "clas_rep = classification_report(y_test.round(), y_pred.round())\n",
    "\n",
    "# Print reports\n",
    "print('{:=^80}'.format('Initial GBM testing report'))\n",
    "print('Accuracy: %.4f' % accuracy)\n",
    "print(\"MSE: %.4f\" % mse)\n",
    "print(\"Confusion matrix:\\n{}\".format(conf_mat))\n",
    "print(\"Classification report:\\n{}\".format(clas_rep))"
   ]
  },
  {
   "cell_type": "code",
   "execution_count": 80,
   "metadata": {},
   "outputs": [
    {
     "name": "stdout",
     "output_type": "stream",
     "text": [
      "AUPRC: 0.8536801644068669\n"
     ]
    },
    {
     "data": {
      "image/png": "[encoded data removed]",
      "text/plain": [
       "<Figure size 432x288 with 1 Axes>"
      ]
     },
     "metadata": {
      "needs_background": "light"
     },
     "output_type": "display_data"
    }
   ],
   "source": [
    "# Compute predicted probabilities\n",
    "y_pred_prob = bst.predict_proba(X_test)[:,1]\n",
    "\n",
    "# Compute AUPRC score\n",
    "average_precision = average_precision_score(y_test, y_pred_prob)\n",
    "print(\"AUPRC: {}\".format(average_precision))\n",
    "\n",
    "# Plot PR curve\n",
    "precision, recall, _ = precision_recall_curve(y_test, y_pred_prob)\n",
    "step_kwargs = ({'step': 'post'}\n",
    "               if 'step' in signature(plt.fill_between).parameters\n",
    "               else {})\n",
    "plt.step(recall, precision, color='b', alpha=0.2, where='post')\n",
    "plt.fill_between(recall, precision, alpha=0.2, color='b', **step_kwargs)\n",
    "\n",
    "plt.xlabel('Recall')\n",
    "plt.ylabel('Precision')\n",
    "plt.ylim([0.0, 1.05])\n",
    "plt.xlim([0.0, 1.0])\n",
    "plt.title('XGBoost Testing 2\\n2-class Precision-Recall curve: AP={0:0.4f}'.format(average_precision))\n",
    "plt.show()"
   ]
  },
  {
   "cell_type": "code",
   "execution_count": null,
   "metadata": {},
   "outputs": [],
   "source": []
  },
  {
   "cell_type": "code",
   "execution_count": null,
   "metadata": {},
   "outputs": [],
   "source": []
  },
  {
   "cell_type": "markdown",
   "metadata": {},
   "source": [
    "## 3.5.1 LightGBM"
   ]
  },
  {
   "cell_type": "code",
   "execution_count": 81,
   "metadata": {},
   "outputs": [
    {
     "data": {
      "text/plain": [
       "LGBMClassifier(boosting_type='gbdt', class_weight=None, colsample_bytree=0.3,\n",
       "               importance_type='split', learning_rate=0.03, max_depth=-1,\n",
       "               min_child_samples=10, min_child_weight=0.001, min_split_gain=0.0,\n",
       "               n_estimators=400, n_jobs=-1, nthread=8, num_leaves=45,\n",
       "               objective=None, random_state=None, reg_alpha=0.0, reg_lambda=0.0,\n",
       "               silent=True, subsample=1.0, subsample_for_bin=200000,\n",
       "               subsample_freq=1)"
      ]
     },
     "execution_count": 81,
     "metadata": {},
     "output_type": "execute_result"
    }
   ],
   "source": [
    "# lightgbm version: 2.3.1\n",
    "from lightgbm import LGBMClassifier\n",
    "\n",
    "lgb = LGBMClassifier(nthread=8,\n",
    "                     #objective='logloss',\n",
    "                     n_estimators=400,\n",
    "                     num_leaves=45,\n",
    "                     learning_rate=0.03,\n",
    "                     subsample=1.0,\n",
    "                     subsample_freq=1,\n",
    "                     colsample_bytree=0.3,\n",
    "                     min_child_samples=10)\n",
    "\n",
    "lgb.fit(X_train, y_train, sample_weight=10**y_train)"
   ]
  },
  {
   "cell_type": "code",
   "execution_count": 82,
   "metadata": {},
   "outputs": [
    {
     "name": "stdout",
     "output_type": "stream",
     "text": [
      "==========================Initial SVC training report===========================\n",
      "Accuracy: 1.0000\n",
      "MSE: 0.0000\n",
      "Confusion matrix:\n",
      "[[199021      0]\n",
      " [     0    343]]\n",
      "Classification report:\n",
      "              precision    recall  f1-score   support\n",
      "\n",
      "           0       1.00      1.00      1.00    199021\n",
      "           1       1.00      1.00      1.00       343\n",
      "\n",
      "    accuracy                           1.00    199364\n",
      "   macro avg       1.00      1.00      1.00    199364\n",
      "weighted avg       1.00      1.00      1.00    199364\n",
      "\n"
     ]
    }
   ],
   "source": [
    "# Compute training metrics\n",
    "accuracy = lgb.score(X_train, y_train)\n",
    "\n",
    "#  Predict labels of test set\n",
    "train_pred = lgb.predict(X_train)\n",
    "\n",
    "# Compute MSE, confusion matrix, classification report\n",
    "mse = mean_squared_error(y_train, train_pred)\n",
    "conf_mat = confusion_matrix(y_train.round(), train_pred.round())\n",
    "clas_rep = classification_report(y_train.round(), train_pred.round())\n",
    "\n",
    "# Print reports\n",
    "print('{:=^80}'.format('Initial SVC training report'))\n",
    "print('Accuracy: %.4f' % accuracy)\n",
    "print(\"MSE: %.4f\" % mse)\n",
    "print(\"Confusion matrix:\\n{}\".format(conf_mat))\n",
    "print(\"Classification report:\\n{}\".format(clas_rep))"
   ]
  },
  {
   "cell_type": "code",
   "execution_count": 83,
   "metadata": {},
   "outputs": [
    {
     "name": "stdout",
     "output_type": "stream",
     "text": [
      "===========================Initial GBM testing report===========================\n",
      "Accuracy: 0.9996\n",
      "MSE: 0.0004\n",
      "Confusion matrix:\n",
      "[[85289     5]\n",
      " [   32   117]]\n",
      "Classification report:\n",
      "              precision    recall  f1-score   support\n",
      "\n",
      "           0       1.00      1.00      1.00     85294\n",
      "           1       0.96      0.79      0.86       149\n",
      "\n",
      "    accuracy                           1.00     85443\n",
      "   macro avg       0.98      0.89      0.93     85443\n",
      "weighted avg       1.00      1.00      1.00     85443\n",
      "\n"
     ]
    }
   ],
   "source": [
    "# Compute testing metrics\n",
    "accuracy = lgb.score(X_test, y_test)\n",
    "\n",
    "# Predict labels of test set\n",
    "y_pred = lgb.predict(X_test)\n",
    "\n",
    "# Compute MSE, confusion matrix, classification report\n",
    "mse = mean_squared_error(y_test, y_pred)\n",
    "conf_mat = confusion_matrix(y_test.round(), y_pred.round())\n",
    "clas_rep = classification_report(y_test.round(), y_pred.round())\n",
    "\n",
    "# Print reports\n",
    "print('{:=^80}'.format('Initial GBM testing report'))\n",
    "print('Accuracy: %.4f' % accuracy)\n",
    "print(\"MSE: %.4f\" % mse)\n",
    "print(\"Confusion matrix:\\n{}\".format(conf_mat))\n",
    "print(\"Classification report:\\n{}\".format(clas_rep))"
   ]
  },
  {
   "cell_type": "code",
   "execution_count": 84,
   "metadata": {},
   "outputs": [
    {
     "name": "stdout",
     "output_type": "stream",
     "text": [
      "AUPRC: 0.8450088604095172\n"
     ]
    },
    {
     "data": {
      "image/png": "[encoded data removed]",
      "text/plain": [
       "<Figure size 432x288 with 1 Axes>"
      ]
     },
     "metadata": {
      "needs_background": "light"
     },
     "output_type": "display_data"
    }
   ],
   "source": [
    "# Compute predicted probabilities\n",
    "y_pred_prob = lgb.predict_proba(X_test)[:,1]\n",
    "\n",
    "# Compute AUPRC score\n",
    "average_precision = average_precision_score(y_test, y_pred_prob)\n",
    "print(\"AUPRC: {}\".format(average_precision))\n",
    "\n",
    "# Plot PR curve\n",
    "precision, recall, _ = precision_recall_curve(y_test, y_pred_prob)\n",
    "step_kwargs = ({'step': 'post'}\n",
    "               if 'step' in signature(plt.fill_between).parameters\n",
    "               else {})\n",
    "plt.step(recall, precision, color='b', alpha=0.2, where='post')\n",
    "plt.fill_between(recall, precision, alpha=0.2, color='b', **step_kwargs)\n",
    "\n",
    "plt.xlabel('Recall')\n",
    "plt.ylabel('Precision')\n",
    "plt.ylim([0.0, 1.05])\n",
    "plt.xlim([0.0, 1.0])\n",
    "plt.title('LGBM Testing\\n2-class Precision-Recall curve: AP={0:0.4f}'.format(average_precision))\n",
    "plt.show()"
   ]
  },
  {
   "cell_type": "code",
   "execution_count": null,
   "metadata": {},
   "outputs": [],
   "source": []
  },
  {
   "cell_type": "markdown",
   "metadata": {},
   "source": [
    "--------------"
   ]
  },
  {
   "cell_type": "markdown",
   "metadata": {},
   "source": [
    "## 3.6 Vanilla Model Comparisons without Hyperparameter Tuning (slow)"
   ]
  },
  {
   "cell_type": "code",
   "execution_count": 80,
   "metadata": {},
   "outputs": [
    {
     "name": "stdout",
     "output_type": "stream",
     "text": [
      "LR: 0.750085 (0.034855)\n",
      "LDA: 0.737293 (0.057689)\n",
      "KNN: 0.808893 (0.057579)\n",
      "CART: 0.562843 (0.079149)\n",
      "SVM: 0.821545 (0.042362)\n",
      "XGB: 0.861779 (0.048298)\n",
      "LGBM: 0.861779 (0.048298)\n",
      "RF: 0.845540 (0.048653)\n"
     ]
    }
   ],
   "source": [
    "# https://scikit-learn.org/stable/modules/generated/sklearn.metrics.average_precision_score.html\n",
    "# https://scikit-learn.org/stable/modules/model_evaluation.html\n",
    "\n",
    "##Spot-Checking Algorithms\n",
    "from sklearn.model_selection import KFold\n",
    "from sklearn.discriminant_analysis import LinearDiscriminantAnalysis\n",
    "from sklearn.neighbors import KNeighborsClassifier\n",
    "from sklearn.tree import DecisionTreeClassifier\n",
    "from sklearn.svm import SVC\n",
    "from xgboost import XGBClassifier\n",
    "from lightgbm import LGBMClassifier\n",
    "\n",
    "models = []\n",
    "\n",
    "models.append(('LR', LogisticRegression(solver='lbfgs')))\n",
    "models.append(('LDA', LinearDiscriminantAnalysis()))\n",
    "# slow\n",
    "models.append(('KNN', KNeighborsClassifier()))\n",
    "models.append(('CART', DecisionTreeClassifier()))\n",
    "# slow\n",
    "models.append(('SVM', SVC(gamma='scale')))\n",
    "models.append(('XGB', XGBClassifier()))\n",
    "models.append(('LGBM', XGBClassifier()))\n",
    "# slow\n",
    "models.append(('RF', RandomForestClassifier(n_estimators=200)))\n",
    "\n",
    "#testing models\n",
    "\n",
    "results = []\n",
    "names = []\n",
    "\n",
    "for name, model in models:\n",
    "    kfold = KFold(n_splits=10, random_state=42)\n",
    "    #cv_results = cross_val_score(model, X_train, y_train, cv=kfold, scoring='roc_auc')\n",
    "    cv_results = cross_val_score(model, X_train, y_train, cv=kfold, scoring='average_precision')\n",
    "    results.append(cv_results)\n",
    "    names.append(name)\n",
    "    msg = '%s: %f (%f)' % (name, cv_results.mean(), cv_results.std())\n",
    "    print(msg)"
   ]
  },
  {
   "cell_type": "code",
   "execution_count": 81,
   "metadata": {},
   "outputs": [
    {
     "name": "stderr",
     "output_type": "stream",
     "text": [
      "/opt/anaconda3/lib/python3.7/site-packages/ipykernel_launcher.py:7: MatplotlibDeprecationWarning: Adding an axes using the same arguments as a previous axes currently reuses the earlier instance.  In a future version, a new instance will always be created and returned.  Meanwhile, this warning can be suppressed, and the future behavior ensured, by passing a unique label to each axes instance.\n",
      "  import sys\n"
     ]
    },
    {
     "data": {
      "image/png": "[encoded data removed]",
      "text/plain": [
       "<Figure size 864x720 with 1 Axes>"
      ]
     },
     "metadata": {
      "needs_background": "light"
     },
     "output_type": "display_data"
    }
   ],
   "source": [
    "# Compare Algorithms\n",
    "fig = plt.figure(figsize=(12,10))\n",
    "plt.title('Comparison of Classification Algorithms')\n",
    "plt.xlabel('Algorithm')\n",
    "plt.ylabel('Precision/Recall-AUC Score')\n",
    "plt.boxplot(results)\n",
    "ax = fig.add_subplot(111)\n",
    "ax.set_xticklabels(names)\n",
    "plt.show()"
   ]
  },
  {
   "cell_type": "code",
   "execution_count": 82,
   "metadata": {},
   "outputs": [
    {
     "name": "stdout",
     "output_type": "stream",
     "text": [
      "LR: 0.715674 (0.042302)\n",
      "LDA: 0.817000 (0.047750)\n",
      "KNN: 0.835726 (0.042534)\n",
      "CART: 0.755729 (0.047247)\n",
      "SVM: 0.766839 (0.057141)\n",
      "XGB: 0.865025 (0.044069)\n",
      "LGBM: 0.865025 (0.044069)\n",
      "RF: 0.860488 (0.043102)\n"
     ]
    }
   ],
   "source": [
    "results_f1 = []\n",
    "names_f1 = []\n",
    "\n",
    "for name, model in models:\n",
    "    kfold = KFold(n_splits=10, random_state=42)\n",
    "    #cv_results = cross_val_score(model, X_train, y_train, cv=kfold, scoring='roc_auc')\n",
    "    cv_f1 = cross_val_score(model, X_train, y_train, cv=kfold, scoring='f1')\n",
    "    results_f1.append(cv_f1)\n",
    "    names_f1.append(name)\n",
    "    msg = '%s: %f (%f)' % (name, cv_f1.mean(), cv_f1.std())\n",
    "    print(msg)"
   ]
  },
  {
   "cell_type": "code",
   "execution_count": 83,
   "metadata": {},
   "outputs": [
    {
     "name": "stderr",
     "output_type": "stream",
     "text": [
      "/opt/anaconda3/lib/python3.7/site-packages/ipykernel_launcher.py:6: MatplotlibDeprecationWarning: Adding an axes using the same arguments as a previous axes currently reuses the earlier instance.  In a future version, a new instance will always be created and returned.  Meanwhile, this warning can be suppressed, and the future behavior ensured, by passing a unique label to each axes instance.\n",
      "  \n"
     ]
    },
    {
     "data": {
      "image/png": "[encoded data removed]",
      "text/plain": [
       "<Figure size 864x720 with 1 Axes>"
      ]
     },
     "metadata": {
      "needs_background": "light"
     },
     "output_type": "display_data"
    }
   ],
   "source": [
    "fig = plt.figure(figsize=(12,10))\n",
    "plt.title('Comparison of Classification Algorithms')\n",
    "plt.xlabel('Algorithm')\n",
    "plt.ylabel('F1 Score')\n",
    "plt.boxplot(results_f1)\n",
    "ax = fig.add_subplot(111)\n",
    "ax.set_xticklabels(names_f1)\n",
    "plt.show()"
   ]
  },
  {
   "cell_type": "code",
   "execution_count": null,
   "metadata": {},
   "outputs": [],
   "source": []
  },
  {
   "cell_type": "code",
   "execution_count": null,
   "metadata": {},
   "outputs": [],
   "source": []
  }
 ],
 "metadata": {
  "kernelspec": {
   "display_name": "Python 3",
   "language": "python",
   "name": "python3"
  },
  "language_info": {
   "codemirror_mode": {
    "name": "ipython",
    "version": 3
   },
   "file_extension": ".py",
   "mimetype": "text/x-python",
   "name": "python",
   "nbconvert_exporter": "python",
   "pygments_lexer": "ipython3",
   "version": "3.8.8"
  }
 },
 "nbformat": 4,
 "nbformat_minor": 2
}
